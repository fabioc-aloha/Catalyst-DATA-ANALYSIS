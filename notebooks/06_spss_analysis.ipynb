{
 "cells": [
  {
   "cell_type": "markdown",
   "id": "65defef6",
   "metadata": {},
   "source": [
    "# 📊 SPSS Data Analysis: DBA 710 Multiple Stores\n",
    "\n",
    "## Overview\n",
    "This notebook provides comprehensive analysis of the **DBA 710 Multiple Stores.sav** SPSS dataset, including:\n",
    "- 🔍 **Schema Exploration**: Data structure, variable types, and metadata\n",
    "- 📈 **Descriptive Statistics**: Central tendency, dispersion, and distribution analysis\n",
    "- 🔗 **Correlation Analysis**: Relationships between variables and multivariate patterns\n",
    "- 📋 **Data Quality Assessment**: Missing values, outliers, and data integrity\n",
    "\n",
    "---"
   ]
  },
  {
   "cell_type": "code",
   "execution_count": 10,
   "id": "26607468",
   "metadata": {},
   "outputs": [
    {
     "name": "stdout",
     "output_type": "stream",
     "text": [
      "📚 Libraries loaded successfully!\n",
      "🐼 Pandas version: 2.3.1\n",
      "📊 NumPy version: 2.2.6\n",
      "📈 Matplotlib version: 3.10.3\n",
      "✅ Ready for SPSS data analysis!\n"
     ]
    }
   ],
   "source": [
    "# Essential Libraries for SPSS Analysis\n",
    "import pandas as pd\n",
    "import numpy as np\n",
    "import pyreadstat\n",
    "import matplotlib.pyplot as plt\n",
    "import seaborn as sns\n",
    "import plotly.express as px\n",
    "import plotly.graph_objects as go\n",
    "from plotly.subplots import make_subplots\n",
    "import warnings\n",
    "from scipy import stats\n",
    "from scipy.stats import pearsonr, spearmanr\n",
    "import itertools\n",
    "\n",
    "# Configure display settings\n",
    "pd.set_option('display.max_columns', None)\n",
    "pd.set_option('display.max_rows', 100)\n",
    "pd.set_option('display.width', 1000)\n",
    "pd.set_option('display.float_format', '{:.4f}'.format)\n",
    "\n",
    "# Configure visualization settings\n",
    "plt.style.use('default')\n",
    "sns.set_palette(\"husl\")\n",
    "warnings.filterwarnings('ignore')\n",
    "\n",
    "# Enterprise color palette\n",
    "enterprise_colors = {\n",
    "    'primary': '#1f77b4',\n",
    "    'secondary': '#ff7f0e', \n",
    "    'success': '#2ca02c',\n",
    "    'warning': '#d62728',\n",
    "    'info': '#9467bd',\n",
    "    'accent': '#8c564b'\n",
    "}\n",
    "\n",
    "print(\"📚 Libraries loaded successfully!\")\n",
    "print(f\"🐼 Pandas version: {pd.__version__}\")\n",
    "print(f\"📊 NumPy version: {np.__version__}\")\n",
    "print(f\"📈 Matplotlib version: {plt.matplotlib.__version__}\")\n",
    "print(\"✅ Ready for SPSS data analysis!\")"
   ]
  },
  {
   "cell_type": "markdown",
   "id": "e5bf7e25",
   "metadata": {},
   "source": [
    "## 📂 Data Loading & Initial Inspection\n",
    "\n",
    "Let's load the SPSS file and examine its basic structure and metadata."
   ]
  },
  {
   "cell_type": "code",
   "execution_count": 11,
   "id": "4936bdfc",
   "metadata": {},
   "outputs": [
    {
     "name": "stdout",
     "output_type": "stream",
     "text": [
      "[INFO] Enterprise modules not found. Using standard libraries only.\n",
      "Loaded SPSS file: DBA 710 Multiple Stores.sav\n",
      "Shape: (869, 8)\n"
     ]
    }
   ],
   "source": [
    "# --- Enterprise SPSS Data Analysis Setup ---\n",
    "import pandas as pd\n",
    "import numpy as np\n",
    "import matplotlib.pyplot as plt\n",
    "import seaborn as sns\n",
    "import plotly.express as px\n",
    "import pyreadstat\n",
    "from scipy.stats import pearsonr, spearmanr\n",
    "\n",
    "# Enterprise module imports with graceful fallback\n",
    "try:\n",
    "    from enterprise_data import DataLoader\n",
    "    from enterprise_viz import EnterpriseVisualizer\n",
    "except ImportError:\n",
    "    DataLoader = None\n",
    "    EnterpriseVisualizer = None\n",
    "    print(\"[INFO] Enterprise modules not found. Using standard libraries only.\")\n",
    "\n",
    "# Color palette for enterprise visualizations\n",
    "enterprise_colors = {\n",
    "    'primary': '#005A9C',\n",
    "    'secondary': '#FFC20E',\n",
    "    'accent': '#D7263D',\n",
    "    'background': '#F4F4F4',\n",
    "    'text': '#222222'\n",
    "}\n",
    "\n",
    "# Load SPSS data with robust error handling\n",
    "spss_file = 'DBA 710 Multiple Stores.sav'\n",
    "try:\n",
    "    df, meta = pyreadstat.read_sav(spss_file)\n",
    "    print(f\"Loaded SPSS file: {spss_file}\")\n",
    "    print(f\"Shape: {df.shape}\")\n",
    "except FileNotFoundError:\n",
    "    print(f\"[ERROR] SPSS file not found: {spss_file}\")\n",
    "    df = pd.DataFrame()\n",
    "    meta = None\n",
    "except Exception as e:\n",
    "    print(f\"[ERROR] Failed to load SPSS file: {e}\")\n",
    "    df = pd.DataFrame()\n",
    "    meta = None"
   ]
  },
  {
   "cell_type": "markdown",
   "id": "3e27184c",
   "metadata": {},
   "source": [
    "## 🔍 Comprehensive Schema Analysis\n",
    "\n",
    "Detailed exploration of the dataset structure, variable types, and SPSS metadata."
   ]
  },
  {
   "cell_type": "code",
   "execution_count": 12,
   "id": "414c37a8",
   "metadata": {},
   "outputs": [
    {
     "name": "stdout",
     "output_type": "stream",
     "text": [
      "DataFrame Info:\n",
      "<class 'pandas.core.frame.DataFrame'>\n",
      "RangeIndex: 869 entries, 0 to 868\n",
      "Data columns (total 8 columns):\n",
      " #   Column     Non-Null Count  Dtype  \n",
      "---  ------     --------------  -----  \n",
      " 0   OWNERSHIP  869 non-null    float64\n",
      " 1   STATE      869 non-null    float64\n",
      " 2   FACTYPE    869 non-null    float64\n",
      " 3   BLDGAGE    869 non-null    float64\n",
      " 4   ROISCORE   869 non-null    float64\n",
      " 5   CUSTSCORE  869 non-null    float64\n",
      " 6   SETTING    869 non-null    float64\n",
      " 7   PRODMIX    869 non-null    float64\n",
      "dtypes: float64(8)\n",
      "memory usage: 54.4 KB\n",
      "None\n",
      "\n",
      "DataFrame Description:\n",
      "       OWNERSHIP    STATE  FACTYPE  BLDGAGE  ROISCORE  CUSTSCORE  SETTING  PRODMIX\n",
      "count   869.0000 869.0000 869.0000 869.0000  869.0000   869.0000 869.0000 869.0000\n",
      "mean      0.6605   3.5132   0.4787  10.1623   15.2796    25.0380   0.5443   1.9275\n",
      "std       0.4738   1.6018   0.4998   2.8809    3.6175     3.9434   0.4983   0.8220\n",
      "min       0.0000   1.0000   0.0000   1.0000    7.0000    14.0000   0.0000   1.0000\n",
      "25%       0.0000   2.0000   0.0000   9.0000   13.0000    23.0000   0.0000   1.0000\n",
      "50%       1.0000   4.0000   0.0000  11.0000   15.0000    24.0000   1.0000   2.0000\n",
      "75%       1.0000   5.0000   1.0000  11.0000   18.0000    28.0000   1.0000   3.0000\n",
      "max       1.0000   6.0000   1.0000  22.0000   29.0000    36.0000   1.0000   3.0000\n",
      "\n",
      "First 5 Rows:\n",
      "   OWNERSHIP  STATE  FACTYPE  BLDGAGE  ROISCORE  CUSTSCORE  SETTING  PRODMIX\n",
      "0     0.0000 2.0000   1.0000  13.0000   25.0000    17.0000   0.0000   1.0000\n",
      "1     1.0000 1.0000   1.0000  13.0000   19.0000    14.0000   0.0000   3.0000\n",
      "2     1.0000 6.0000   1.0000  13.0000   19.0000    14.0000   0.0000   3.0000\n",
      "3     1.0000 6.0000   1.0000  12.0000   19.0000    14.0000   0.0000   3.0000\n",
      "4     0.0000 3.0000   1.0000  13.0000   22.0000    17.0000   0.0000   1.0000\n",
      "\n",
      "Missing Values:\n",
      "OWNERSHIP    0\n",
      "STATE        0\n",
      "FACTYPE      0\n",
      "BLDGAGE      0\n",
      "ROISCORE     0\n",
      "CUSTSCORE    0\n",
      "SETTING      0\n",
      "PRODMIX      0\n",
      "dtype: int64\n",
      "\n",
      "Duplicates:\n",
      "357\n",
      "\n",
      "Variable Definitions:\n",
      "['OWNERSHIP', 'STATE', 'FACTYPE', 'BLDGAGE', 'ROISCORE', 'CUSTSCORE', 'SETTING', 'PRODMIX']\n"
     ]
    }
   ],
   "source": [
    "# --- Initial Data Inspection & Documentation ---\n",
    "if not df.empty:\n",
    "    print(\"DataFrame Info:\")\n",
    "    print(df.info())\n",
    "    print(\"\\nDataFrame Description:\")\n",
    "    print(df.describe(include='all'))\n",
    "    print(\"\\nFirst 5 Rows:\")\n",
    "    print(df.head())\n",
    "    print(\"\\nMissing Values:\")\n",
    "    print(df.isnull().sum())\n",
    "    print(\"\\nDuplicates:\")\n",
    "    print(df.duplicated().sum())\n",
    "    # Document variable definitions if available\n",
    "    if meta is not None:\n",
    "        print(\"\\nVariable Definitions:\")\n",
    "        print(meta.column_names)\n",
    "else:\n",
    "    print(\"[INFO] DataFrame is empty. Skipping inspection.\")"
   ]
  },
  {
   "cell_type": "markdown",
   "id": "5eab0c96",
   "metadata": {},
   "source": [
    "## 📈 Comprehensive Descriptive Statistics\n",
    "\n",
    "Detailed statistical analysis for all variables, including measures of central tendency, dispersion, and distribution shape."
   ]
  },
  {
   "cell_type": "code",
   "execution_count": 13,
   "id": "094ae103",
   "metadata": {},
   "outputs": [
    {
     "name": "stdout",
     "output_type": "stream",
     "text": [
      "Missing Data Fraction by Column:\n",
      "OWNERSHIP   0.0000\n",
      "STATE       0.0000\n",
      "FACTYPE     0.0000\n",
      "BLDGAGE     0.0000\n",
      "ROISCORE    0.0000\n",
      "CUSTSCORE   0.0000\n",
      "SETTING     0.0000\n",
      "PRODMIX     0.0000\n",
      "dtype: float64\n",
      "Outliers in OWNERSHIP: 0\n",
      "Outliers in STATE: 0\n",
      "Outliers in FACTYPE: 0\n",
      "Outliers in BLDGAGE: 107\n",
      "Outliers in ROISCORE: 1\n",
      "Outliers in CUSTSCORE: 12\n",
      "Outliers in SETTING: 0\n",
      "Outliers in PRODMIX: 0\n",
      "Range for OWNERSHIP: min=0.0, max=1.0\n",
      "Range for STATE: min=1.0, max=6.0\n",
      "Range for FACTYPE: min=0.0, max=1.0\n",
      "Range for BLDGAGE: min=1.0, max=22.0\n",
      "Range for ROISCORE: min=7.0, max=29.0\n",
      "Range for CUSTSCORE: min=14.0, max=36.0\n",
      "Range for SETTING: min=0.0, max=1.0\n",
      "Range for PRODMIX: min=1.0, max=3.0\n"
     ]
    }
   ],
   "source": [
    "# --- Data Quality Assessment ---\n",
    "if not df.empty:\n",
    "    # Missing data patterns\n",
    "    missing_summary = df.isnull().mean().sort_values(ascending=False)\n",
    "    print(\"Missing Data Fraction by Column:\")\n",
    "    print(missing_summary)\n",
    "    \n",
    "    # Outlier detection (IQR method for numeric columns)\n",
    "    numeric_cols = df.select_dtypes(include=np.number).columns\n",
    "    for col in numeric_cols:\n",
    "        q1 = df[col].quantile(0.25)\n",
    "        q3 = df[col].quantile(0.75)\n",
    "        iqr = q3 - q1\n",
    "        outliers = ((df[col] < (q1 - 1.5 * iqr)) | (df[col] > (q3 + 1.5 * iqr))).sum()\n",
    "        print(f\"Outliers in {col}: {outliers}\")\n",
    "    \n",
    "    # Validate data ranges\n",
    "    for col in numeric_cols:\n",
    "        print(f\"Range for {col}: min={df[col].min()}, max={df[col].max()}\")\n",
    "else:\n",
    "    print(\"[INFO] DataFrame is empty. Skipping data quality assessment.\")"
   ]
  },
  {
   "cell_type": "markdown",
   "id": "5ddbed3f",
   "metadata": {},
   "source": [
    "## 🔗 Comprehensive Correlation Analysis\n",
    "\n",
    "Multi-faceted correlation analysis including Pearson, Spearman, and visualization techniques."
   ]
  },
  {
   "cell_type": "code",
   "execution_count": 14,
   "id": "9b8537e9",
   "metadata": {},
   "outputs": [
    {
     "name": "stdout",
     "output_type": "stream",
     "text": [
      "Analysis Decisions:\n",
      "- missing_data_strategy: Listwise deletion for initial analysis\n",
      "- outlier_detection: IQR method\n",
      "- statistical_tests: Pearson and Spearman correlation\n",
      "- effect_size: r\n",
      "- multiple_comparisons: None for exploratory analysis\n",
      "- confidence_intervals: Not computed in this notebook\n"
     ]
    }
   ],
   "source": [
    "# --- Reproducible Analysis Workflow ---\n",
    "import random\n",
    "random.seed(42)\n",
    "np.random.seed(42)\n",
    "\n",
    "# Document analysis decisions\n",
    "analysis_decisions = {\n",
    "    'missing_data_strategy': 'Listwise deletion for initial analysis',\n",
    "    'outlier_detection': 'IQR method',\n",
    "    'statistical_tests': 'Pearson and Spearman correlation',\n",
    "    'effect_size': 'r',\n",
    "    'multiple_comparisons': 'None for exploratory analysis',\n",
    "    'confidence_intervals': 'Not computed in this notebook',\n",
    "}\n",
    "print(\"Analysis Decisions:\")\n",
    "for k, v in analysis_decisions.items():\n",
    "    print(f\"- {k}: {v}\")\n",
    "\n",
    "# Note: Version control recommended for all analysis scripts."
   ]
  },
  {
   "cell_type": "markdown",
   "id": "1f9cefab",
   "metadata": {},
   "source": [
    "## 📊 Advanced Correlation Visualizations\n",
    "\n",
    "Interactive and static visualizations to explore correlation patterns and relationships."
   ]
  },
  {
   "cell_type": "code",
   "execution_count": 15,
   "id": "4787615b",
   "metadata": {},
   "outputs": [
    {
     "data": {
      "image/png": "[encoded data removed]",
      "text/plain": [
       "<Figure size 1000x800 with 2 Axes>"
      ]
     },
     "metadata": {},
     "output_type": "display_data"
    }
   ],
   "source": [
    "# --- Advanced Correlation Visualizations ---\n",
    "if not df.empty:\n",
    "    numeric_vars = df.select_dtypes(include=np.number).columns.tolist()\n",
    "    corr_matrix = df[numeric_vars].corr(method='pearson')\n",
    "    \n",
    "    # Static heatmap with seaborn\n",
    "    plt.figure(figsize=(10, 8))\n",
    "    sns.heatmap(corr_matrix, annot=True, cmap='Blues', fmt='.2f',\n",
    "                cbar_kws={'label': 'Pearson Correlation'},\n",
    "                linewidths=0.5, linecolor=enterprise_colors.get('background', '#F4F4F4'))\n",
    "    plt.title('Pearson Correlation Heatmap', color=enterprise_colors.get('primary', '#005A9C'))\n",
    "    plt.show()\n",
    "    \n",
    "    # Interactive heatmap with plotly\n",
    "    fig = px.imshow(corr_matrix,\n",
    "                    text_auto=True,\n",
    "                    color_continuous_scale=['#F4F4F4', enterprise_colors.get('primary', '#005A9C'), enterprise_colors.get('accent', '#D7263D')],\n",
    "                    labels=dict(x=\"Variable\", y=\"Variable\", color=\"Correlation\"))\n",
    "    fig.update_layout(title='Pearson Correlation Heatmap (Interactive)',\n",
    "                      font=dict(color=enterprise_colors.get('text', '#222222')),\n",
    "                      plot_bgcolor=enterprise_colors.get('background', '#F4F4F4'))\n",
    "    fig.show()\n",
    "else:\n",
    "    print(\"[INFO] DataFrame is empty. Skipping correlation visualizations.\")"
   ]
  },
  {
   "cell_type": "markdown",
   "id": "8486fb60",
   "metadata": {},
   "source": [
    "## 📋 Data Quality Assessment & Summary\n",
    "\n",
    "Comprehensive evaluation of data integrity, missing patterns, and analysis summary."
   ]
  },
  {
   "cell_type": "code",
   "execution_count": 16,
   "id": "2ea86183",
   "metadata": {},
   "outputs": [
    {
     "name": "stdout",
     "output_type": "stream",
     "text": [
      "\n",
      "\n",
      "--- Automated Data Analysis Report ---\n",
      "\n",
      "## Summary Statistics\n",
      "       OWNERSHIP    STATE  FACTYPE  BLDGAGE  ROISCORE  CUSTSCORE  SETTING  PRODMIX\n",
      "count   869.0000 869.0000 869.0000 869.0000  869.0000   869.0000 869.0000 869.0000\n",
      "mean      0.6605   3.5132   0.4787  10.1623   15.2796    25.0380   0.5443   1.9275\n",
      "std       0.4738   1.6018   0.4998   2.8809    3.6175     3.9434   0.4983   0.8220\n",
      "min       0.0000   1.0000   0.0000   1.0000    7.0000    14.0000   0.0000   1.0000\n",
      "25%       0.0000   2.0000   0.0000   9.0000   13.0000    23.0000   0.0000   1.0000\n",
      "50%       1.0000   4.0000   0.0000  11.0000   15.0000    24.0000   1.0000   2.0000\n",
      "75%       1.0000   5.0000   1.0000  11.0000   18.0000    28.0000   1.0000   3.0000\n",
      "max       1.0000   6.0000   1.0000  22.0000   29.0000    36.0000   1.0000   3.0000\n",
      "\n",
      "## Missing Data\n",
      "OWNERSHIP    0\n",
      "STATE        0\n",
      "FACTYPE      0\n",
      "BLDGAGE      0\n",
      "ROISCORE     0\n",
      "CUSTSCORE    0\n",
      "SETTING      0\n",
      "PRODMIX      0\n",
      "\n",
      "## Outlier Summary\n",
      "OWNERSHIP: 0 outliers\n",
      "STATE: 0 outliers\n",
      "FACTYPE: 0 outliers\n",
      "BLDGAGE: 107 outliers\n",
      "ROISCORE: 1 outliers\n",
      "CUSTSCORE: 12 outliers\n",
      "SETTING: 0 outliers\n",
      "PRODMIX: 0 outliers\n",
      "\n",
      "## Correlation Matrix\n",
      "           OWNERSHIP   STATE  FACTYPE  BLDGAGE  ROISCORE  CUSTSCORE  SETTING  PRODMIX\n",
      "OWNERSHIP     1.0000  0.4120  -0.0622  -0.1225   -0.0729    -0.0942  -0.1094  -0.1550\n",
      "STATE         0.4120  1.0000  -0.0295   0.0346   -0.0793    -0.0751  -0.1541  -0.2876\n",
      "FACTYPE      -0.0622 -0.0295   1.0000  -0.1228    0.1718    -0.0238   0.0258  -0.0108\n",
      "BLDGAGE      -0.1225  0.0346  -0.1228   1.0000   -0.1929     0.2744   0.1559   0.0006\n",
      "ROISCORE     -0.0729 -0.0793   0.1718  -0.1929    1.0000     0.6373   0.3890   0.0246\n",
      "CUSTSCORE    -0.0942 -0.0751  -0.0238   0.2744    0.6373     1.0000   0.5963   0.0122\n",
      "SETTING      -0.1094 -0.1541   0.0258   0.1559    0.3890     0.5963   1.0000  -0.0048\n",
      "PRODMIX      -0.1550 -0.2876  -0.0108   0.0006    0.0246     0.0122  -0.0048   1.0000\n",
      "\n"
     ]
    }
   ],
   "source": [
    "# --- Automated Report Generation ---\n",
    "if not df.empty:\n",
    "    report = []\n",
    "    # Summary statistics\n",
    "    desc = df.describe(include='all').to_string()\n",
    "    report.append(\"## Summary Statistics\\n\" + desc)\n",
    "    # Missing data\n",
    "    missing = df.isnull().sum().to_string()\n",
    "    report.append(\"## Missing Data\\n\" + missing)\n",
    "    # Outlier summary\n",
    "    numeric_cols = df.select_dtypes(include=np.number).columns\n",
    "    outlier_report = []\n",
    "    for col in numeric_cols:\n",
    "        q1 = df[col].quantile(0.25)\n",
    "        q3 = df[col].quantile(0.75)\n",
    "        iqr = q3 - q1\n",
    "        outliers = ((df[col] < (q1 - 1.5 * iqr)) | (df[col] > (q3 + 1.5 * iqr))).sum()\n",
    "        outlier_report.append(f\"{col}: {outliers} outliers\")\n",
    "    report.append(\"## Outlier Summary\\n\" + \"\\n\".join(outlier_report))\n",
    "    # Correlation summary\n",
    "    corr_matrix = df[numeric_cols].corr().to_string()\n",
    "    report.append(\"## Correlation Matrix\\n\" + corr_matrix)\n",
    "    # Print report\n",
    "    print(\"\\n\\n--- Automated Data Analysis Report ---\\n\")\n",
    "    for section in report:\n",
    "        print(section)\n",
    "        print()\n",
    "else:\n",
    "    print(\"[INFO] DataFrame is empty. Skipping report generation.\")"
   ]
  },
  {
   "cell_type": "code",
   "execution_count": 18,
   "id": "b30c1d9f",
   "metadata": {},
   "outputs": [
    {
     "name": "stdout",
     "output_type": "stream",
     "text": [
      "Performing Chi-Square test between: OWNERSHIP and STATE\n",
      "Contingency Table (decoded labels):\n",
      "STATE      Arizona  California  Indiana  Missouri  Texas  Washington\n",
      "OWNERSHIP                                                           \n",
      "Corporate      176           0        0         0      1         118\n",
      "Franchise        0         194      124       128    128           0\n",
      "\n",
      "Chi-Square Statistic: 864.5749\n",
      "Degrees of Freedom: 5\n",
      "p-value: 0.0000\n",
      "Result: Significant association (reject null hypothesis)\n"
     ]
    }
   ],
   "source": [
    "# --- Chi-Square Test of Independence (with SPSS Value Labels Decoded) ---\n",
    "if not df.empty and meta is not None:\n",
    "    # Identify nominal variables using SPSS value labels\n",
    "    nominal_vars = [col for col, labels in meta.variable_value_labels.items() if labels]\n",
    "    if len(nominal_vars) >= 2:\n",
    "        var1, var2 = nominal_vars[0], nominal_vars[1]\n",
    "        print(f\"Performing Chi-Square test between: {var1} and {var2}\")\n",
    "        # Decode value labels for interpretability\n",
    "        df_decoded = df.copy()\n",
    "        for col in [var1, var2]:\n",
    "            if col in meta.variable_value_labels:\n",
    "                df_decoded[col] = df_decoded[col].map(meta.variable_value_labels[col])\n",
    "        contingency_table = pd.crosstab(df_decoded[var1], df_decoded[var2])\n",
    "        print(\"Contingency Table (decoded labels):\")\n",
    "        print(contingency_table)\n",
    "        from scipy.stats import chi2_contingency\n",
    "        chi2, p, dof, expected = chi2_contingency(contingency_table)\n",
    "        print(f\"\\nChi-Square Statistic: {chi2:.4f}\")\n",
    "        print(f\"Degrees of Freedom: {dof}\")\n",
    "        print(f\"p-value: {p:.4f}\")\n",
    "        if p < 0.05:\n",
    "            print(\"Result: Significant association (reject null hypothesis)\")\n",
    "        else:\n",
    "            print(\"Result: No significant association (fail to reject null hypothesis)\")\n",
    "    else:\n",
    "        print(\"[ERROR] Not enough nominal variables with value labels found for Chi-Square test.\")\n",
    "else:\n",
    "    print(\"[INFO] DataFrame or SPSS metadata is missing. Chi-Square test not performed.\")"
   ]
  },
  {
   "cell_type": "markdown",
   "id": "adcfaa7c",
   "metadata": {},
   "source": [
    "## 🧮 Chi-Square Test of Independence\n",
    "\n",
    "This cell performs a Chi-Square test of independence between two nominal (categorical) variables from the SPSS dataset. The variables are selected based on the presence of value labels in the SPSS metadata, ensuring proper decoding for interpretability.\n",
    "\n",
    "**Purpose:**\n",
    "- To determine if there is a statistically significant association between two categorical variables in the dataset.\n",
    "\n",
    "**Method:**\n",
    "- The test uses a contingency table of decoded value labels for the selected variables.\n",
    "- The null hypothesis (H₀): The variables are independent (no association).\n",
    "- The alternative hypothesis (H₁): The variables are associated (not independent).\n",
    "\n",
    "**Interpretation:**\n",
    "- If the p-value < 0.05, there is a significant association (reject H₀).\n",
    "- If the p-value ≥ 0.05, there is no significant association (fail to reject H₀).\n",
    "\n",
    "The output includes the contingency table, chi-square statistic, degrees of freedom, p-value, and interpretation."
   ]
  }
 ],
 "metadata": {
  "kernelspec": {
   "display_name": ".venv",
   "language": "python",
   "name": "python3"
  },
  "language_info": {
   "codemirror_mode": {
    "name": "ipython",
    "version": 3
   },
   "file_extension": ".py",
   "mimetype": "text/x-python",
   "name": "python",
   "nbconvert_exporter": "python",
   "pygments_lexer": "ipython3",
   "version": "3.11.9"
  }
 },
 "nbformat": 4,
 "nbformat_minor": 5
}
