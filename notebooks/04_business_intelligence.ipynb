{
 "cells": [
  {
   "cell_type": "markdown",
   "id": "06ab631f",
   "metadata": {},
   "source": [
    "# Business Intelligence and Executive Dashboards\n",
    "\n",
    "This notebook demonstrates business intelligence capabilities in the Enterprise Data Analysis Cognitive Architecture. We'll create executive dashboards, KPI tracking, and automated reporting systems.\n",
    "\n",
    "## What You'll Learn\n",
    "- Executive dashboard design principles\n",
    "- KPI development and tracking\n",
    "- Interactive data visualizations\n",
    "- Automated report generation\n",
    "- Business intelligence best practices\n",
    "- Stakeholder communication strategies\n",
    "\n",
    "## Prerequisites\n",
    "- Completion of 01_getting_started.ipynb\n",
    "- Basic understanding of business metrics\n",
    "- Familiarity with data visualization concepts"
   ]
  },
  {
   "cell_type": "markdown",
   "id": "fbcc4cf2",
   "metadata": {},
   "source": [
    "## 1. Setup and Business Context"
   ]
  },
  {
   "cell_type": "code",
   "execution_count": 5,
   "id": "fa6bf0a8",
   "metadata": {},
   "outputs": [
    {
     "name": "stdout",
     "output_type": "stream",
     "text": [
      "✅ Enterprise components loaded successfully\n"
     ]
    },
    {
     "data": {
      "text/html": [
       "        <script type=\"text/javascript\">\n",
       "        window.PlotlyConfig = {MathJaxConfig: 'local'};\n",
       "        if (window.MathJax && window.MathJax.Hub && window.MathJax.Hub.Config) {window.MathJax.Hub.Config({SVG: {font: \"STIX-Web\"}});}\n",
       "        </script>\n",
       "        <script type=\"module\">import \"https://cdn.plot.ly/plotly-3.0.1.min\"</script>\n",
       "        "
      ]
     },
     "metadata": {},
     "output_type": "display_data"
    },
    {
     "name": "stdout",
     "output_type": "stream",
     "text": [
      "📊 Business Intelligence environment ready!\n"
     ]
    }
   ],
   "source": [
    "# Import required libraries\n",
    "import pandas as pd\n",
    "import numpy as np\n",
    "import matplotlib.pyplot as plt\n",
    "import seaborn as sns\n",
    "import plotly.graph_objects as go\n",
    "import plotly.express as px\n",
    "from plotly.subplots import make_subplots\n",
    "import plotly.offline as pyo\n",
    "from datetime import datetime, timedelta\n",
    "import warnings\n",
    "warnings.filterwarnings('ignore')\n",
    "\n",
    "# Enterprise components\n",
    "import sys\n",
    "sys.path.append('../src')\n",
    "try:\n",
    "    from data_loader import DataLoader\n",
    "    from statistical_analyzer import StatisticalAnalyzer\n",
    "    from visualizer import EnterpriseVisualizer\n",
    "    print(\"✅ Enterprise components loaded successfully\")\n",
    "except ImportError:\n",
    "    print(\"⚠️ Enterprise components not found - using standard libraries only\")\n",
    "\n",
    "# Configuration\n",
    "plt.style.use('seaborn-v0_8')\n",
    "sns.set_palette(\"Set2\")\n",
    "np.random.seed(42)\n",
    "\n",
    "# Set up for interactive plots\n",
    "pyo.init_notebook_mode(connected=True)\n",
    "\n",
    "print(\"📊 Business Intelligence environment ready!\")"
   ]
  },
  {
   "cell_type": "markdown",
   "id": "4a4273af",
   "metadata": {},
   "source": [
    "## 2. Business Data Generation and Preparation"
   ]
  },
  {
   "cell_type": "code",
   "execution_count": 2,
   "id": "d03170de",
   "metadata": {},
   "outputs": [
    {
     "name": "stdout",
     "output_type": "stream",
     "text": [
      "🏢 CREATING BUSINESS INTELLIGENCE DATASET\n",
      "=======================================================\n",
      "📈 Created business dataset:\n",
      "  • Daily metrics: 931 days (2023-01-01 00:00:00 to 2025-07-19 00:00:00)\n",
      "  • Transactions: 100,001 records\n",
      "  • Revenue range: $44,396 - $204,502\n",
      "  • Total revenue: $97,312,773\n",
      "\n",
      "📊 Current KPIs (30-day average):\n",
      "  • Daily Revenue: $119,236\n",
      "  • Daily Customers: 618\n",
      "  • Average Order Value: $147\n",
      "  • Conversion Rate: 24.3%\n",
      "  • Return Rate: 5.0%\n",
      "📈 Created business dataset:\n",
      "  • Daily metrics: 931 days (2023-01-01 00:00:00 to 2025-07-19 00:00:00)\n",
      "  • Transactions: 100,001 records\n",
      "  • Revenue range: $44,396 - $204,502\n",
      "  • Total revenue: $97,312,773\n",
      "\n",
      "📊 Current KPIs (30-day average):\n",
      "  • Daily Revenue: $119,236\n",
      "  • Daily Customers: 618\n",
      "  • Average Order Value: $147\n",
      "  • Conversion Rate: 24.3%\n",
      "  • Return Rate: 5.0%\n"
     ]
    },
    {
     "data": {
      "text/html": [
       "<div>\n",
       "<style scoped>\n",
       "    .dataframe tbody tr th:only-of-type {\n",
       "        vertical-align: middle;\n",
       "    }\n",
       "\n",
       "    .dataframe tbody tr th {\n",
       "        vertical-align: top;\n",
       "    }\n",
       "\n",
       "    .dataframe thead th {\n",
       "        text-align: right;\n",
       "    }\n",
       "</style>\n",
       "<table border=\"1\" class=\"dataframe\">\n",
       "  <thead>\n",
       "    <tr style=\"text-align: right;\">\n",
       "      <th></th>\n",
       "      <th>date</th>\n",
       "      <th>revenue</th>\n",
       "      <th>customers</th>\n",
       "      <th>orders</th>\n",
       "      <th>returns</th>\n",
       "      <th>support_tickets</th>\n",
       "      <th>marketing_spend</th>\n",
       "      <th>leads_generated</th>\n",
       "      <th>conversions</th>\n",
       "      <th>employees</th>\n",
       "      <th>avg_order_value</th>\n",
       "      <th>return_rate</th>\n",
       "      <th>conversion_rate</th>\n",
       "      <th>customer_acquisition_cost</th>\n",
       "      <th>revenue_per_employee</th>\n",
       "      <th>year</th>\n",
       "      <th>month</th>\n",
       "      <th>quarter</th>\n",
       "      <th>day_of_week</th>\n",
       "      <th>is_weekend</th>\n",
       "    </tr>\n",
       "  </thead>\n",
       "  <tbody>\n",
       "    <tr>\n",
       "      <th>0</th>\n",
       "      <td>2023-01-01</td>\n",
       "      <td>75215.498607</td>\n",
       "      <td>255</td>\n",
       "      <td>337</td>\n",
       "      <td>20</td>\n",
       "      <td>19</td>\n",
       "      <td>4217.292370</td>\n",
       "      <td>449</td>\n",
       "      <td>126</td>\n",
       "      <td>150</td>\n",
       "      <td>223.191391</td>\n",
       "      <td>0.059347</td>\n",
       "      <td>0.280624</td>\n",
       "      <td>33.470574</td>\n",
       "      <td>501.436657</td>\n",
       "      <td>2023</td>\n",
       "      <td>1</td>\n",
       "      <td>1</td>\n",
       "      <td>6</td>\n",
       "      <td>True</td>\n",
       "    </tr>\n",
       "    <tr>\n",
       "      <th>1</th>\n",
       "      <td>2023-01-02</td>\n",
       "      <td>102028.628414</td>\n",
       "      <td>799</td>\n",
       "      <td>1204</td>\n",
       "      <td>59</td>\n",
       "      <td>49</td>\n",
       "      <td>8946.422843</td>\n",
       "      <td>612</td>\n",
       "      <td>187</td>\n",
       "      <td>150</td>\n",
       "      <td>84.741386</td>\n",
       "      <td>0.049003</td>\n",
       "      <td>0.305556</td>\n",
       "      <td>47.841833</td>\n",
       "      <td>680.190856</td>\n",
       "      <td>2023</td>\n",
       "      <td>1</td>\n",
       "      <td>1</td>\n",
       "      <td>0</td>\n",
       "      <td>False</td>\n",
       "    </tr>\n",
       "    <tr>\n",
       "      <th>2</th>\n",
       "      <td>2023-01-03</td>\n",
       "      <td>118711.561144</td>\n",
       "      <td>1318</td>\n",
       "      <td>1792</td>\n",
       "      <td>36</td>\n",
       "      <td>142</td>\n",
       "      <td>13524.342579</td>\n",
       "      <td>911</td>\n",
       "      <td>208</td>\n",
       "      <td>150</td>\n",
       "      <td>66.245291</td>\n",
       "      <td>0.020089</td>\n",
       "      <td>0.228321</td>\n",
       "      <td>65.020878</td>\n",
       "      <td>791.410408</td>\n",
       "      <td>2023</td>\n",
       "      <td>1</td>\n",
       "      <td>1</td>\n",
       "      <td>1</td>\n",
       "      <td>False</td>\n",
       "    </tr>\n",
       "    <tr>\n",
       "      <th>3</th>\n",
       "      <td>2023-01-04</td>\n",
       "      <td>137410.354474</td>\n",
       "      <td>618</td>\n",
       "      <td>939</td>\n",
       "      <td>64</td>\n",
       "      <td>90</td>\n",
       "      <td>10602.320883</td>\n",
       "      <td>997</td>\n",
       "      <td>278</td>\n",
       "      <td>150</td>\n",
       "      <td>146.336906</td>\n",
       "      <td>0.068158</td>\n",
       "      <td>0.278837</td>\n",
       "      <td>38.137845</td>\n",
       "      <td>916.069030</td>\n",
       "      <td>2023</td>\n",
       "      <td>1</td>\n",
       "      <td>1</td>\n",
       "      <td>2</td>\n",
       "      <td>False</td>\n",
       "    </tr>\n",
       "    <tr>\n",
       "      <th>4</th>\n",
       "      <td>2023-01-05</td>\n",
       "      <td>110961.560562</td>\n",
       "      <td>634</td>\n",
       "      <td>1010</td>\n",
       "      <td>67</td>\n",
       "      <td>55</td>\n",
       "      <td>11991.572375</td>\n",
       "      <td>829</td>\n",
       "      <td>149</td>\n",
       "      <td>150</td>\n",
       "      <td>109.862931</td>\n",
       "      <td>0.066337</td>\n",
       "      <td>0.179735</td>\n",
       "      <td>80.480352</td>\n",
       "      <td>739.743737</td>\n",
       "      <td>2023</td>\n",
       "      <td>1</td>\n",
       "      <td>1</td>\n",
       "      <td>3</td>\n",
       "      <td>False</td>\n",
       "    </tr>\n",
       "  </tbody>\n",
       "</table>\n",
       "</div>"
      ],
      "text/plain": [
       "        date        revenue  customers  orders  returns  support_tickets  \\\n",
       "0 2023-01-01   75215.498607        255     337       20               19   \n",
       "1 2023-01-02  102028.628414        799    1204       59               49   \n",
       "2 2023-01-03  118711.561144       1318    1792       36              142   \n",
       "3 2023-01-04  137410.354474        618     939       64               90   \n",
       "4 2023-01-05  110961.560562        634    1010       67               55   \n",
       "\n",
       "   marketing_spend  leads_generated  conversions  employees  avg_order_value  \\\n",
       "0      4217.292370              449          126        150       223.191391   \n",
       "1      8946.422843              612          187        150        84.741386   \n",
       "2     13524.342579              911          208        150        66.245291   \n",
       "3     10602.320883              997          278        150       146.336906   \n",
       "4     11991.572375              829          149        150       109.862931   \n",
       "\n",
       "   return_rate  conversion_rate  customer_acquisition_cost  \\\n",
       "0     0.059347         0.280624                  33.470574   \n",
       "1     0.049003         0.305556                  47.841833   \n",
       "2     0.020089         0.228321                  65.020878   \n",
       "3     0.068158         0.278837                  38.137845   \n",
       "4     0.066337         0.179735                  80.480352   \n",
       "\n",
       "   revenue_per_employee  year  month  quarter  day_of_week  is_weekend  \n",
       "0            501.436657  2023      1        1            6        True  \n",
       "1            680.190856  2023      1        1            0       False  \n",
       "2            791.410408  2023      1        1            1       False  \n",
       "3            916.069030  2023      1        1            2       False  \n",
       "4            739.743737  2023      1        1            3       False  "
      ]
     },
     "execution_count": 2,
     "metadata": {},
     "output_type": "execute_result"
    }
   ],
   "source": [
    "# Create comprehensive business dataset for BI\n",
    "print(\"🏢 CREATING BUSINESS INTELLIGENCE DATASET\")\n",
    "print(\"=\" * 55)\n",
    "\n",
    "# Generate business performance data over time\n",
    "date_range = pd.date_range(start='2023-01-01', end='2025-07-19', freq='D')\n",
    "n_days = len(date_range)\n",
    "\n",
    "# Base business metrics with seasonality and trends\n",
    "np.random.seed(42)\n",
    "\n",
    "# Revenue data with growth trend and seasonality\n",
    "base_revenue = 100000\n",
    "growth_rate = 0.0003  # Daily growth\n",
    "seasonal_factor = 0.2\n",
    "weekend_factor = 0.7\n",
    "\n",
    "daily_revenue = []\n",
    "for i, date in enumerate(date_range):\n",
    "    # Base growth trend\n",
    "    trend_revenue = base_revenue * (1 + growth_rate * i)\n",
    "    \n",
    "    # Seasonal adjustments (monthly cycle)\n",
    "    seasonal_adj = 1 + seasonal_factor * np.sin(2 * np.pi * i / 30)\n",
    "    \n",
    "    # Weekend adjustment\n",
    "    if date.weekday() >= 5:  # Saturday = 5, Sunday = 6\n",
    "        weekend_adj = weekend_factor\n",
    "    else:\n",
    "        weekend_adj = 1.0\n",
    "    \n",
    "    # Random variation\n",
    "    random_factor = np.random.normal(1, 0.15)\n",
    "    \n",
    "    revenue = trend_revenue * seasonal_adj * weekend_adj * random_factor\n",
    "    daily_revenue.append(max(revenue, 0))\n",
    "\n",
    "# Customer metrics\n",
    "daily_customers = []\n",
    "customer_base = 5000\n",
    "for i, revenue in enumerate(daily_revenue):\n",
    "    # Customers correlated with revenue but with own variation\n",
    "    avg_transaction = np.random.normal(200, 50)\n",
    "    customers = int(revenue / max(avg_transaction, 50))\n",
    "    daily_customers.append(customers)\n",
    "\n",
    "# Operational metrics\n",
    "daily_orders = [int(customers * np.random.uniform(1.1, 1.8)) for customers in daily_customers]\n",
    "daily_returns = [int(orders * np.random.uniform(0.02, 0.08)) for orders in daily_orders]\n",
    "daily_support_tickets = [int(customers * np.random.uniform(0.05, 0.15)) for customers in daily_customers]\n",
    "\n",
    "# Marketing metrics\n",
    "daily_marketing_spend = [revenue * np.random.uniform(0.05, 0.12) for revenue in daily_revenue]\n",
    "daily_leads = [int(spend / np.random.uniform(8, 15)) for spend in daily_marketing_spend]\n",
    "daily_conversions = [int(leads * np.random.uniform(0.15, 0.35)) for leads in daily_leads]\n",
    "\n",
    "# Employee metrics\n",
    "base_employees = 150\n",
    "daily_employees = [base_employees + int(i / 30) for i in range(n_days)]  # Growing workforce\n",
    "\n",
    "# Product categories\n",
    "categories = ['Electronics', 'Clothing', 'Home & Garden', 'Sports', 'Books']\n",
    "category_weights = [0.35, 0.25, 0.2, 0.15, 0.05]\n",
    "\n",
    "# Regional data\n",
    "regions = ['North America', 'Europe', 'Asia Pacific', 'Latin America']\n",
    "region_weights = [0.4, 0.3, 0.2, 0.1]\n",
    "\n",
    "# Create comprehensive business dataset\n",
    "business_data = {\n",
    "    'date': date_range,\n",
    "    'revenue': daily_revenue,\n",
    "    'customers': daily_customers,\n",
    "    'orders': daily_orders,\n",
    "    'returns': daily_returns,\n",
    "    'support_tickets': daily_support_tickets,\n",
    "    'marketing_spend': daily_marketing_spend,\n",
    "    'leads_generated': daily_leads,\n",
    "    'conversions': daily_conversions,\n",
    "    'employees': daily_employees\n",
    "}\n",
    "\n",
    "# Add derived metrics\n",
    "business_data['avg_order_value'] = [r/o if o > 0 else 0 for r, o in zip(daily_revenue, daily_orders)]\n",
    "business_data['return_rate'] = [ret/ord if ord > 0 else 0 for ret, ord in zip(daily_returns, daily_orders)]\n",
    "business_data['conversion_rate'] = [conv/lead if lead > 0 else 0 for conv, lead in zip(daily_conversions, daily_leads)]\n",
    "business_data['customer_acquisition_cost'] = [spend/conv if conv > 0 else 0 for spend, conv in zip(daily_marketing_spend, daily_conversions)]\n",
    "business_data['revenue_per_employee'] = [r/e if e > 0 else 0 for r, e in zip(daily_revenue, daily_employees)]\n",
    "\n",
    "# Create detailed transactional data for more granular analysis\n",
    "transaction_data = []\n",
    "transaction_id = 1\n",
    "\n",
    "for i, date in enumerate(date_range):\n",
    "    daily_order_count = daily_orders[i]\n",
    "    daily_rev = daily_revenue[i]\n",
    "    \n",
    "    for order_idx in range(daily_order_count):\n",
    "        # Distribute revenue across orders with variation\n",
    "        base_order_value = daily_rev / daily_order_count\n",
    "        order_value = max(base_order_value * np.random.normal(1, 0.5), 10)\n",
    "        \n",
    "        # Select random category and region\n",
    "        category = np.random.choice(categories, p=category_weights)\n",
    "        region = np.random.choice(regions, p=region_weights)\n",
    "        \n",
    "        # Customer type\n",
    "        customer_type = np.random.choice(['New', 'Returning', 'VIP'], p=[0.3, 0.6, 0.1])\n",
    "        \n",
    "        transaction_data.append({\n",
    "            'transaction_id': transaction_id,\n",
    "            'date': date,\n",
    "            'order_value': order_value,\n",
    "            'category': category,\n",
    "            'region': region,\n",
    "            'customer_type': customer_type,\n",
    "            'payment_method': np.random.choice(['Credit Card', 'PayPal', 'Bank Transfer'], p=[0.6, 0.25, 0.15]),\n",
    "            'delivery_days': np.random.randint(1, 8)\n",
    "        })\n",
    "        \n",
    "        transaction_id += 1\n",
    "        \n",
    "        # Limit to reasonable number of transactions for memory\n",
    "        if len(transaction_data) > 100000:\n",
    "            break\n",
    "    \n",
    "    if len(transaction_data) > 100000:\n",
    "        break\n",
    "\n",
    "# Create DataFrames\n",
    "df_business = pd.DataFrame(business_data)\n",
    "df_transactions = pd.DataFrame(transaction_data)\n",
    "\n",
    "# Add time-based features\n",
    "df_business['year'] = df_business['date'].dt.year\n",
    "df_business['month'] = df_business['date'].dt.month\n",
    "df_business['quarter'] = df_business['date'].dt.quarter\n",
    "df_business['day_of_week'] = df_business['date'].dt.dayofweek\n",
    "df_business['is_weekend'] = df_business['day_of_week'] >= 5\n",
    "\n",
    "df_transactions['year'] = df_transactions['date'].dt.year\n",
    "df_transactions['month'] = df_transactions['date'].dt.month\n",
    "df_transactions['quarter'] = df_transactions['date'].dt.quarter\n",
    "\n",
    "print(f\"📈 Created business dataset:\")\n",
    "print(f\"  • Daily metrics: {len(df_business):,} days ({df_business['date'].min()} to {df_business['date'].max()})\")\n",
    "print(f\"  • Transactions: {len(df_transactions):,} records\")\n",
    "print(f\"  • Revenue range: ${df_business['revenue'].min():,.0f} - ${df_business['revenue'].max():,.0f}\")\n",
    "print(f\"  • Total revenue: ${df_business['revenue'].sum():,.0f}\")\n",
    "\n",
    "# Business KPIs summary\n",
    "current_metrics = df_business.tail(30).mean()  # Last 30 days average\n",
    "print(f\"\\n📊 Current KPIs (30-day average):\")\n",
    "print(f\"  • Daily Revenue: ${current_metrics['revenue']:,.0f}\")\n",
    "print(f\"  • Daily Customers: {current_metrics['customers']:,.0f}\")\n",
    "print(f\"  • Average Order Value: ${current_metrics['avg_order_value']:,.0f}\")\n",
    "print(f\"  • Conversion Rate: {current_metrics['conversion_rate']:.1%}\")\n",
    "print(f\"  • Return Rate: {current_metrics['return_rate']:.1%}\")\n",
    "\n",
    "df_business.head()"
   ]
  },
  {
   "cell_type": "markdown",
   "id": "0e301101",
   "metadata": {},
   "source": [
    "## 3. Executive Dashboard - Key Performance Indicators"
   ]
  },
  {
   "cell_type": "code",
   "execution_count": 3,
   "id": "f04a271a",
   "metadata": {},
   "outputs": [
    {
     "name": "stdout",
     "output_type": "stream",
     "text": [
      "📊 EXECUTIVE DASHBOARD - KEY PERFORMANCE INDICATORS\n",
      "=================================================================\n",
      "📈 90-Day Performance Summary:\n",
      "-----------------------------------\n",
      "Total Revenue: $10,839,618 (+4.6%) 📈\n",
      "Avg Daily Revenue: $120,440 (+4.6%) 📈\n",
      "Total Customers: 60,123 (+12.7%) 📈\n",
      "Avg Order Value: 138 (-7.0%) 📉\n",
      "Conversion Rate: 24.3% (+3.2%) 📈\n",
      "Return Rate: 4.9% (+3.9%) 📈\n",
      "Cac: $50 (-2.8%) 📉\n",
      "Revenue Per Employee: $673 (+2.9%) 📈\n",
      "\n",
      "🎨 Creating Interactive Executive Dashboard...\n"
     ]
    },
    {
     "data": {
      "application/vnd.plotly.v1+json": {
       "config": {
        "plotlyServerURL": "https://plot.ly"
       },
       "data": [
        {
         "line": {
          "color": "#1f77b4",
          "width": 3
         },
         "mode": "lines+markers",
         "name": "Monthly Revenue",
         "type": "scatter",
         "x": [
          "2023-01-01T00:00:00.000000000",
          "2023-02-01T00:00:00.000000000",
          "2023-03-01T00:00:00.000000000",
          "2023-04-01T00:00:00.000000000",
          "2023-05-01T00:00:00.000000000",
          "2023-06-01T00:00:00.000000000",
          "2023-07-01T00:00:00.000000000",
          "2023-08-01T00:00:00.000000000",
          "2023-09-01T00:00:00.000000000",
          "2023-10-01T00:00:00.000000000",
          "2023-11-01T00:00:00.000000000",
          "2023-12-01T00:00:00.000000000",
          "2024-01-01T00:00:00.000000000",
          "2024-02-01T00:00:00.000000000",
          "2024-03-01T00:00:00.000000000",
          "2024-04-01T00:00:00.000000000",
          "2024-05-01T00:00:00.000000000",
          "2024-06-01T00:00:00.000000000",
          "2024-07-01T00:00:00.000000000",
          "2024-08-01T00:00:00.000000000",
          "2024-09-01T00:00:00.000000000",
          "2024-10-01T00:00:00.000000000",
          "2024-11-01T00:00:00.000000000",
          "2024-12-01T00:00:00.000000000",
          "2025-01-01T00:00:00.000000000",
          "2025-02-01T00:00:00.000000000",
          "2025-03-01T00:00:00.000000000",
          "2025-04-01T00:00:00.000000000",
          "2025-05-01T00:00:00.000000000",
          "2025-06-01T00:00:00.000000000",
          "2025-07-01T00:00:00.000000000"
         ],
         "xaxis": "x",
         "y": {
          "bdata": "CEloil4SRUGPI8yvulNDQSTbnau5o0ZBZ2MF1rvvREH76SOQMXZGQbP20+9CDEdB8ucOMLnoRkESugTCyHdHQcwsfzSKFUZBE5Ua4mLSR0EDn88knOFHQVnqVdO6dkdBS0ebthsiSUFeIdw5UDZHQYLdLjVrT0dBckUHTxu/R0F4CNBtrTNJQbOtx0dRmkZBcHdzauaySUFoPyBPx+pJQU5MDAncHklBp7jKapLASUGdL3s09vdIQTb2H2oMuUlBbIJUBM9YSkHEWug3K6FIQUZ5L1ZK00pBHSgswv3iSkEO64JNFhxMQUtWwy3INExBTHIU6BDeP0E=",
          "dtype": "f8"
         },
         "yaxis": "y"
        },
        {
         "line": {
          "color": "#ff7f0e"
         },
         "mode": "lines+markers",
         "name": "Customers",
         "type": "scatter",
         "x": [
          "2023-01-01T00:00:00.000000000",
          "2023-02-01T00:00:00.000000000",
          "2023-03-01T00:00:00.000000000",
          "2023-04-01T00:00:00.000000000",
          "2023-05-01T00:00:00.000000000",
          "2023-06-01T00:00:00.000000000",
          "2023-07-01T00:00:00.000000000",
          "2023-08-01T00:00:00.000000000",
          "2023-09-01T00:00:00.000000000",
          "2023-10-01T00:00:00.000000000",
          "2023-11-01T00:00:00.000000000",
          "2023-12-01T00:00:00.000000000",
          "2024-01-01T00:00:00.000000000",
          "2024-02-01T00:00:00.000000000",
          "2024-03-01T00:00:00.000000000",
          "2024-04-01T00:00:00.000000000",
          "2024-05-01T00:00:00.000000000",
          "2024-06-01T00:00:00.000000000",
          "2024-07-01T00:00:00.000000000",
          "2024-08-01T00:00:00.000000000",
          "2024-09-01T00:00:00.000000000",
          "2024-10-01T00:00:00.000000000",
          "2024-11-01T00:00:00.000000000",
          "2024-12-01T00:00:00.000000000",
          "2025-01-01T00:00:00.000000000",
          "2025-02-01T00:00:00.000000000",
          "2025-03-01T00:00:00.000000000",
          "2025-04-01T00:00:00.000000000",
          "2025-05-01T00:00:00.000000000",
          "2025-06-01T00:00:00.000000000",
          "2025-07-01T00:00:00.000000000"
         ],
         "xaxis": "x2",
         "y": {
          "bdata": "ozrlN605kTYwQYM+bzdWRVo/6j4FQS1AtUS0RrE97zxAQiE520LeTcdEB08APxtANEYoQFZIukqCUQJRISg=",
          "dtype": "i2"
         },
         "yaxis": "y2"
        },
        {
         "line": {
          "color": "#2ca02c"
         },
         "mode": "lines+markers",
         "name": "Orders",
         "type": "scatter",
         "x": [
          "2023-01-01T00:00:00.000000000",
          "2023-02-01T00:00:00.000000000",
          "2023-03-01T00:00:00.000000000",
          "2023-04-01T00:00:00.000000000",
          "2023-05-01T00:00:00.000000000",
          "2023-06-01T00:00:00.000000000",
          "2023-07-01T00:00:00.000000000",
          "2023-08-01T00:00:00.000000000",
          "2023-09-01T00:00:00.000000000",
          "2023-10-01T00:00:00.000000000",
          "2023-11-01T00:00:00.000000000",
          "2023-12-01T00:00:00.000000000",
          "2024-01-01T00:00:00.000000000",
          "2024-02-01T00:00:00.000000000",
          "2024-03-01T00:00:00.000000000",
          "2024-04-01T00:00:00.000000000",
          "2024-05-01T00:00:00.000000000",
          "2024-06-01T00:00:00.000000000",
          "2024-07-01T00:00:00.000000000",
          "2024-08-01T00:00:00.000000000",
          "2024-09-01T00:00:00.000000000",
          "2024-10-01T00:00:00.000000000",
          "2024-11-01T00:00:00.000000000",
          "2024-12-01T00:00:00.000000000",
          "2025-01-01T00:00:00.000000000",
          "2025-02-01T00:00:00.000000000",
          "2025-03-01T00:00:00.000000000",
          "2025-04-01T00:00:00.000000000",
          "2025-05-01T00:00:00.000000000",
          "2025-06-01T00:00:00.000000000",
          "2025-07-01T00:00:00.000000000"
         ],
         "xaxis": "x2",
         "y": {
          "bdata": "VFL/UVBTKlImYFpYMVN3Xipcy1hBXpRdT2DgbBVZV1gOYJxTimFdduNhFHCnXN5aKGcGXGVrq2i1cyp4UDg=",
          "dtype": "i2"
         },
         "yaxis": "y3"
        },
        {
         "line": {
          "color": "#d62728",
          "width": 2
         },
         "mode": "lines+markers",
         "name": "Avg Order Value",
         "type": "scatter",
         "x": [
          "2023-01-01T00:00:00.000000000",
          "2023-02-01T00:00:00.000000000",
          "2023-03-01T00:00:00.000000000",
          "2023-04-01T00:00:00.000000000",
          "2023-05-01T00:00:00.000000000",
          "2023-06-01T00:00:00.000000000",
          "2023-07-01T00:00:00.000000000",
          "2023-08-01T00:00:00.000000000",
          "2023-09-01T00:00:00.000000000",
          "2023-10-01T00:00:00.000000000",
          "2023-11-01T00:00:00.000000000",
          "2023-12-01T00:00:00.000000000",
          "2024-01-01T00:00:00.000000000",
          "2024-02-01T00:00:00.000000000",
          "2024-03-01T00:00:00.000000000",
          "2024-04-01T00:00:00.000000000",
          "2024-05-01T00:00:00.000000000",
          "2024-06-01T00:00:00.000000000",
          "2024-07-01T00:00:00.000000000",
          "2024-08-01T00:00:00.000000000",
          "2024-09-01T00:00:00.000000000",
          "2024-10-01T00:00:00.000000000",
          "2024-11-01T00:00:00.000000000",
          "2024-12-01T00:00:00.000000000",
          "2025-01-01T00:00:00.000000000",
          "2025-02-01T00:00:00.000000000",
          "2025-03-01T00:00:00.000000000",
          "2025-04-01T00:00:00.000000000",
          "2025-05-01T00:00:00.000000000",
          "2025-06-01T00:00:00.000000000",
          "2025-07-01T00:00:00.000000000"
         ],
         "xaxis": "x3",
         "y": {
          "bdata": "hWvkZbZ1YkDuN4R+N1FhQLZaSgpWsmJAPBm1OHPBYUC0xQsYXPhgQJObYz5aeGJAqLTXEfAhY0BL4SMYvpJiQAUAEdbknGBAiqiG97+bYkD0lcrcr/ZhQCNUKMgsl2FAeJS8f6ELYkCe8anQd3pfQGOf8u/8nmJAV8gCzDW7YkAXQZeH3zRiQJJXNc6FpGJAzwQR1U43YkC7+xthr19gQKadaxmL5GFA7+EKns1OYUDJUW9o4qpiQOdCRbgcFWNAO9P8KR7UYUDiu3VKMnNiQJ3491xHAWJANEJZiojJYkCYLPY6d0dhQJsElgd7fmBAPGOMvPoiY0A=",
          "dtype": "f8"
         },
         "yaxis": "y4"
        },
        {
         "line": {
          "color": "#9467bd",
          "width": 2
         },
         "mode": "lines+markers",
         "name": "Marketing ROI (%)",
         "type": "scatter",
         "x": [
          "2023-01-01T00:00:00.000000000",
          "2023-02-01T00:00:00.000000000",
          "2023-03-01T00:00:00.000000000",
          "2023-04-01T00:00:00.000000000",
          "2023-05-01T00:00:00.000000000",
          "2023-06-01T00:00:00.000000000",
          "2023-07-01T00:00:00.000000000",
          "2023-08-01T00:00:00.000000000",
          "2023-09-01T00:00:00.000000000",
          "2023-10-01T00:00:00.000000000",
          "2023-11-01T00:00:00.000000000",
          "2023-12-01T00:00:00.000000000",
          "2024-01-01T00:00:00.000000000",
          "2024-02-01T00:00:00.000000000",
          "2024-03-01T00:00:00.000000000",
          "2024-04-01T00:00:00.000000000",
          "2024-05-01T00:00:00.000000000",
          "2024-06-01T00:00:00.000000000",
          "2024-07-01T00:00:00.000000000",
          "2024-08-01T00:00:00.000000000",
          "2024-09-01T00:00:00.000000000",
          "2024-10-01T00:00:00.000000000",
          "2024-11-01T00:00:00.000000000",
          "2024-12-01T00:00:00.000000000",
          "2025-01-01T00:00:00.000000000",
          "2025-02-01T00:00:00.000000000",
          "2025-03-01T00:00:00.000000000",
          "2025-04-01T00:00:00.000000000",
          "2025-05-01T00:00:00.000000000",
          "2025-06-01T00:00:00.000000000",
          "2025-07-01T00:00:00.000000000"
         ],
         "xaxis": "x4",
         "y": {
          "bdata": "qeQgyFf5jkBnBq+cK2+RQDLpC6O6CJBAzf5ype2wkUAHF7Ajq/CQQPKAw2ly4pBAzbzBXQuRkEBc9X5E/Z2QQJQLQguxT5FAOr4K8vIHkUBl2uHmPyaRQMJpeSvLs5BAmRwUbKKkkECcc8/gNpaQQH5OLI8+1pBAtyfy7SCCkUAP7Nsxo6CQQCTyai12n5FAoJkuua/Bj0Cqj859Kt6QQIfQjYHbu5BAxOEOCbC7kEBps6lv9NCQQDOGDyctkJBAELy1QcUIkUCACBt26WKQQBeyXW2MAZFAwJxMu0H3kEAJnksrVy+QQB8XR45Er5FAQGJl0KT2kUA=",
          "dtype": "f8"
         },
         "yaxis": "y5"
        },
        {
         "domain": {
          "x": [
           0.35777777777777775,
           0.5822222222222222
          ],
          "y": [
           0.3888888888888889,
           0.6111111111111112
          ]
         },
         "hole": 0.3,
         "labels": [
          "Asia Pacific",
          "Europe",
          "Latin America",
          "North America"
         ],
         "name": "Regional Revenue",
         "type": "pie",
         "values": {
          "bdata": "nJA8mz6rQ0HiSW3NBoVNQQpe1nXiODNBxKyGQpSMU0E=",
          "dtype": "f8"
         }
        },
        {
         "line": {
          "color": "#17becf"
         },
         "mode": "lines+markers",
         "name": "Revenue Growth %",
         "type": "scatter",
         "x": [
          "2023-01-01T00:00:00.000000000",
          "2023-02-01T00:00:00.000000000",
          "2023-03-01T00:00:00.000000000",
          "2023-04-01T00:00:00.000000000",
          "2023-05-01T00:00:00.000000000",
          "2023-06-01T00:00:00.000000000",
          "2023-07-01T00:00:00.000000000",
          "2023-08-01T00:00:00.000000000",
          "2023-09-01T00:00:00.000000000",
          "2023-10-01T00:00:00.000000000",
          "2023-11-01T00:00:00.000000000",
          "2023-12-01T00:00:00.000000000",
          "2024-01-01T00:00:00.000000000",
          "2024-02-01T00:00:00.000000000",
          "2024-03-01T00:00:00.000000000",
          "2024-04-01T00:00:00.000000000",
          "2024-05-01T00:00:00.000000000",
          "2024-06-01T00:00:00.000000000",
          "2024-07-01T00:00:00.000000000",
          "2024-08-01T00:00:00.000000000",
          "2024-09-01T00:00:00.000000000",
          "2024-10-01T00:00:00.000000000",
          "2024-11-01T00:00:00.000000000",
          "2024-12-01T00:00:00.000000000",
          "2025-01-01T00:00:00.000000000",
          "2025-02-01T00:00:00.000000000",
          "2025-03-01T00:00:00.000000000",
          "2025-04-01T00:00:00.000000000",
          "2025-05-01T00:00:00.000000000",
          "2025-06-01T00:00:00.000000000",
          "2025-07-01T00:00:00.000000000"
         ],
         "xaxis": "x5",
         "y": {
          "bdata": "AAAAAAAA+H/uhY/QOo8gwOYlt7+bIzFA7Wso6C4XHsDi0uQG5yMdQF61ZZDY4ARAiMKJWidG47+4vHQrx4MDQEJ0eM/vlRfAf98tAU15H0CANaGyBfTPPwj+/TfD+Pu/P7oWAcF1HED2oYktAZMewKA7/I//Cds/TNbRcDDy/T93HqZlzIMYQCTs3Wc+oCTADfkIniJlK0A4l6868y3rP5XEXzWAlgjApjtiM/cdBECMdydiAlgIwIDVXN6LKghAbnVyialoA0AFi6juoRIawM4P06Gb1CFAIHM+f9VDzT+DXbmnATISQJALzzqA9tU/7340pUHBRcA=",
          "dtype": "f8"
         },
         "yaxis": "y6"
        },
        {
         "line": {
          "color": "#e377c2"
         },
         "mode": "lines+markers",
         "name": "Return Rate %",
         "type": "scatter",
         "x": [
          "2023-01-01T00:00:00.000000000",
          "2023-02-01T00:00:00.000000000",
          "2023-03-01T00:00:00.000000000",
          "2023-04-01T00:00:00.000000000",
          "2023-05-01T00:00:00.000000000",
          "2023-06-01T00:00:00.000000000",
          "2023-07-01T00:00:00.000000000",
          "2023-08-01T00:00:00.000000000",
          "2023-09-01T00:00:00.000000000",
          "2023-10-01T00:00:00.000000000",
          "2023-11-01T00:00:00.000000000",
          "2023-12-01T00:00:00.000000000",
          "2024-01-01T00:00:00.000000000",
          "2024-02-01T00:00:00.000000000",
          "2024-03-01T00:00:00.000000000",
          "2024-04-01T00:00:00.000000000",
          "2024-05-01T00:00:00.000000000",
          "2024-06-01T00:00:00.000000000",
          "2024-07-01T00:00:00.000000000",
          "2024-08-01T00:00:00.000000000",
          "2024-09-01T00:00:00.000000000",
          "2024-10-01T00:00:00.000000000",
          "2024-11-01T00:00:00.000000000",
          "2024-12-01T00:00:00.000000000",
          "2025-01-01T00:00:00.000000000",
          "2025-02-01T00:00:00.000000000",
          "2025-03-01T00:00:00.000000000",
          "2025-04-01T00:00:00.000000000",
          "2025-05-01T00:00:00.000000000",
          "2025-06-01T00:00:00.000000000",
          "2025-07-01T00:00:00.000000000"
         ],
         "xaxis": "x6",
         "y": {
          "bdata": "FuTgpImhFUDRBXqqnYgSQJ+aTgZO/BNAnEUCkYajFEABvv0mZx8VQGanL1pPDxRA1M8wpyLVE0BhU65xjL0RQGzickF0+RRAqOgkT4EQE0Dfjr/F01QSQHaN7EOV1RFA8X80LRihFECNlUJTmroTQL+yKoeu9xJAmZ5HGbDHE0AO0ruciqoTQE3d4q+XKhRAyhkBC0i0E0BFwa7YXOYUQDgPPJBBIxJAKD7SaIq/EkDllFfT6I4RQFosojMD7xRAajDdHDJDFUAM91nX3ksRQJS8ZBAu3RNAOBgm/2wPE0AvcZYYncETQIEWzQJzBhNAUxewjjnxE0A=",
          "dtype": "f8"
         },
         "yaxis": "y7"
        },
        {
         "line": {
          "color": "#bcbd22"
         },
         "mode": "lines+markers",
         "name": "Support Tickets",
         "type": "scatter",
         "x": [
          "2023-01-01T00:00:00.000000000",
          "2023-02-01T00:00:00.000000000",
          "2023-03-01T00:00:00.000000000",
          "2023-04-01T00:00:00.000000000",
          "2023-05-01T00:00:00.000000000",
          "2023-06-01T00:00:00.000000000",
          "2023-07-01T00:00:00.000000000",
          "2023-08-01T00:00:00.000000000",
          "2023-09-01T00:00:00.000000000",
          "2023-10-01T00:00:00.000000000",
          "2023-11-01T00:00:00.000000000",
          "2023-12-01T00:00:00.000000000",
          "2024-01-01T00:00:00.000000000",
          "2024-02-01T00:00:00.000000000",
          "2024-03-01T00:00:00.000000000",
          "2024-04-01T00:00:00.000000000",
          "2024-05-01T00:00:00.000000000",
          "2024-06-01T00:00:00.000000000",
          "2024-07-01T00:00:00.000000000",
          "2024-08-01T00:00:00.000000000",
          "2024-09-01T00:00:00.000000000",
          "2024-10-01T00:00:00.000000000",
          "2024-11-01T00:00:00.000000000",
          "2024-12-01T00:00:00.000000000",
          "2025-01-01T00:00:00.000000000",
          "2025-02-01T00:00:00.000000000",
          "2025-03-01T00:00:00.000000000",
          "2025-04-01T00:00:00.000000000",
          "2025-05-01T00:00:00.000000000",
          "2025-06-01T00:00:00.000000000",
          "2025-07-01T00:00:00.000000000"
         ],
         "xaxis": "x6",
         "y": {
          "bdata": "wwV4BbQFtAWhBaMF5AXsBjkGTgbfBsEGQwclBykG0QXDBj4FhQaCB7gGeQfTBpEGAQf3BRoHpQYFCCYImQM=",
          "dtype": "i2"
         },
         "yaxis": "y8"
        },
        {
         "marker": {
          "color": "#2ca02c"
         },
         "name": "Profit Margin %",
         "type": "bar",
         "x": [
          "2023-Q1",
          "2023-Q2",
          "2023-Q3",
          "2023-Q4",
          "2024-Q1",
          "2024-Q2",
          "2024-Q3",
          "2024-Q4",
          "2025-Q1",
          "2025-Q2",
          "2025-Q3"
         ],
         "xaxis": "x7",
         "y": {
          "bdata": "upNSYHTOVkBYSjMgnelWQGYJ22Py31ZADVeSGCHkVkBu5L1dDNxWQKqwbTav61ZAOvPhN87VVkDfwi0lgdxWQEkXw37Y31ZAZMkplhjjVkAcX0Jw3P9WQA==",
          "dtype": "f8"
         },
         "yaxis": "y9"
        },
        {
         "line": {
          "color": "#ff7f0e"
         },
         "mode": "lines+markers",
         "name": "Customer Acquisition Cost",
         "type": "scatter",
         "x": [
          "2023-01-01T00:00:00.000000000",
          "2023-02-01T00:00:00.000000000",
          "2023-03-01T00:00:00.000000000",
          "2023-04-01T00:00:00.000000000",
          "2023-05-01T00:00:00.000000000",
          "2023-06-01T00:00:00.000000000",
          "2023-07-01T00:00:00.000000000",
          "2023-08-01T00:00:00.000000000",
          "2023-09-01T00:00:00.000000000",
          "2023-10-01T00:00:00.000000000",
          "2023-11-01T00:00:00.000000000",
          "2023-12-01T00:00:00.000000000",
          "2024-01-01T00:00:00.000000000",
          "2024-02-01T00:00:00.000000000",
          "2024-03-01T00:00:00.000000000",
          "2024-04-01T00:00:00.000000000",
          "2024-05-01T00:00:00.000000000",
          "2024-06-01T00:00:00.000000000",
          "2024-07-01T00:00:00.000000000",
          "2024-08-01T00:00:00.000000000",
          "2024-09-01T00:00:00.000000000",
          "2024-10-01T00:00:00.000000000",
          "2024-11-01T00:00:00.000000000",
          "2024-12-01T00:00:00.000000000",
          "2025-01-01T00:00:00.000000000",
          "2025-02-01T00:00:00.000000000",
          "2025-03-01T00:00:00.000000000",
          "2025-04-01T00:00:00.000000000",
          "2025-05-01T00:00:00.000000000",
          "2025-06-01T00:00:00.000000000",
          "2025-07-01T00:00:00.000000000"
         ],
         "xaxis": "x8",
         "y": {
          "bdata": "j+Hcd7c1SEDo5GZZLkdIQF3T35HNs0hAbYY8Ky9RRkDXhOPVSBxIQA/fMrC1kkhA4wrFUA87SECUDxds3udIQOZQJmHgEUpAoZKnz30oSUBgyt1QFHtHQK2wN3JQFkpAGdXJJwjCSECKjSrUlphKQH0aqGLW90ZAdap3wfh4SED3kw0pVPhHQIWUsM/HYklAH/PrUhYpSEAHnJRE18BIQIxJBnX2zEZAQwrxx9/sR0AKgxNPCapIQCKC2HhmiUlAZy1B+knkSUAJfoq6IrJJQHphB2Z54UhAG3UCVsLMSUDPdVPPBJVJQMevkmYT50ZAoBqiXNqaS0A=",
          "dtype": "f8"
         },
         "yaxis": "y10"
        }
       ],
       "layout": {
        "annotations": [
         {
          "font": {
           "size": 16
          },
          "showarrow": false,
          "text": "Revenue Trend",
          "x": 0.11222222222222222,
          "xanchor": "center",
          "xref": "paper",
          "y": 1,
          "yanchor": "bottom",
          "yref": "paper"
         },
         {
          "font": {
           "size": 16
          },
          "showarrow": false,
          "text": "Customer Metrics",
          "x": 0.47,
          "xanchor": "center",
          "xref": "paper",
          "y": 1,
          "yanchor": "bottom",
          "yref": "paper"
         },
         {
          "font": {
           "size": 16
          },
          "showarrow": false,
          "text": "Order Performance",
          "x": 0.8277777777777777,
          "xanchor": "center",
          "xref": "paper",
          "y": 1,
          "yanchor": "bottom",
          "yref": "paper"
         },
         {
          "font": {
           "size": 16
          },
          "showarrow": false,
          "text": "Marketing Efficiency",
          "x": 0.11222222222222222,
          "xanchor": "center",
          "xref": "paper",
          "y": 0.6111111111111112,
          "yanchor": "bottom",
          "yref": "paper"
         },
         {
          "font": {
           "size": 16
          },
          "showarrow": false,
          "text": "Regional Performance",
          "x": 0.47,
          "xanchor": "center",
          "xref": "paper",
          "y": 0.6111111111111112,
          "yanchor": "bottom",
          "yref": "paper"
         },
         {
          "font": {
           "size": 16
          },
          "showarrow": false,
          "text": "Growth Indicators",
          "x": 0.8277777777777777,
          "xanchor": "center",
          "xref": "paper",
          "y": 0.6111111111111112,
          "yanchor": "bottom",
          "yref": "paper"
         },
         {
          "font": {
           "size": 16
          },
          "showarrow": false,
          "text": "Operational Metrics",
          "x": 0.11222222222222222,
          "xanchor": "center",
          "xref": "paper",
          "y": 0.22222222222222224,
          "yanchor": "bottom",
          "yref": "paper"
         },
         {
          "font": {
           "size": 16
          },
          "showarrow": false,
          "text": "Financial Health",
          "x": 0.47,
          "xanchor": "center",
          "xref": "paper",
          "y": 0.22222222222222224,
          "yanchor": "bottom",
          "yref": "paper"
         },
         {
          "font": {
           "size": 16
          },
          "showarrow": false,
          "text": "Key Ratios",
          "x": 0.8277777777777777,
          "xanchor": "center",
          "xref": "paper",
          "y": 0.22222222222222224,
          "yanchor": "bottom",
          "yref": "paper"
         }
        ],
        "height": 1200,
        "showlegend": false,
        "template": {
         "data": {
          "bar": [
           {
            "error_x": {
             "color": "#2a3f5f"
            },
            "error_y": {
             "color": "#2a3f5f"
            },
            "marker": {
             "line": {
              "color": "#E5ECF6",
              "width": 0.5
             },
             "pattern": {
              "fillmode": "overlay",
              "size": 10,
              "solidity": 0.2
             }
            },
            "type": "bar"
           }
          ],
          "barpolar": [
           {
            "marker": {
             "line": {
              "color": "#E5ECF6",
              "width": 0.5
             },
             "pattern": {
              "fillmode": "overlay",
              "size": 10,
              "solidity": 0.2
             }
            },
            "type": "barpolar"
           }
          ],
          "carpet": [
           {
            "aaxis": {
             "endlinecolor": "#2a3f5f",
             "gridcolor": "white",
             "linecolor": "white",
             "minorgridcolor": "white",
             "startlinecolor": "#2a3f5f"
            },
            "baxis": {
             "endlinecolor": "#2a3f5f",
             "gridcolor": "white",
             "linecolor": "white",
             "minorgridcolor": "white",
             "startlinecolor": "#2a3f5f"
            },
            "type": "carpet"
           }
          ],
          "choropleth": [
           {
            "colorbar": {
             "outlinewidth": 0,
             "ticks": ""
            },
            "type": "choropleth"
           }
          ],
          "contour": [
           {
            "colorbar": {
             "outlinewidth": 0,
             "ticks": ""
            },
            "colorscale": [
             [
              0,
              "#0d0887"
             ],
             [
              0.1111111111111111,
              "#46039f"
             ],
             [
              0.2222222222222222,
              "#7201a8"
             ],
             [
              0.3333333333333333,
              "#9c179e"
             ],
             [
              0.4444444444444444,
              "#bd3786"
             ],
             [
              0.5555555555555556,
              "#d8576b"
             ],
             [
              0.6666666666666666,
              "#ed7953"
             ],
             [
              0.7777777777777778,
              "#fb9f3a"
             ],
             [
              0.8888888888888888,
              "#fdca26"
             ],
             [
              1,
              "#f0f921"
             ]
            ],
            "type": "contour"
           }
          ],
          "contourcarpet": [
           {
            "colorbar": {
             "outlinewidth": 0,
             "ticks": ""
            },
            "type": "contourcarpet"
           }
          ],
          "heatmap": [
           {
            "colorbar": {
             "outlinewidth": 0,
             "ticks": ""
            },
            "colorscale": [
             [
              0,
              "#0d0887"
             ],
             [
              0.1111111111111111,
              "#46039f"
             ],
             [
              0.2222222222222222,
              "#7201a8"
             ],
             [
              0.3333333333333333,
              "#9c179e"
             ],
             [
              0.4444444444444444,
              "#bd3786"
             ],
             [
              0.5555555555555556,
              "#d8576b"
             ],
             [
              0.6666666666666666,
              "#ed7953"
             ],
             [
              0.7777777777777778,
              "#fb9f3a"
             ],
             [
              0.8888888888888888,
              "#fdca26"
             ],
             [
              1,
              "#f0f921"
             ]
            ],
            "type": "heatmap"
           }
          ],
          "histogram": [
           {
            "marker": {
             "pattern": {
              "fillmode": "overlay",
              "size": 10,
              "solidity": 0.2
             }
            },
            "type": "histogram"
           }
          ],
          "histogram2d": [
           {
            "colorbar": {
             "outlinewidth": 0,
             "ticks": ""
            },
            "colorscale": [
             [
              0,
              "#0d0887"
             ],
             [
              0.1111111111111111,
              "#46039f"
             ],
             [
              0.2222222222222222,
              "#7201a8"
             ],
             [
              0.3333333333333333,
              "#9c179e"
             ],
             [
              0.4444444444444444,
              "#bd3786"
             ],
             [
              0.5555555555555556,
              "#d8576b"
             ],
             [
              0.6666666666666666,
              "#ed7953"
             ],
             [
              0.7777777777777778,
              "#fb9f3a"
             ],
             [
              0.8888888888888888,
              "#fdca26"
             ],
             [
              1,
              "#f0f921"
             ]
            ],
            "type": "histogram2d"
           }
          ],
          "histogram2dcontour": [
           {
            "colorbar": {
             "outlinewidth": 0,
             "ticks": ""
            },
            "colorscale": [
             [
              0,
              "#0d0887"
             ],
             [
              0.1111111111111111,
              "#46039f"
             ],
             [
              0.2222222222222222,
              "#7201a8"
             ],
             [
              0.3333333333333333,
              "#9c179e"
             ],
             [
              0.4444444444444444,
              "#bd3786"
             ],
             [
              0.5555555555555556,
              "#d8576b"
             ],
             [
              0.6666666666666666,
              "#ed7953"
             ],
             [
              0.7777777777777778,
              "#fb9f3a"
             ],
             [
              0.8888888888888888,
              "#fdca26"
             ],
             [
              1,
              "#f0f921"
             ]
            ],
            "type": "histogram2dcontour"
           }
          ],
          "mesh3d": [
           {
            "colorbar": {
             "outlinewidth": 0,
             "ticks": ""
            },
            "type": "mesh3d"
           }
          ],
          "parcoords": [
           {
            "line": {
             "colorbar": {
              "outlinewidth": 0,
              "ticks": ""
             }
            },
            "type": "parcoords"
           }
          ],
          "pie": [
           {
            "automargin": true,
            "type": "pie"
           }
          ],
          "scatter": [
           {
            "fillpattern": {
             "fillmode": "overlay",
             "size": 10,
             "solidity": 0.2
            },
            "type": "scatter"
           }
          ],
          "scatter3d": [
           {
            "line": {
             "colorbar": {
              "outlinewidth": 0,
              "ticks": ""
             }
            },
            "marker": {
             "colorbar": {
              "outlinewidth": 0,
              "ticks": ""
             }
            },
            "type": "scatter3d"
           }
          ],
          "scattercarpet": [
           {
            "marker": {
             "colorbar": {
              "outlinewidth": 0,
              "ticks": ""
             }
            },
            "type": "scattercarpet"
           }
          ],
          "scattergeo": [
           {
            "marker": {
             "colorbar": {
              "outlinewidth": 0,
              "ticks": ""
             }
            },
            "type": "scattergeo"
           }
          ],
          "scattergl": [
           {
            "marker": {
             "colorbar": {
              "outlinewidth": 0,
              "ticks": ""
             }
            },
            "type": "scattergl"
           }
          ],
          "scattermap": [
           {
            "marker": {
             "colorbar": {
              "outlinewidth": 0,
              "ticks": ""
             }
            },
            "type": "scattermap"
           }
          ],
          "scattermapbox": [
           {
            "marker": {
             "colorbar": {
              "outlinewidth": 0,
              "ticks": ""
             }
            },
            "type": "scattermapbox"
           }
          ],
          "scatterpolar": [
           {
            "marker": {
             "colorbar": {
              "outlinewidth": 0,
              "ticks": ""
             }
            },
            "type": "scatterpolar"
           }
          ],
          "scatterpolargl": [
           {
            "marker": {
             "colorbar": {
              "outlinewidth": 0,
              "ticks": ""
             }
            },
            "type": "scatterpolargl"
           }
          ],
          "scatterternary": [
           {
            "marker": {
             "colorbar": {
              "outlinewidth": 0,
              "ticks": ""
             }
            },
            "type": "scatterternary"
           }
          ],
          "surface": [
           {
            "colorbar": {
             "outlinewidth": 0,
             "ticks": ""
            },
            "colorscale": [
             [
              0,
              "#0d0887"
             ],
             [
              0.1111111111111111,
              "#46039f"
             ],
             [
              0.2222222222222222,
              "#7201a8"
             ],
             [
              0.3333333333333333,
              "#9c179e"
             ],
             [
              0.4444444444444444,
              "#bd3786"
             ],
             [
              0.5555555555555556,
              "#d8576b"
             ],
             [
              0.6666666666666666,
              "#ed7953"
             ],
             [
              0.7777777777777778,
              "#fb9f3a"
             ],
             [
              0.8888888888888888,
              "#fdca26"
             ],
             [
              1,
              "#f0f921"
             ]
            ],
            "type": "surface"
           }
          ],
          "table": [
           {
            "cells": {
             "fill": {
              "color": "#EBF0F8"
             },
             "line": {
              "color": "white"
             }
            },
            "header": {
             "fill": {
              "color": "#C8D4E3"
             },
             "line": {
              "color": "white"
             }
            },
            "type": "table"
           }
          ]
         },
         "layout": {
          "annotationdefaults": {
           "arrowcolor": "#2a3f5f",
           "arrowhead": 0,
           "arrowwidth": 1
          },
          "autotypenumbers": "strict",
          "coloraxis": {
           "colorbar": {
            "outlinewidth": 0,
            "ticks": ""
           }
          },
          "colorscale": {
           "diverging": [
            [
             0,
             "#8e0152"
            ],
            [
             0.1,
             "#c51b7d"
            ],
            [
             0.2,
             "#de77ae"
            ],
            [
             0.3,
             "#f1b6da"
            ],
            [
             0.4,
             "#fde0ef"
            ],
            [
             0.5,
             "#f7f7f7"
            ],
            [
             0.6,
             "#e6f5d0"
            ],
            [
             0.7,
             "#b8e186"
            ],
            [
             0.8,
             "#7fbc41"
            ],
            [
             0.9,
             "#4d9221"
            ],
            [
             1,
             "#276419"
            ]
           ],
           "sequential": [
            [
             0,
             "#0d0887"
            ],
            [
             0.1111111111111111,
             "#46039f"
            ],
            [
             0.2222222222222222,
             "#7201a8"
            ],
            [
             0.3333333333333333,
             "#9c179e"
            ],
            [
             0.4444444444444444,
             "#bd3786"
            ],
            [
             0.5555555555555556,
             "#d8576b"
            ],
            [
             0.6666666666666666,
             "#ed7953"
            ],
            [
             0.7777777777777778,
             "#fb9f3a"
            ],
            [
             0.8888888888888888,
             "#fdca26"
            ],
            [
             1,
             "#f0f921"
            ]
           ],
           "sequentialminus": [
            [
             0,
             "#0d0887"
            ],
            [
             0.1111111111111111,
             "#46039f"
            ],
            [
             0.2222222222222222,
             "#7201a8"
            ],
            [
             0.3333333333333333,
             "#9c179e"
            ],
            [
             0.4444444444444444,
             "#bd3786"
            ],
            [
             0.5555555555555556,
             "#d8576b"
            ],
            [
             0.6666666666666666,
             "#ed7953"
            ],
            [
             0.7777777777777778,
             "#fb9f3a"
            ],
            [
             0.8888888888888888,
             "#fdca26"
            ],
            [
             1,
             "#f0f921"
            ]
           ]
          },
          "colorway": [
           "#636efa",
           "#EF553B",
           "#00cc96",
           "#ab63fa",
           "#FFA15A",
           "#19d3f3",
           "#FF6692",
           "#B6E880",
           "#FF97FF",
           "#FECB52"
          ],
          "font": {
           "color": "#2a3f5f"
          },
          "geo": {
           "bgcolor": "white",
           "lakecolor": "white",
           "landcolor": "#E5ECF6",
           "showlakes": true,
           "showland": true,
           "subunitcolor": "white"
          },
          "hoverlabel": {
           "align": "left"
          },
          "hovermode": "closest",
          "mapbox": {
           "style": "light"
          },
          "paper_bgcolor": "white",
          "plot_bgcolor": "#E5ECF6",
          "polar": {
           "angularaxis": {
            "gridcolor": "white",
            "linecolor": "white",
            "ticks": ""
           },
           "bgcolor": "#E5ECF6",
           "radialaxis": {
            "gridcolor": "white",
            "linecolor": "white",
            "ticks": ""
           }
          },
          "scene": {
           "xaxis": {
            "backgroundcolor": "#E5ECF6",
            "gridcolor": "white",
            "gridwidth": 2,
            "linecolor": "white",
            "showbackground": true,
            "ticks": "",
            "zerolinecolor": "white"
           },
           "yaxis": {
            "backgroundcolor": "#E5ECF6",
            "gridcolor": "white",
            "gridwidth": 2,
            "linecolor": "white",
            "showbackground": true,
            "ticks": "",
            "zerolinecolor": "white"
           },
           "zaxis": {
            "backgroundcolor": "#E5ECF6",
            "gridcolor": "white",
            "gridwidth": 2,
            "linecolor": "white",
            "showbackground": true,
            "ticks": "",
            "zerolinecolor": "white"
           }
          },
          "shapedefaults": {
           "line": {
            "color": "#2a3f5f"
           }
          },
          "ternary": {
           "aaxis": {
            "gridcolor": "white",
            "linecolor": "white",
            "ticks": ""
           },
           "baxis": {
            "gridcolor": "white",
            "linecolor": "white",
            "ticks": ""
           },
           "bgcolor": "#E5ECF6",
           "caxis": {
            "gridcolor": "white",
            "linecolor": "white",
            "ticks": ""
           }
          },
          "title": {
           "x": 0.05
          },
          "xaxis": {
           "automargin": true,
           "gridcolor": "white",
           "linecolor": "white",
           "ticks": "",
           "title": {
            "standoff": 15
           },
           "zerolinecolor": "white",
           "zerolinewidth": 2
          },
          "yaxis": {
           "automargin": true,
           "gridcolor": "white",
           "linecolor": "white",
           "ticks": "",
           "title": {
            "standoff": 15
           },
           "zerolinecolor": "white",
           "zerolinewidth": 2
          }
         }
        },
        "title": {
         "font": {
          "size": 20
         },
         "text": "<b>Executive Dashboard - Business Performance Overview</b>",
         "x": 0.5
        },
        "xaxis": {
         "anchor": "y",
         "domain": [
          0,
          0.22444444444444445
         ],
         "title": {
          "text": "Date"
         }
        },
        "xaxis2": {
         "anchor": "y2",
         "domain": [
          0.35777777777777775,
          0.5822222222222222
         ],
         "title": {
          "text": "Date"
         }
        },
        "xaxis3": {
         "anchor": "y4",
         "domain": [
          0.7155555555555555,
          0.94
         ],
         "title": {
          "text": "Date"
         }
        },
        "xaxis4": {
         "anchor": "y5",
         "domain": [
          0,
          0.22444444444444445
         ]
        },
        "xaxis5": {
         "anchor": "y6",
         "domain": [
          0.7155555555555555,
          0.94
         ]
        },
        "xaxis6": {
         "anchor": "y7",
         "domain": [
          0,
          0.22444444444444445
         ]
        },
        "xaxis7": {
         "anchor": "y9",
         "domain": [
          0.35777777777777775,
          0.5822222222222222
         ]
        },
        "xaxis8": {
         "anchor": "y10",
         "domain": [
          0.7155555555555555,
          0.94
         ]
        },
        "yaxis": {
         "anchor": "x",
         "domain": [
          0.7777777777777778,
          1
         ],
         "title": {
          "text": "Revenue ($)"
         }
        },
        "yaxis10": {
         "anchor": "x8",
         "domain": [
          0,
          0.22222222222222224
         ]
        },
        "yaxis2": {
         "anchor": "x2",
         "domain": [
          0.7777777777777778,
          1
         ],
         "title": {
          "text": "Customers"
         }
        },
        "yaxis3": {
         "anchor": "x2",
         "overlaying": "y2",
         "side": "right",
         "title": {
          "text": "Orders"
         }
        },
        "yaxis4": {
         "anchor": "x3",
         "domain": [
          0.7777777777777778,
          1
         ],
         "title": {
          "text": "Average Order Value ($)"
         }
        },
        "yaxis5": {
         "anchor": "x4",
         "domain": [
          0.3888888888888889,
          0.6111111111111112
         ]
        },
        "yaxis6": {
         "anchor": "x5",
         "domain": [
          0.3888888888888889,
          0.6111111111111112
         ]
        },
        "yaxis7": {
         "anchor": "x6",
         "domain": [
          0,
          0.22222222222222224
         ]
        },
        "yaxis8": {
         "anchor": "x6",
         "overlaying": "y7",
         "side": "right"
        },
        "yaxis9": {
         "anchor": "x7",
         "domain": [
          0,
          0.22222222222222224
         ]
        }
       }
      },
      "text/html": [
       "<div>            <script src=\"https://cdnjs.cloudflare.com/ajax/libs/mathjax/2.7.5/MathJax.js?config=TeX-AMS-MML_SVG\"></script><script type=\"text/javascript\">if (window.MathJax && window.MathJax.Hub && window.MathJax.Hub.Config) {window.MathJax.Hub.Config({SVG: {font: \"STIX-Web\"}});}</script>                <script type=\"text/javascript\">window.PlotlyConfig = {MathJaxConfig: 'local'};</script>\n",
       "        <script charset=\"utf-8\" src=\"https://cdn.plot.ly/plotly-3.0.1.min.js\" integrity=\"sha256-oy6Be7Eh6eiQFs5M7oXuPxxm9qbJXEtTpfSI93dW16Q=\" crossorigin=\"anonymous\"></script>                <div id=\"c7befe24-f972-4b3a-a99d-e6dabe9e81ea\" class=\"plotly-graph-div\" style=\"height:1200px; width:100%;\"></div>            <script type=\"text/javascript\">                window.PLOTLYENV=window.PLOTLYENV || {};                                if (document.getElementById(\"c7befe24-f972-4b3a-a99d-e6dabe9e81ea\")) {                    Plotly.newPlot(                        \"c7befe24-f972-4b3a-a99d-e6dabe9e81ea\",                        [{\"line\":{\"color\":\"#1f77b4\",\"width\":3},\"mode\":\"lines+markers\",\"name\":\"Monthly Revenue\",\"x\":[\"2023-01-01T00:00:00.000000000\",\"2023-02-01T00:00:00.000000000\",\"2023-03-01T00:00:00.000000000\",\"2023-04-01T00:00:00.000000000\",\"2023-05-01T00:00:00.000000000\",\"2023-06-01T00:00:00.000000000\",\"2023-07-01T00:00:00.000000000\",\"2023-08-01T00:00:00.000000000\",\"2023-09-01T00:00:00.000000000\",\"2023-10-01T00:00:00.000000000\",\"2023-11-01T00:00:00.000000000\",\"2023-12-01T00:00:00.000000000\",\"2024-01-01T00:00:00.000000000\",\"2024-02-01T00:00:00.000000000\",\"2024-03-01T00:00:00.000000000\",\"2024-04-01T00:00:00.000000000\",\"2024-05-01T00:00:00.000000000\",\"2024-06-01T00:00:00.000000000\",\"2024-07-01T00:00:00.000000000\",\"2024-08-01T00:00:00.000000000\",\"2024-09-01T00:00:00.000000000\",\"2024-10-01T00:00:00.000000000\",\"2024-11-01T00:00:00.000000000\",\"2024-12-01T00:00:00.000000000\",\"2025-01-01T00:00:00.000000000\",\"2025-02-01T00:00:00.000000000\",\"2025-03-01T00:00:00.000000000\",\"2025-04-01T00:00:00.000000000\",\"2025-05-01T00:00:00.000000000\",\"2025-06-01T00:00:00.000000000\",\"2025-07-01T00:00:00.000000000\"],\"y\":{\"dtype\":\"f8\",\"bdata\":\"CEloil4SRUGPI8yvulNDQSTbnau5o0ZBZ2MF1rvvREH76SOQMXZGQbP20+9CDEdB8ucOMLnoRkESugTCyHdHQcwsfzSKFUZBE5Ua4mLSR0EDn88knOFHQVnqVdO6dkdBS0ebthsiSUFeIdw5UDZHQYLdLjVrT0dBckUHTxu\\u002fR0F4CNBtrTNJQbOtx0dRmkZBcHdzauaySUFoPyBPx+pJQU5MDAncHklBp7jKapLASUGdL3s09vdIQTb2H2oMuUlBbIJUBM9YSkHEWug3K6FIQUZ5L1ZK00pBHSgswv3iSkEO64JNFhxMQUtWwy3INExBTHIU6BDeP0E=\"},\"type\":\"scatter\",\"xaxis\":\"x\",\"yaxis\":\"y\"},{\"line\":{\"color\":\"#ff7f0e\"},\"mode\":\"lines+markers\",\"name\":\"Customers\",\"x\":[\"2023-01-01T00:00:00.000000000\",\"2023-02-01T00:00:00.000000000\",\"2023-03-01T00:00:00.000000000\",\"2023-04-01T00:00:00.000000000\",\"2023-05-01T00:00:00.000000000\",\"2023-06-01T00:00:00.000000000\",\"2023-07-01T00:00:00.000000000\",\"2023-08-01T00:00:00.000000000\",\"2023-09-01T00:00:00.000000000\",\"2023-10-01T00:00:00.000000000\",\"2023-11-01T00:00:00.000000000\",\"2023-12-01T00:00:00.000000000\",\"2024-01-01T00:00:00.000000000\",\"2024-02-01T00:00:00.000000000\",\"2024-03-01T00:00:00.000000000\",\"2024-04-01T00:00:00.000000000\",\"2024-05-01T00:00:00.000000000\",\"2024-06-01T00:00:00.000000000\",\"2024-07-01T00:00:00.000000000\",\"2024-08-01T00:00:00.000000000\",\"2024-09-01T00:00:00.000000000\",\"2024-10-01T00:00:00.000000000\",\"2024-11-01T00:00:00.000000000\",\"2024-12-01T00:00:00.000000000\",\"2025-01-01T00:00:00.000000000\",\"2025-02-01T00:00:00.000000000\",\"2025-03-01T00:00:00.000000000\",\"2025-04-01T00:00:00.000000000\",\"2025-05-01T00:00:00.000000000\",\"2025-06-01T00:00:00.000000000\",\"2025-07-01T00:00:00.000000000\"],\"y\":{\"dtype\":\"i2\",\"bdata\":\"ozrlN605kTYwQYM+bzdWRVo\\u002f6j4FQS1AtUS0RrE97zxAQiE520LeTcdEB08APxtANEYoQFZIukqCUQJRISg=\"},\"type\":\"scatter\",\"xaxis\":\"x2\",\"yaxis\":\"y2\"},{\"line\":{\"color\":\"#2ca02c\"},\"mode\":\"lines+markers\",\"name\":\"Orders\",\"x\":[\"2023-01-01T00:00:00.000000000\",\"2023-02-01T00:00:00.000000000\",\"2023-03-01T00:00:00.000000000\",\"2023-04-01T00:00:00.000000000\",\"2023-05-01T00:00:00.000000000\",\"2023-06-01T00:00:00.000000000\",\"2023-07-01T00:00:00.000000000\",\"2023-08-01T00:00:00.000000000\",\"2023-09-01T00:00:00.000000000\",\"2023-10-01T00:00:00.000000000\",\"2023-11-01T00:00:00.000000000\",\"2023-12-01T00:00:00.000000000\",\"2024-01-01T00:00:00.000000000\",\"2024-02-01T00:00:00.000000000\",\"2024-03-01T00:00:00.000000000\",\"2024-04-01T00:00:00.000000000\",\"2024-05-01T00:00:00.000000000\",\"2024-06-01T00:00:00.000000000\",\"2024-07-01T00:00:00.000000000\",\"2024-08-01T00:00:00.000000000\",\"2024-09-01T00:00:00.000000000\",\"2024-10-01T00:00:00.000000000\",\"2024-11-01T00:00:00.000000000\",\"2024-12-01T00:00:00.000000000\",\"2025-01-01T00:00:00.000000000\",\"2025-02-01T00:00:00.000000000\",\"2025-03-01T00:00:00.000000000\",\"2025-04-01T00:00:00.000000000\",\"2025-05-01T00:00:00.000000000\",\"2025-06-01T00:00:00.000000000\",\"2025-07-01T00:00:00.000000000\"],\"y\":{\"dtype\":\"i2\",\"bdata\":\"VFL\\u002fUVBTKlImYFpYMVN3Xipcy1hBXpRdT2DgbBVZV1gOYJxTimFdduNhFHCnXN5aKGcGXGVrq2i1cyp4UDg=\"},\"type\":\"scatter\",\"xaxis\":\"x2\",\"yaxis\":\"y3\"},{\"line\":{\"color\":\"#d62728\",\"width\":2},\"mode\":\"lines+markers\",\"name\":\"Avg Order Value\",\"x\":[\"2023-01-01T00:00:00.000000000\",\"2023-02-01T00:00:00.000000000\",\"2023-03-01T00:00:00.000000000\",\"2023-04-01T00:00:00.000000000\",\"2023-05-01T00:00:00.000000000\",\"2023-06-01T00:00:00.000000000\",\"2023-07-01T00:00:00.000000000\",\"2023-08-01T00:00:00.000000000\",\"2023-09-01T00:00:00.000000000\",\"2023-10-01T00:00:00.000000000\",\"2023-11-01T00:00:00.000000000\",\"2023-12-01T00:00:00.000000000\",\"2024-01-01T00:00:00.000000000\",\"2024-02-01T00:00:00.000000000\",\"2024-03-01T00:00:00.000000000\",\"2024-04-01T00:00:00.000000000\",\"2024-05-01T00:00:00.000000000\",\"2024-06-01T00:00:00.000000000\",\"2024-07-01T00:00:00.000000000\",\"2024-08-01T00:00:00.000000000\",\"2024-09-01T00:00:00.000000000\",\"2024-10-01T00:00:00.000000000\",\"2024-11-01T00:00:00.000000000\",\"2024-12-01T00:00:00.000000000\",\"2025-01-01T00:00:00.000000000\",\"2025-02-01T00:00:00.000000000\",\"2025-03-01T00:00:00.000000000\",\"2025-04-01T00:00:00.000000000\",\"2025-05-01T00:00:00.000000000\",\"2025-06-01T00:00:00.000000000\",\"2025-07-01T00:00:00.000000000\"],\"y\":{\"dtype\":\"f8\",\"bdata\":\"hWvkZbZ1YkDuN4R+N1FhQLZaSgpWsmJAPBm1OHPBYUC0xQsYXPhgQJObYz5aeGJAqLTXEfAhY0BL4SMYvpJiQAUAEdbknGBAiqiG97+bYkD0lcrcr\\u002fZhQCNUKMgsl2FAeJS8f6ELYkCe8anQd3pfQGOf8u\\u002f8nmJAV8gCzDW7YkAXQZeH3zRiQJJXNc6FpGJAzwQR1U43YkC7+xthr19gQKadaxmL5GFA7+EKns1OYUDJUW9o4qpiQOdCRbgcFWNAO9P8KR7UYUDiu3VKMnNiQJ3491xHAWJANEJZiojJYkCYLPY6d0dhQJsElgd7fmBAPGOMvPoiY0A=\"},\"type\":\"scatter\",\"xaxis\":\"x3\",\"yaxis\":\"y4\"},{\"line\":{\"color\":\"#9467bd\",\"width\":2},\"mode\":\"lines+markers\",\"name\":\"Marketing ROI (%)\",\"x\":[\"2023-01-01T00:00:00.000000000\",\"2023-02-01T00:00:00.000000000\",\"2023-03-01T00:00:00.000000000\",\"2023-04-01T00:00:00.000000000\",\"2023-05-01T00:00:00.000000000\",\"2023-06-01T00:00:00.000000000\",\"2023-07-01T00:00:00.000000000\",\"2023-08-01T00:00:00.000000000\",\"2023-09-01T00:00:00.000000000\",\"2023-10-01T00:00:00.000000000\",\"2023-11-01T00:00:00.000000000\",\"2023-12-01T00:00:00.000000000\",\"2024-01-01T00:00:00.000000000\",\"2024-02-01T00:00:00.000000000\",\"2024-03-01T00:00:00.000000000\",\"2024-04-01T00:00:00.000000000\",\"2024-05-01T00:00:00.000000000\",\"2024-06-01T00:00:00.000000000\",\"2024-07-01T00:00:00.000000000\",\"2024-08-01T00:00:00.000000000\",\"2024-09-01T00:00:00.000000000\",\"2024-10-01T00:00:00.000000000\",\"2024-11-01T00:00:00.000000000\",\"2024-12-01T00:00:00.000000000\",\"2025-01-01T00:00:00.000000000\",\"2025-02-01T00:00:00.000000000\",\"2025-03-01T00:00:00.000000000\",\"2025-04-01T00:00:00.000000000\",\"2025-05-01T00:00:00.000000000\",\"2025-06-01T00:00:00.000000000\",\"2025-07-01T00:00:00.000000000\"],\"y\":{\"dtype\":\"f8\",\"bdata\":\"qeQgyFf5jkBnBq+cK2+RQDLpC6O6CJBAzf5ype2wkUAHF7Ajq\\u002fCQQPKAw2ly4pBAzbzBXQuRkEBc9X5E\\u002fZ2QQJQLQguxT5FAOr4K8vIHkUBl2uHmPyaRQMJpeSvLs5BAmRwUbKKkkECcc8\\u002fgNpaQQH5OLI8+1pBAtyfy7SCCkUAP7Nsxo6CQQCTyai12n5FAoJkuua\\u002fBj0Cqj859Kt6QQIfQjYHbu5BAxOEOCbC7kEBps6lv9NCQQDOGDyctkJBAELy1QcUIkUCACBt26WKQQBeyXW2MAZFAwJxMu0H3kEAJnksrVy+QQB8XR45Er5FAQGJl0KT2kUA=\"},\"type\":\"scatter\",\"xaxis\":\"x4\",\"yaxis\":\"y5\"},{\"hole\":0.3,\"labels\":[\"Asia Pacific\",\"Europe\",\"Latin America\",\"North America\"],\"name\":\"Regional Revenue\",\"values\":{\"dtype\":\"f8\",\"bdata\":\"nJA8mz6rQ0HiSW3NBoVNQQpe1nXiODNBxKyGQpSMU0E=\"},\"type\":\"pie\",\"domain\":{\"x\":[0.35777777777777775,0.5822222222222222],\"y\":[0.3888888888888889,0.6111111111111112]}},{\"line\":{\"color\":\"#17becf\"},\"mode\":\"lines+markers\",\"name\":\"Revenue Growth %\",\"x\":[\"2023-01-01T00:00:00.000000000\",\"2023-02-01T00:00:00.000000000\",\"2023-03-01T00:00:00.000000000\",\"2023-04-01T00:00:00.000000000\",\"2023-05-01T00:00:00.000000000\",\"2023-06-01T00:00:00.000000000\",\"2023-07-01T00:00:00.000000000\",\"2023-08-01T00:00:00.000000000\",\"2023-09-01T00:00:00.000000000\",\"2023-10-01T00:00:00.000000000\",\"2023-11-01T00:00:00.000000000\",\"2023-12-01T00:00:00.000000000\",\"2024-01-01T00:00:00.000000000\",\"2024-02-01T00:00:00.000000000\",\"2024-03-01T00:00:00.000000000\",\"2024-04-01T00:00:00.000000000\",\"2024-05-01T00:00:00.000000000\",\"2024-06-01T00:00:00.000000000\",\"2024-07-01T00:00:00.000000000\",\"2024-08-01T00:00:00.000000000\",\"2024-09-01T00:00:00.000000000\",\"2024-10-01T00:00:00.000000000\",\"2024-11-01T00:00:00.000000000\",\"2024-12-01T00:00:00.000000000\",\"2025-01-01T00:00:00.000000000\",\"2025-02-01T00:00:00.000000000\",\"2025-03-01T00:00:00.000000000\",\"2025-04-01T00:00:00.000000000\",\"2025-05-01T00:00:00.000000000\",\"2025-06-01T00:00:00.000000000\",\"2025-07-01T00:00:00.000000000\"],\"y\":{\"dtype\":\"f8\",\"bdata\":\"AAAAAAAA+H\\u002fuhY\\u002fQOo8gwOYlt7+bIzFA7Wso6C4XHsDi0uQG5yMdQF61ZZDY4ARAiMKJWidG47+4vHQrx4MDQEJ0eM\\u002fvlRfAf98tAU15H0CANaGyBfTPPwj+\\u002fTfD+Pu\\u002fP7oWAcF1HED2oYktAZMewKA7\\u002fI\\u002f\\u002fCds\\u002fTNbRcDDy\\u002fT93HqZlzIMYQCTs3Wc+oCTADfkIniJlK0A4l6868y3rP5XEXzWAlgjApjtiM\\u002fcdBECMdydiAlgIwIDVXN6LKghAbnVyialoA0AFi6juoRIawM4P06Gb1CFAIHM+f9VDzT+DXbmnATISQJALzzqA9tU\\u002f7340pUHBRcA=\"},\"type\":\"scatter\",\"xaxis\":\"x5\",\"yaxis\":\"y6\"},{\"line\":{\"color\":\"#e377c2\"},\"mode\":\"lines+markers\",\"name\":\"Return Rate %\",\"x\":[\"2023-01-01T00:00:00.000000000\",\"2023-02-01T00:00:00.000000000\",\"2023-03-01T00:00:00.000000000\",\"2023-04-01T00:00:00.000000000\",\"2023-05-01T00:00:00.000000000\",\"2023-06-01T00:00:00.000000000\",\"2023-07-01T00:00:00.000000000\",\"2023-08-01T00:00:00.000000000\",\"2023-09-01T00:00:00.000000000\",\"2023-10-01T00:00:00.000000000\",\"2023-11-01T00:00:00.000000000\",\"2023-12-01T00:00:00.000000000\",\"2024-01-01T00:00:00.000000000\",\"2024-02-01T00:00:00.000000000\",\"2024-03-01T00:00:00.000000000\",\"2024-04-01T00:00:00.000000000\",\"2024-05-01T00:00:00.000000000\",\"2024-06-01T00:00:00.000000000\",\"2024-07-01T00:00:00.000000000\",\"2024-08-01T00:00:00.000000000\",\"2024-09-01T00:00:00.000000000\",\"2024-10-01T00:00:00.000000000\",\"2024-11-01T00:00:00.000000000\",\"2024-12-01T00:00:00.000000000\",\"2025-01-01T00:00:00.000000000\",\"2025-02-01T00:00:00.000000000\",\"2025-03-01T00:00:00.000000000\",\"2025-04-01T00:00:00.000000000\",\"2025-05-01T00:00:00.000000000\",\"2025-06-01T00:00:00.000000000\",\"2025-07-01T00:00:00.000000000\"],\"y\":{\"dtype\":\"f8\",\"bdata\":\"FuTgpImhFUDRBXqqnYgSQJ+aTgZO\\u002fBNAnEUCkYajFEABvv0mZx8VQGanL1pPDxRA1M8wpyLVE0BhU65xjL0RQGzickF0+RRAqOgkT4EQE0Dfjr\\u002fF01QSQHaN7EOV1RFA8X80LRihFECNlUJTmroTQL+yKoeu9xJAmZ5HGbDHE0AO0ruciqoTQE3d4q+XKhRAyhkBC0i0E0BFwa7YXOYUQDgPPJBBIxJAKD7SaIq\\u002fEkDllFfT6I4RQFosojMD7xRAajDdHDJDFUAM91nX3ksRQJS8ZBAu3RNAOBgm\\u002f2wPE0AvcZYYncETQIEWzQJzBhNAUxewjjnxE0A=\"},\"type\":\"scatter\",\"xaxis\":\"x6\",\"yaxis\":\"y7\"},{\"line\":{\"color\":\"#bcbd22\"},\"mode\":\"lines+markers\",\"name\":\"Support Tickets\",\"x\":[\"2023-01-01T00:00:00.000000000\",\"2023-02-01T00:00:00.000000000\",\"2023-03-01T00:00:00.000000000\",\"2023-04-01T00:00:00.000000000\",\"2023-05-01T00:00:00.000000000\",\"2023-06-01T00:00:00.000000000\",\"2023-07-01T00:00:00.000000000\",\"2023-08-01T00:00:00.000000000\",\"2023-09-01T00:00:00.000000000\",\"2023-10-01T00:00:00.000000000\",\"2023-11-01T00:00:00.000000000\",\"2023-12-01T00:00:00.000000000\",\"2024-01-01T00:00:00.000000000\",\"2024-02-01T00:00:00.000000000\",\"2024-03-01T00:00:00.000000000\",\"2024-04-01T00:00:00.000000000\",\"2024-05-01T00:00:00.000000000\",\"2024-06-01T00:00:00.000000000\",\"2024-07-01T00:00:00.000000000\",\"2024-08-01T00:00:00.000000000\",\"2024-09-01T00:00:00.000000000\",\"2024-10-01T00:00:00.000000000\",\"2024-11-01T00:00:00.000000000\",\"2024-12-01T00:00:00.000000000\",\"2025-01-01T00:00:00.000000000\",\"2025-02-01T00:00:00.000000000\",\"2025-03-01T00:00:00.000000000\",\"2025-04-01T00:00:00.000000000\",\"2025-05-01T00:00:00.000000000\",\"2025-06-01T00:00:00.000000000\",\"2025-07-01T00:00:00.000000000\"],\"y\":{\"dtype\":\"i2\",\"bdata\":\"wwV4BbQFtAWhBaMF5AXsBjkGTgbfBsEGQwclBykG0QXDBj4FhQaCB7gGeQfTBpEGAQf3BRoHpQYFCCYImQM=\"},\"type\":\"scatter\",\"xaxis\":\"x6\",\"yaxis\":\"y8\"},{\"marker\":{\"color\":\"#2ca02c\"},\"name\":\"Profit Margin %\",\"x\":[\"2023-Q1\",\"2023-Q2\",\"2023-Q3\",\"2023-Q4\",\"2024-Q1\",\"2024-Q2\",\"2024-Q3\",\"2024-Q4\",\"2025-Q1\",\"2025-Q2\",\"2025-Q3\"],\"y\":{\"dtype\":\"f8\",\"bdata\":\"upNSYHTOVkBYSjMgnelWQGYJ22Py31ZADVeSGCHkVkBu5L1dDNxWQKqwbTav61ZAOvPhN87VVkDfwi0lgdxWQEkXw37Y31ZAZMkplhjjVkAcX0Jw3P9WQA==\"},\"type\":\"bar\",\"xaxis\":\"x7\",\"yaxis\":\"y9\"},{\"line\":{\"color\":\"#ff7f0e\"},\"mode\":\"lines+markers\",\"name\":\"Customer Acquisition Cost\",\"x\":[\"2023-01-01T00:00:00.000000000\",\"2023-02-01T00:00:00.000000000\",\"2023-03-01T00:00:00.000000000\",\"2023-04-01T00:00:00.000000000\",\"2023-05-01T00:00:00.000000000\",\"2023-06-01T00:00:00.000000000\",\"2023-07-01T00:00:00.000000000\",\"2023-08-01T00:00:00.000000000\",\"2023-09-01T00:00:00.000000000\",\"2023-10-01T00:00:00.000000000\",\"2023-11-01T00:00:00.000000000\",\"2023-12-01T00:00:00.000000000\",\"2024-01-01T00:00:00.000000000\",\"2024-02-01T00:00:00.000000000\",\"2024-03-01T00:00:00.000000000\",\"2024-04-01T00:00:00.000000000\",\"2024-05-01T00:00:00.000000000\",\"2024-06-01T00:00:00.000000000\",\"2024-07-01T00:00:00.000000000\",\"2024-08-01T00:00:00.000000000\",\"2024-09-01T00:00:00.000000000\",\"2024-10-01T00:00:00.000000000\",\"2024-11-01T00:00:00.000000000\",\"2024-12-01T00:00:00.000000000\",\"2025-01-01T00:00:00.000000000\",\"2025-02-01T00:00:00.000000000\",\"2025-03-01T00:00:00.000000000\",\"2025-04-01T00:00:00.000000000\",\"2025-05-01T00:00:00.000000000\",\"2025-06-01T00:00:00.000000000\",\"2025-07-01T00:00:00.000000000\"],\"y\":{\"dtype\":\"f8\",\"bdata\":\"j+Hcd7c1SEDo5GZZLkdIQF3T35HNs0hAbYY8Ky9RRkDXhOPVSBxIQA\\u002ffMrC1kkhA4wrFUA87SECUDxds3udIQOZQJmHgEUpAoZKnz30oSUBgyt1QFHtHQK2wN3JQFkpAGdXJJwjCSECKjSrUlphKQH0aqGLW90ZAdap3wfh4SED3kw0pVPhHQIWUsM\\u002fHYklAH\\u002fPrUhYpSEAHnJRE18BIQIxJBnX2zEZAQwrxx9\\u002fsR0AKgxNPCapIQCKC2HhmiUlAZy1B+knkSUAJfoq6IrJJQHphB2Z54UhAG3UCVsLMSUDPdVPPBJVJQMevkmYT50ZAoBqiXNqaS0A=\"},\"type\":\"scatter\",\"xaxis\":\"x8\",\"yaxis\":\"y10\"}],                        {\"template\":{\"data\":{\"histogram2dcontour\":[{\"type\":\"histogram2dcontour\",\"colorbar\":{\"outlinewidth\":0,\"ticks\":\"\"},\"colorscale\":[[0.0,\"#0d0887\"],[0.1111111111111111,\"#46039f\"],[0.2222222222222222,\"#7201a8\"],[0.3333333333333333,\"#9c179e\"],[0.4444444444444444,\"#bd3786\"],[0.5555555555555556,\"#d8576b\"],[0.6666666666666666,\"#ed7953\"],[0.7777777777777778,\"#fb9f3a\"],[0.8888888888888888,\"#fdca26\"],[1.0,\"#f0f921\"]]}],\"choropleth\":[{\"type\":\"choropleth\",\"colorbar\":{\"outlinewidth\":0,\"ticks\":\"\"}}],\"histogram2d\":[{\"type\":\"histogram2d\",\"colorbar\":{\"outlinewidth\":0,\"ticks\":\"\"},\"colorscale\":[[0.0,\"#0d0887\"],[0.1111111111111111,\"#46039f\"],[0.2222222222222222,\"#7201a8\"],[0.3333333333333333,\"#9c179e\"],[0.4444444444444444,\"#bd3786\"],[0.5555555555555556,\"#d8576b\"],[0.6666666666666666,\"#ed7953\"],[0.7777777777777778,\"#fb9f3a\"],[0.8888888888888888,\"#fdca26\"],[1.0,\"#f0f921\"]]}],\"heatmap\":[{\"type\":\"heatmap\",\"colorbar\":{\"outlinewidth\":0,\"ticks\":\"\"},\"colorscale\":[[0.0,\"#0d0887\"],[0.1111111111111111,\"#46039f\"],[0.2222222222222222,\"#7201a8\"],[0.3333333333333333,\"#9c179e\"],[0.4444444444444444,\"#bd3786\"],[0.5555555555555556,\"#d8576b\"],[0.6666666666666666,\"#ed7953\"],[0.7777777777777778,\"#fb9f3a\"],[0.8888888888888888,\"#fdca26\"],[1.0,\"#f0f921\"]]}],\"contourcarpet\":[{\"type\":\"contourcarpet\",\"colorbar\":{\"outlinewidth\":0,\"ticks\":\"\"}}],\"contour\":[{\"type\":\"contour\",\"colorbar\":{\"outlinewidth\":0,\"ticks\":\"\"},\"colorscale\":[[0.0,\"#0d0887\"],[0.1111111111111111,\"#46039f\"],[0.2222222222222222,\"#7201a8\"],[0.3333333333333333,\"#9c179e\"],[0.4444444444444444,\"#bd3786\"],[0.5555555555555556,\"#d8576b\"],[0.6666666666666666,\"#ed7953\"],[0.7777777777777778,\"#fb9f3a\"],[0.8888888888888888,\"#fdca26\"],[1.0,\"#f0f921\"]]}],\"surface\":[{\"type\":\"surface\",\"colorbar\":{\"outlinewidth\":0,\"ticks\":\"\"},\"colorscale\":[[0.0,\"#0d0887\"],[0.1111111111111111,\"#46039f\"],[0.2222222222222222,\"#7201a8\"],[0.3333333333333333,\"#9c179e\"],[0.4444444444444444,\"#bd3786\"],[0.5555555555555556,\"#d8576b\"],[0.6666666666666666,\"#ed7953\"],[0.7777777777777778,\"#fb9f3a\"],[0.8888888888888888,\"#fdca26\"],[1.0,\"#f0f921\"]]}],\"mesh3d\":[{\"type\":\"mesh3d\",\"colorbar\":{\"outlinewidth\":0,\"ticks\":\"\"}}],\"scatter\":[{\"fillpattern\":{\"fillmode\":\"overlay\",\"size\":10,\"solidity\":0.2},\"type\":\"scatter\"}],\"parcoords\":[{\"type\":\"parcoords\",\"line\":{\"colorbar\":{\"outlinewidth\":0,\"ticks\":\"\"}}}],\"scatterpolargl\":[{\"type\":\"scatterpolargl\",\"marker\":{\"colorbar\":{\"outlinewidth\":0,\"ticks\":\"\"}}}],\"bar\":[{\"error_x\":{\"color\":\"#2a3f5f\"},\"error_y\":{\"color\":\"#2a3f5f\"},\"marker\":{\"line\":{\"color\":\"#E5ECF6\",\"width\":0.5},\"pattern\":{\"fillmode\":\"overlay\",\"size\":10,\"solidity\":0.2}},\"type\":\"bar\"}],\"scattergeo\":[{\"type\":\"scattergeo\",\"marker\":{\"colorbar\":{\"outlinewidth\":0,\"ticks\":\"\"}}}],\"scatterpolar\":[{\"type\":\"scatterpolar\",\"marker\":{\"colorbar\":{\"outlinewidth\":0,\"ticks\":\"\"}}}],\"histogram\":[{\"marker\":{\"pattern\":{\"fillmode\":\"overlay\",\"size\":10,\"solidity\":0.2}},\"type\":\"histogram\"}],\"scattergl\":[{\"type\":\"scattergl\",\"marker\":{\"colorbar\":{\"outlinewidth\":0,\"ticks\":\"\"}}}],\"scatter3d\":[{\"type\":\"scatter3d\",\"line\":{\"colorbar\":{\"outlinewidth\":0,\"ticks\":\"\"}},\"marker\":{\"colorbar\":{\"outlinewidth\":0,\"ticks\":\"\"}}}],\"scattermap\":[{\"type\":\"scattermap\",\"marker\":{\"colorbar\":{\"outlinewidth\":0,\"ticks\":\"\"}}}],\"scattermapbox\":[{\"type\":\"scattermapbox\",\"marker\":{\"colorbar\":{\"outlinewidth\":0,\"ticks\":\"\"}}}],\"scatterternary\":[{\"type\":\"scatterternary\",\"marker\":{\"colorbar\":{\"outlinewidth\":0,\"ticks\":\"\"}}}],\"scattercarpet\":[{\"type\":\"scattercarpet\",\"marker\":{\"colorbar\":{\"outlinewidth\":0,\"ticks\":\"\"}}}],\"carpet\":[{\"aaxis\":{\"endlinecolor\":\"#2a3f5f\",\"gridcolor\":\"white\",\"linecolor\":\"white\",\"minorgridcolor\":\"white\",\"startlinecolor\":\"#2a3f5f\"},\"baxis\":{\"endlinecolor\":\"#2a3f5f\",\"gridcolor\":\"white\",\"linecolor\":\"white\",\"minorgridcolor\":\"white\",\"startlinecolor\":\"#2a3f5f\"},\"type\":\"carpet\"}],\"table\":[{\"cells\":{\"fill\":{\"color\":\"#EBF0F8\"},\"line\":{\"color\":\"white\"}},\"header\":{\"fill\":{\"color\":\"#C8D4E3\"},\"line\":{\"color\":\"white\"}},\"type\":\"table\"}],\"barpolar\":[{\"marker\":{\"line\":{\"color\":\"#E5ECF6\",\"width\":0.5},\"pattern\":{\"fillmode\":\"overlay\",\"size\":10,\"solidity\":0.2}},\"type\":\"barpolar\"}],\"pie\":[{\"automargin\":true,\"type\":\"pie\"}]},\"layout\":{\"autotypenumbers\":\"strict\",\"colorway\":[\"#636efa\",\"#EF553B\",\"#00cc96\",\"#ab63fa\",\"#FFA15A\",\"#19d3f3\",\"#FF6692\",\"#B6E880\",\"#FF97FF\",\"#FECB52\"],\"font\":{\"color\":\"#2a3f5f\"},\"hovermode\":\"closest\",\"hoverlabel\":{\"align\":\"left\"},\"paper_bgcolor\":\"white\",\"plot_bgcolor\":\"#E5ECF6\",\"polar\":{\"bgcolor\":\"#E5ECF6\",\"angularaxis\":{\"gridcolor\":\"white\",\"linecolor\":\"white\",\"ticks\":\"\"},\"radialaxis\":{\"gridcolor\":\"white\",\"linecolor\":\"white\",\"ticks\":\"\"}},\"ternary\":{\"bgcolor\":\"#E5ECF6\",\"aaxis\":{\"gridcolor\":\"white\",\"linecolor\":\"white\",\"ticks\":\"\"},\"baxis\":{\"gridcolor\":\"white\",\"linecolor\":\"white\",\"ticks\":\"\"},\"caxis\":{\"gridcolor\":\"white\",\"linecolor\":\"white\",\"ticks\":\"\"}},\"coloraxis\":{\"colorbar\":{\"outlinewidth\":0,\"ticks\":\"\"}},\"colorscale\":{\"sequential\":[[0.0,\"#0d0887\"],[0.1111111111111111,\"#46039f\"],[0.2222222222222222,\"#7201a8\"],[0.3333333333333333,\"#9c179e\"],[0.4444444444444444,\"#bd3786\"],[0.5555555555555556,\"#d8576b\"],[0.6666666666666666,\"#ed7953\"],[0.7777777777777778,\"#fb9f3a\"],[0.8888888888888888,\"#fdca26\"],[1.0,\"#f0f921\"]],\"sequentialminus\":[[0.0,\"#0d0887\"],[0.1111111111111111,\"#46039f\"],[0.2222222222222222,\"#7201a8\"],[0.3333333333333333,\"#9c179e\"],[0.4444444444444444,\"#bd3786\"],[0.5555555555555556,\"#d8576b\"],[0.6666666666666666,\"#ed7953\"],[0.7777777777777778,\"#fb9f3a\"],[0.8888888888888888,\"#fdca26\"],[1.0,\"#f0f921\"]],\"diverging\":[[0,\"#8e0152\"],[0.1,\"#c51b7d\"],[0.2,\"#de77ae\"],[0.3,\"#f1b6da\"],[0.4,\"#fde0ef\"],[0.5,\"#f7f7f7\"],[0.6,\"#e6f5d0\"],[0.7,\"#b8e186\"],[0.8,\"#7fbc41\"],[0.9,\"#4d9221\"],[1,\"#276419\"]]},\"xaxis\":{\"gridcolor\":\"white\",\"linecolor\":\"white\",\"ticks\":\"\",\"title\":{\"standoff\":15},\"zerolinecolor\":\"white\",\"automargin\":true,\"zerolinewidth\":2},\"yaxis\":{\"gridcolor\":\"white\",\"linecolor\":\"white\",\"ticks\":\"\",\"title\":{\"standoff\":15},\"zerolinecolor\":\"white\",\"automargin\":true,\"zerolinewidth\":2},\"scene\":{\"xaxis\":{\"backgroundcolor\":\"#E5ECF6\",\"gridcolor\":\"white\",\"linecolor\":\"white\",\"showbackground\":true,\"ticks\":\"\",\"zerolinecolor\":\"white\",\"gridwidth\":2},\"yaxis\":{\"backgroundcolor\":\"#E5ECF6\",\"gridcolor\":\"white\",\"linecolor\":\"white\",\"showbackground\":true,\"ticks\":\"\",\"zerolinecolor\":\"white\",\"gridwidth\":2},\"zaxis\":{\"backgroundcolor\":\"#E5ECF6\",\"gridcolor\":\"white\",\"linecolor\":\"white\",\"showbackground\":true,\"ticks\":\"\",\"zerolinecolor\":\"white\",\"gridwidth\":2}},\"shapedefaults\":{\"line\":{\"color\":\"#2a3f5f\"}},\"annotationdefaults\":{\"arrowcolor\":\"#2a3f5f\",\"arrowhead\":0,\"arrowwidth\":1},\"geo\":{\"bgcolor\":\"white\",\"landcolor\":\"#E5ECF6\",\"subunitcolor\":\"white\",\"showland\":true,\"showlakes\":true,\"lakecolor\":\"white\"},\"title\":{\"x\":0.05},\"mapbox\":{\"style\":\"light\"}}},\"xaxis\":{\"anchor\":\"y\",\"domain\":[0.0,0.22444444444444445],\"title\":{\"text\":\"Date\"}},\"yaxis\":{\"anchor\":\"x\",\"domain\":[0.7777777777777778,1.0],\"title\":{\"text\":\"Revenue ($)\"}},\"xaxis2\":{\"anchor\":\"y2\",\"domain\":[0.35777777777777775,0.5822222222222222],\"title\":{\"text\":\"Date\"}},\"yaxis2\":{\"anchor\":\"x2\",\"domain\":[0.7777777777777778,1.0],\"title\":{\"text\":\"Customers\"}},\"yaxis3\":{\"anchor\":\"x2\",\"overlaying\":\"y2\",\"side\":\"right\",\"title\":{\"text\":\"Orders\"}},\"xaxis3\":{\"anchor\":\"y4\",\"domain\":[0.7155555555555555,0.94],\"title\":{\"text\":\"Date\"}},\"yaxis4\":{\"anchor\":\"x3\",\"domain\":[0.7777777777777778,1.0],\"title\":{\"text\":\"Average Order Value ($)\"}},\"xaxis4\":{\"anchor\":\"y5\",\"domain\":[0.0,0.22444444444444445]},\"yaxis5\":{\"anchor\":\"x4\",\"domain\":[0.3888888888888889,0.6111111111111112]},\"xaxis5\":{\"anchor\":\"y6\",\"domain\":[0.7155555555555555,0.94]},\"yaxis6\":{\"anchor\":\"x5\",\"domain\":[0.3888888888888889,0.6111111111111112]},\"xaxis6\":{\"anchor\":\"y7\",\"domain\":[0.0,0.22444444444444445]},\"yaxis7\":{\"anchor\":\"x6\",\"domain\":[0.0,0.22222222222222224]},\"yaxis8\":{\"anchor\":\"x6\",\"overlaying\":\"y7\",\"side\":\"right\"},\"xaxis7\":{\"anchor\":\"y9\",\"domain\":[0.35777777777777775,0.5822222222222222]},\"yaxis9\":{\"anchor\":\"x7\",\"domain\":[0.0,0.22222222222222224]},\"xaxis8\":{\"anchor\":\"y10\",\"domain\":[0.7155555555555555,0.94]},\"yaxis10\":{\"anchor\":\"x8\",\"domain\":[0.0,0.22222222222222224]},\"annotations\":[{\"font\":{\"size\":16},\"showarrow\":false,\"text\":\"Revenue Trend\",\"x\":0.11222222222222222,\"xanchor\":\"center\",\"xref\":\"paper\",\"y\":1.0,\"yanchor\":\"bottom\",\"yref\":\"paper\"},{\"font\":{\"size\":16},\"showarrow\":false,\"text\":\"Customer Metrics\",\"x\":0.47,\"xanchor\":\"center\",\"xref\":\"paper\",\"y\":1.0,\"yanchor\":\"bottom\",\"yref\":\"paper\"},{\"font\":{\"size\":16},\"showarrow\":false,\"text\":\"Order Performance\",\"x\":0.8277777777777777,\"xanchor\":\"center\",\"xref\":\"paper\",\"y\":1.0,\"yanchor\":\"bottom\",\"yref\":\"paper\"},{\"font\":{\"size\":16},\"showarrow\":false,\"text\":\"Marketing Efficiency\",\"x\":0.11222222222222222,\"xanchor\":\"center\",\"xref\":\"paper\",\"y\":0.6111111111111112,\"yanchor\":\"bottom\",\"yref\":\"paper\"},{\"font\":{\"size\":16},\"showarrow\":false,\"text\":\"Regional Performance\",\"x\":0.47,\"xanchor\":\"center\",\"xref\":\"paper\",\"y\":0.6111111111111112,\"yanchor\":\"bottom\",\"yref\":\"paper\"},{\"font\":{\"size\":16},\"showarrow\":false,\"text\":\"Growth Indicators\",\"x\":0.8277777777777777,\"xanchor\":\"center\",\"xref\":\"paper\",\"y\":0.6111111111111112,\"yanchor\":\"bottom\",\"yref\":\"paper\"},{\"font\":{\"size\":16},\"showarrow\":false,\"text\":\"Operational Metrics\",\"x\":0.11222222222222222,\"xanchor\":\"center\",\"xref\":\"paper\",\"y\":0.22222222222222224,\"yanchor\":\"bottom\",\"yref\":\"paper\"},{\"font\":{\"size\":16},\"showarrow\":false,\"text\":\"Financial Health\",\"x\":0.47,\"xanchor\":\"center\",\"xref\":\"paper\",\"y\":0.22222222222222224,\"yanchor\":\"bottom\",\"yref\":\"paper\"},{\"font\":{\"size\":16},\"showarrow\":false,\"text\":\"Key Ratios\",\"x\":0.8277777777777777,\"xanchor\":\"center\",\"xref\":\"paper\",\"y\":0.22222222222222224,\"yanchor\":\"bottom\",\"yref\":\"paper\"}],\"title\":{\"font\":{\"size\":20},\"text\":\"\\u003cb\\u003eExecutive Dashboard - Business Performance Overview\\u003c\\u002fb\\u003e\",\"x\":0.5},\"height\":1200,\"showlegend\":false},                        {\"responsive\": true}                    ).then(function(){\n",
       "                            \n",
       "var gd = document.getElementById('c7befe24-f972-4b3a-a99d-e6dabe9e81ea');\n",
       "var x = new MutationObserver(function (mutations, observer) {{\n",
       "        var display = window.getComputedStyle(gd).display;\n",
       "        if (!display || display === 'none') {{\n",
       "            console.log([gd, 'removed!']);\n",
       "            Plotly.purge(gd);\n",
       "            observer.disconnect();\n",
       "        }}\n",
       "}});\n",
       "\n",
       "// Listen for the removal of the full notebook cells\n",
       "var notebookContainer = gd.closest('#notebook-container');\n",
       "if (notebookContainer) {{\n",
       "    x.observe(notebookContainer, {childList: true});\n",
       "}}\n",
       "\n",
       "// Listen for the clearing of the current output cell\n",
       "var outputEl = gd.closest('.output');\n",
       "if (outputEl) {{\n",
       "    x.observe(outputEl, {childList: true});\n",
       "}}\n",
       "\n",
       "                        })                };            </script>        </div>"
      ]
     },
     "metadata": {},
     "output_type": "display_data"
    },
    {
     "name": "stdout",
     "output_type": "stream",
     "text": [
      "✅ Executive Dashboard created successfully!\n",
      "\n",
      "📋 Dashboard includes:\n",
      "  • Revenue trends and growth patterns\n",
      "  • Customer acquisition and retention metrics\n",
      "  • Order performance and value analysis\n",
      "  • Marketing ROI and efficiency tracking\n",
      "  • Regional performance breakdown\n",
      "  • Operational metrics and quality indicators\n",
      "  • Financial health and profitability metrics\n"
     ]
    }
   ],
   "source": [
    "# Executive Dashboard - Key Performance Indicators\n",
    "print(\"📊 EXECUTIVE DASHBOARD - KEY PERFORMANCE INDICATORS\")\n",
    "print(\"=\" * 65)\n",
    "\n",
    "# Calculate key business metrics\n",
    "recent_data = df_business.tail(90)  # Last 90 days\n",
    "previous_data = df_business.iloc[-180:-90]  # Previous 90 days for comparison\n",
    "\n",
    "# KPI calculations\n",
    "current_kpis = {\n",
    "    'total_revenue': recent_data['revenue'].sum(),\n",
    "    'avg_daily_revenue': recent_data['revenue'].mean(),\n",
    "    'total_customers': recent_data['customers'].sum(),\n",
    "    'avg_order_value': recent_data['avg_order_value'].mean(),\n",
    "    'conversion_rate': recent_data['conversion_rate'].mean(),\n",
    "    'return_rate': recent_data['return_rate'].mean(),\n",
    "    'cac': recent_data['customer_acquisition_cost'].mean(),\n",
    "    'revenue_per_employee': recent_data['revenue_per_employee'].mean()\n",
    "}\n",
    "\n",
    "previous_kpis = {\n",
    "    'total_revenue': previous_data['revenue'].sum(),\n",
    "    'avg_daily_revenue': previous_data['revenue'].mean(),\n",
    "    'total_customers': previous_data['customers'].sum(),\n",
    "    'avg_order_value': previous_data['avg_order_value'].mean(),\n",
    "    'conversion_rate': previous_data['conversion_rate'].mean(),\n",
    "    'return_rate': previous_data['return_rate'].mean(),\n",
    "    'cac': previous_data['customer_acquisition_cost'].mean(),\n",
    "    'revenue_per_employee': previous_data['revenue_per_employee'].mean()\n",
    "}\n",
    "\n",
    "# Calculate growth rates\n",
    "growth_rates = {}\n",
    "for kpi in current_kpis:\n",
    "    if previous_kpis[kpi] != 0:\n",
    "        growth_rates[kpi] = ((current_kpis[kpi] - previous_kpis[kpi]) / previous_kpis[kpi]) * 100\n",
    "    else:\n",
    "        growth_rates[kpi] = 0\n",
    "\n",
    "print(\"📈 90-Day Performance Summary:\")\n",
    "print(\"-\" * 35)\n",
    "for kpi, current_val in current_kpis.items():\n",
    "    growth = growth_rates[kpi]\n",
    "    trend_icon = \"📈\" if growth > 0 else \"📉\" if growth < 0 else \"➡️\"\n",
    "    \n",
    "    if 'rate' in kpi or 'conversion' in kpi:\n",
    "        print(f\"{kpi.replace('_', ' ').title()}: {current_val:.1%} ({growth:+.1f}%) {trend_icon}\")\n",
    "    elif 'revenue' in kpi or 'cac' in kpi:\n",
    "        print(f\"{kpi.replace('_', ' ').title()}: ${current_val:,.0f} ({growth:+.1f}%) {trend_icon}\")\n",
    "    else:\n",
    "        print(f\"{kpi.replace('_', ' ').title()}: {current_val:,.0f} ({growth:+.1f}%) {trend_icon}\")\n",
    "\n",
    "# Create Executive Dashboard with Plotly\n",
    "print(\"\\n🎨 Creating Interactive Executive Dashboard...\")\n",
    "\n",
    "# Create subplots for dashboard\n",
    "fig = make_subplots(\n",
    "    rows=3, cols=3,\n",
    "    subplot_titles=('Revenue Trend', 'Customer Metrics', 'Order Performance',\n",
    "                   'Marketing Efficiency', 'Regional Performance', 'Growth Indicators',\n",
    "                   'Operational Metrics', 'Financial Health', 'Key Ratios'),\n",
    "    specs=[[{\"secondary_y\": False}, {\"secondary_y\": True}, {\"secondary_y\": False}],\n",
    "           [{\"secondary_y\": False}, {\"type\": \"pie\"}, {\"secondary_y\": False}],\n",
    "           [{\"secondary_y\": True}, {\"secondary_y\": False}, {\"secondary_y\": False}]]\n",
    ")\n",
    "\n",
    "# 1. Revenue Trend (Row 1, Col 1)\n",
    "monthly_revenue = df_business.groupby(['year', 'month'])['revenue'].sum().reset_index()\n",
    "monthly_revenue['date'] = pd.to_datetime(monthly_revenue[['year', 'month']].assign(day=1))\n",
    "\n",
    "fig.add_trace(\n",
    "    go.Scatter(x=monthly_revenue['date'], y=monthly_revenue['revenue'],\n",
    "              mode='lines+markers', name='Monthly Revenue',\n",
    "              line=dict(color='#1f77b4', width=3)),\n",
    "    row=1, col=1\n",
    ")\n",
    "\n",
    "# 2. Customer Metrics (Row 1, Col 2)\n",
    "monthly_customers = df_business.groupby(['year', 'month'])['customers'].sum().reset_index()\n",
    "monthly_customers['date'] = pd.to_datetime(monthly_customers[['year', 'month']].assign(day=1))\n",
    "\n",
    "fig.add_trace(\n",
    "    go.Scatter(x=monthly_customers['date'], y=monthly_customers['customers'],\n",
    "              mode='lines+markers', name='Customers', line=dict(color='#ff7f0e')),\n",
    "    row=1, col=2\n",
    ")\n",
    "\n",
    "monthly_orders = df_business.groupby(['year', 'month'])['orders'].sum().reset_index()\n",
    "monthly_orders['date'] = pd.to_datetime(monthly_orders[['year', 'month']].assign(day=1))\n",
    "\n",
    "fig.add_trace(\n",
    "    go.Scatter(x=monthly_orders['date'], y=monthly_orders['orders'],\n",
    "              mode='lines+markers', name='Orders', line=dict(color='#2ca02c')),\n",
    "    row=1, col=2, secondary_y=True\n",
    ")\n",
    "\n",
    "# 3. Order Performance (Row 1, Col 3)\n",
    "monthly_aov = df_business.groupby(['year', 'month'])['avg_order_value'].mean().reset_index()\n",
    "monthly_aov['date'] = pd.to_datetime(monthly_aov[['year', 'month']].assign(day=1))\n",
    "\n",
    "fig.add_trace(\n",
    "    go.Scatter(x=monthly_aov['date'], y=monthly_aov['avg_order_value'],\n",
    "              mode='lines+markers', name='Avg Order Value',\n",
    "              line=dict(color='#d62728', width=2)),\n",
    "    row=1, col=3\n",
    ")\n",
    "\n",
    "# 4. Marketing Efficiency (Row 2, Col 1)\n",
    "monthly_marketing = df_business.groupby(['year', 'month']).agg({\n",
    "    'marketing_spend': 'sum',\n",
    "    'conversions': 'sum'\n",
    "}).reset_index()\n",
    "monthly_marketing['date'] = pd.to_datetime(monthly_marketing[['year', 'month']].assign(day=1))\n",
    "monthly_marketing['roi'] = (monthly_revenue['revenue'] / monthly_marketing['marketing_spend'] - 1) * 100\n",
    "\n",
    "fig.add_trace(\n",
    "    go.Scatter(x=monthly_marketing['date'], y=monthly_marketing['roi'],\n",
    "              mode='lines+markers', name='Marketing ROI (%)',\n",
    "              line=dict(color='#9467bd', width=2)),\n",
    "    row=2, col=1\n",
    ")\n",
    "\n",
    "# 5. Regional Performance (Row 2, Col 2) - Pie Chart\n",
    "regional_revenue = df_transactions.groupby('region')['order_value'].sum()\n",
    "\n",
    "fig.add_trace(\n",
    "    go.Pie(labels=regional_revenue.index, values=regional_revenue.values,\n",
    "           name=\"Regional Revenue\", hole=0.3),\n",
    "    row=2, col=2\n",
    ")\n",
    "\n",
    "# 6. Growth Indicators (Row 2, Col 3)\n",
    "# Calculate month-over-month growth\n",
    "monthly_data = df_business.groupby(['year', 'month']).agg({\n",
    "    'revenue': 'sum',\n",
    "    'customers': 'sum'\n",
    "}).reset_index()\n",
    "\n",
    "monthly_data['revenue_growth'] = monthly_data['revenue'].pct_change() * 100\n",
    "monthly_data['customer_growth'] = monthly_data['customers'].pct_change() * 100\n",
    "monthly_data['date'] = pd.to_datetime(monthly_data[['year', 'month']].assign(day=1))\n",
    "\n",
    "fig.add_trace(\n",
    "    go.Scatter(x=monthly_data['date'], y=monthly_data['revenue_growth'],\n",
    "              mode='lines+markers', name='Revenue Growth %',\n",
    "              line=dict(color='#17becf')),\n",
    "    row=2, col=3\n",
    ")\n",
    "\n",
    "# 7. Operational Metrics (Row 3, Col 1)\n",
    "monthly_returns = df_business.groupby(['year', 'month'])['return_rate'].mean().reset_index()\n",
    "monthly_returns['date'] = pd.to_datetime(monthly_returns[['year', 'month']].assign(day=1))\n",
    "\n",
    "fig.add_trace(\n",
    "    go.Scatter(x=monthly_returns['date'], y=monthly_returns['return_rate']*100,\n",
    "              mode='lines+markers', name='Return Rate %',\n",
    "              line=dict(color='#e377c2')),\n",
    "    row=3, col=1\n",
    ")\n",
    "\n",
    "monthly_support = df_business.groupby(['year', 'month'])['support_tickets'].sum().reset_index()\n",
    "monthly_support['date'] = pd.to_datetime(monthly_support[['year', 'month']].assign(day=1))\n",
    "\n",
    "fig.add_trace(\n",
    "    go.Scatter(x=monthly_support['date'], y=monthly_support['support_tickets'],\n",
    "              mode='lines+markers', name='Support Tickets',\n",
    "              line=dict(color='#bcbd22')),\n",
    "    row=3, col=1, secondary_y=True\n",
    ")\n",
    "\n",
    "# 8. Financial Health (Row 3, Col 2)\n",
    "quarterly_data = df_business.groupby(['year', 'quarter']).agg({\n",
    "    'revenue': 'sum',\n",
    "    'marketing_spend': 'sum'\n",
    "}).reset_index()\n",
    "\n",
    "quarterly_data['profit_margin'] = ((quarterly_data['revenue'] - quarterly_data['marketing_spend']) / \n",
    "                                 quarterly_data['revenue']) * 100\n",
    "quarterly_data['quarter_label'] = quarterly_data['year'].astype(str) + '-Q' + quarterly_data['quarter'].astype(str)\n",
    "\n",
    "fig.add_trace(\n",
    "    go.Bar(x=quarterly_data['quarter_label'], y=quarterly_data['profit_margin'],\n",
    "           name='Profit Margin %', marker_color='#2ca02c'),\n",
    "    row=3, col=2\n",
    ")\n",
    "\n",
    "# 9. Key Ratios (Row 3, Col 3)\n",
    "monthly_cac = df_business.groupby(['year', 'month'])['customer_acquisition_cost'].mean().reset_index()\n",
    "monthly_cac['date'] = pd.to_datetime(monthly_cac[['year', 'month']].assign(day=1))\n",
    "\n",
    "fig.add_trace(\n",
    "    go.Scatter(x=monthly_cac['date'], y=monthly_cac['customer_acquisition_cost'],\n",
    "              mode='lines+markers', name='Customer Acquisition Cost',\n",
    "              line=dict(color='#ff7f0e')),\n",
    "    row=3, col=3\n",
    ")\n",
    "\n",
    "# Update layout\n",
    "fig.update_layout(\n",
    "    height=1200,\n",
    "    showlegend=False,\n",
    "    title_text=\"<b>Executive Dashboard - Business Performance Overview</b>\",\n",
    "    title_x=0.5,\n",
    "    title_font_size=20\n",
    ")\n",
    "\n",
    "# Update axes labels\n",
    "fig.update_xaxes(title_text=\"Date\", row=1, col=1)\n",
    "fig.update_yaxes(title_text=\"Revenue ($)\", row=1, col=1)\n",
    "\n",
    "fig.update_xaxes(title_text=\"Date\", row=1, col=2)\n",
    "fig.update_yaxes(title_text=\"Customers\", row=1, col=2)\n",
    "fig.update_yaxes(title_text=\"Orders\", row=1, col=2, secondary_y=True)\n",
    "\n",
    "fig.update_xaxes(title_text=\"Date\", row=1, col=3)\n",
    "fig.update_yaxes(title_text=\"Average Order Value ($)\", row=1, col=3)\n",
    "\n",
    "# Show the dashboard\n",
    "fig.show()\n",
    "\n",
    "print(\"✅ Executive Dashboard created successfully!\")\n",
    "print(\"\\n📋 Dashboard includes:\")\n",
    "print(\"  • Revenue trends and growth patterns\")\n",
    "print(\"  • Customer acquisition and retention metrics\")\n",
    "print(\"  • Order performance and value analysis\")\n",
    "print(\"  • Marketing ROI and efficiency tracking\")\n",
    "print(\"  • Regional performance breakdown\")\n",
    "print(\"  • Operational metrics and quality indicators\")\n",
    "print(\"  • Financial health and profitability metrics\")"
   ]
  },
  {
   "cell_type": "markdown",
   "id": "71a67b72",
   "metadata": {},
   "source": [
    "## 4. Automated Business Insights and Alerts"
   ]
  },
  {
   "cell_type": "code",
   "execution_count": 6,
   "id": "2774a128",
   "metadata": {},
   "outputs": [
    {
     "name": "stdout",
     "output_type": "stream",
     "text": [
      "🤖 AUTOMATED BUSINESS INSIGHTS AND ALERTS\n",
      "=======================================================\n",
      "🚨 BUSINESS ALERTS\n",
      "-------------------------\n",
      "✅ No critical alerts detected\n",
      "\n",
      "💡 BUSINESS INSIGHTS\n",
      "-------------------------\n",
      "🔥 Seasonality (HIGH Impact)\n",
      "   📊 Insight: Peak sales occur in month 6, lowest in month 1\n",
      "   🎯 Action: Plan inventory and marketing campaigns accordingly\n",
      "\n",
      "⚡ Customer Behavior (MEDIUM Impact)\n",
      "   📊 Insight: Weekend revenue is 70.9% of weekday revenue\n",
      "   🎯 Action: Consider weekend-specific promotions or marketing\n",
      "\n",
      "🔥 Marketing Efficiency (HIGH Impact)\n",
      "   📊 Insight: Customer acquisition cost ($51) is high relative to order value\n",
      "   🎯 Action: Optimize marketing channels and improve conversion rates\n",
      "\n",
      "\n",
      "📋 EXECUTIVE SUMMARY\n",
      "-------------------------\n",
      "Period: 2025-06-20 to 2025-07-19\n",
      "Total Revenue: $3,577,081 (-3.6%)\n",
      "Total Customers: 18,527 (-13.8%)\n",
      "Average Order Value: $147\n",
      "Conversion Rate: 24.3%\n",
      "\n",
      "📊 Creating Alert Dashboard...\n"
     ]
    },
    {
     "data": {
      "application/vnd.plotly.v1+json": {
       "config": {
        "plotlyServerURL": "https://plot.ly"
       },
       "data": [
        {
         "line": {
          "color": "#1f77b4",
          "width": 2
         },
         "mode": "lines+markers",
         "name": "Daily Revenue",
         "type": "scatter",
         "x": [
          "2025-05-21T00:00:00.000000000",
          "2025-05-22T00:00:00.000000000",
          "2025-05-23T00:00:00.000000000",
          "2025-05-24T00:00:00.000000000",
          "2025-05-25T00:00:00.000000000",
          "2025-05-26T00:00:00.000000000",
          "2025-05-27T00:00:00.000000000",
          "2025-05-28T00:00:00.000000000",
          "2025-05-29T00:00:00.000000000",
          "2025-05-30T00:00:00.000000000",
          "2025-05-31T00:00:00.000000000",
          "2025-06-01T00:00:00.000000000",
          "2025-06-02T00:00:00.000000000",
          "2025-06-03T00:00:00.000000000",
          "2025-06-04T00:00:00.000000000",
          "2025-06-05T00:00:00.000000000",
          "2025-06-06T00:00:00.000000000",
          "2025-06-07T00:00:00.000000000",
          "2025-06-08T00:00:00.000000000",
          "2025-06-09T00:00:00.000000000",
          "2025-06-10T00:00:00.000000000",
          "2025-06-11T00:00:00.000000000",
          "2025-06-12T00:00:00.000000000",
          "2025-06-13T00:00:00.000000000",
          "2025-06-14T00:00:00.000000000",
          "2025-06-15T00:00:00.000000000",
          "2025-06-16T00:00:00.000000000",
          "2025-06-17T00:00:00.000000000",
          "2025-06-18T00:00:00.000000000",
          "2025-06-19T00:00:00.000000000",
          "2025-06-20T00:00:00.000000000",
          "2025-06-21T00:00:00.000000000",
          "2025-06-22T00:00:00.000000000",
          "2025-06-23T00:00:00.000000000",
          "2025-06-24T00:00:00.000000000",
          "2025-06-25T00:00:00.000000000",
          "2025-06-26T00:00:00.000000000",
          "2025-06-27T00:00:00.000000000",
          "2025-06-28T00:00:00.000000000",
          "2025-06-29T00:00:00.000000000",
          "2025-06-30T00:00:00.000000000",
          "2025-07-01T00:00:00.000000000",
          "2025-07-02T00:00:00.000000000",
          "2025-07-03T00:00:00.000000000",
          "2025-07-04T00:00:00.000000000",
          "2025-07-05T00:00:00.000000000",
          "2025-07-06T00:00:00.000000000",
          "2025-07-07T00:00:00.000000000",
          "2025-07-08T00:00:00.000000000",
          "2025-07-09T00:00:00.000000000",
          "2025-07-10T00:00:00.000000000",
          "2025-07-11T00:00:00.000000000",
          "2025-07-12T00:00:00.000000000",
          "2025-07-13T00:00:00.000000000",
          "2025-07-14T00:00:00.000000000",
          "2025-07-15T00:00:00.000000000",
          "2025-07-16T00:00:00.000000000",
          "2025-07-17T00:00:00.000000000",
          "2025-07-18T00:00:00.000000000",
          "2025-07-19T00:00:00.000000000"
         ],
         "xaxis": "x",
         "y": {
          "bdata": "CB3iyLU7/EB84kkdU2r6QGhI+KOqp/5AdJd8zVqn+EA4zA8CPBAAQfwO+8My7ABB2GjptycbA0FKIhCNw3ECQdjWGTkTogVBSQE6BLH2CEFeRagdgNf2QILlgHkXYfZA/vgn6NRPA0G9jF5jYLsBQcHud/kougNBf3oBNzQbAEFEUPkSo936QIacRu9YyvRAeoWwjcp+9UCrlMGP9bj8QMBWIFsV9vpATpugECjC/EAo0EIIniX9QJcBRF9QRf5Ac2fSj/Cq80CnGCrZff/xQKZSb8R28ftAaGP61LDPAEGkmEsdpRH6QJQS8c85XABBT1tSz5pl/kDW6RMj/pT3QJTNbkFw7fxAYZn4ablVAkG522K0IFYCQXrzXUHqav1AANq/t4SzBEGKnHT9tWwEQXwoJAzOJAFBkH89Xl1Y+EDlmkSWtXACQfUHqOFCBgJBHiXfFV3LBEHHyWTPVPD/QOfJWY2BNQBBDIubGL/I9kBj6H3eNZT0QKY1dTAho/lA66FKcbZJ+0BVkTaSkef9QNYVXT30WPVAOGTTVDp3+UDaX9V7kkrvQNFQ7iQE2PRAlLxGDyjl80A+Ir04OVX4QAK+k8jpF/1AaeuFrdezAUGxb4/xAqD9QIcy1CqfCfRA",
          "dtype": "f8"
         },
         "yaxis": "y"
        },
        {
         "line": {
          "color": "#ff7f0e",
          "width": 2
         },
         "mode": "lines+markers",
         "name": "Conversion Rate %",
         "type": "scatter",
         "x": [
          "2025-05-21T00:00:00.000000000",
          "2025-05-22T00:00:00.000000000",
          "2025-05-23T00:00:00.000000000",
          "2025-05-24T00:00:00.000000000",
          "2025-05-25T00:00:00.000000000",
          "2025-05-26T00:00:00.000000000",
          "2025-05-27T00:00:00.000000000",
          "2025-05-28T00:00:00.000000000",
          "2025-05-29T00:00:00.000000000",
          "2025-05-30T00:00:00.000000000",
          "2025-05-31T00:00:00.000000000",
          "2025-06-01T00:00:00.000000000",
          "2025-06-02T00:00:00.000000000",
          "2025-06-03T00:00:00.000000000",
          "2025-06-04T00:00:00.000000000",
          "2025-06-05T00:00:00.000000000",
          "2025-06-06T00:00:00.000000000",
          "2025-06-07T00:00:00.000000000",
          "2025-06-08T00:00:00.000000000",
          "2025-06-09T00:00:00.000000000",
          "2025-06-10T00:00:00.000000000",
          "2025-06-11T00:00:00.000000000",
          "2025-06-12T00:00:00.000000000",
          "2025-06-13T00:00:00.000000000",
          "2025-06-14T00:00:00.000000000",
          "2025-06-15T00:00:00.000000000",
          "2025-06-16T00:00:00.000000000",
          "2025-06-17T00:00:00.000000000",
          "2025-06-18T00:00:00.000000000",
          "2025-06-19T00:00:00.000000000",
          "2025-06-20T00:00:00.000000000",
          "2025-06-21T00:00:00.000000000",
          "2025-06-22T00:00:00.000000000",
          "2025-06-23T00:00:00.000000000",
          "2025-06-24T00:00:00.000000000",
          "2025-06-25T00:00:00.000000000",
          "2025-06-26T00:00:00.000000000",
          "2025-06-27T00:00:00.000000000",
          "2025-06-28T00:00:00.000000000",
          "2025-06-29T00:00:00.000000000",
          "2025-06-30T00:00:00.000000000",
          "2025-07-01T00:00:00.000000000",
          "2025-07-02T00:00:00.000000000",
          "2025-07-03T00:00:00.000000000",
          "2025-07-04T00:00:00.000000000",
          "2025-07-05T00:00:00.000000000",
          "2025-07-06T00:00:00.000000000",
          "2025-07-07T00:00:00.000000000",
          "2025-07-08T00:00:00.000000000",
          "2025-07-09T00:00:00.000000000",
          "2025-07-10T00:00:00.000000000",
          "2025-07-11T00:00:00.000000000",
          "2025-07-12T00:00:00.000000000",
          "2025-07-13T00:00:00.000000000",
          "2025-07-14T00:00:00.000000000",
          "2025-07-15T00:00:00.000000000",
          "2025-07-16T00:00:00.000000000",
          "2025-07-17T00:00:00.000000000",
          "2025-07-18T00:00:00.000000000",
          "2025-07-19T00:00:00.000000000"
         ],
         "xaxis": "x2",
         "y": {
          "bdata": "B8GpTNhGQED0RuK8kTg3QGjWAMlwvDlAg6sSPSfkL0CTmzl7kBUuQIlHCPsCyzNAsQQzfR+QPEDlnkZY7mkxQDXRRBNNNDFAkGREca8tN0AxXPAE1uQ7QLNBky8bND1AGDyW92qLMkCMLrroooswQACpK0295UBAWIIlWIIlNECH8hrKa+g/QMLIxFM4FEBAplmmWaZZPkD7uxhUhFsyQCS2k9hOYj9ADuU1lNdQPkBMsR6Z9+w6QAAAAAAAuDVAKaWUUkopNEBJnl6OakUxQGLacK33GDlAq6qqqqqqOkBM0sTfqRU2QPsstfFhdzhAbB3bC3M2NkBgd6ESR8M7QAgVw9NcgEBAMB/ILixGMkBV/vXDl442QHET5ne1uDFAHFFg0ql5O0CC19voD4U9QHVz3uBoy0BAF8JsF8JsNEAwfRR1ePlAQH7Gj5iCOTBAW3KIq0wBO0BKLSRjxxIwQHKHGXypaUBAgw022GCDOUBydf9oblQ8QEN5DeU1lD9Adgu/GhPpMUDI6KGd6oAvQGDvmBrYO0BAodu1csIzNUB8B05SWokxQOolq+5vQjhAfx2MWWn0OkBHo9FoNBovQHHQmjMRWzRAFtAzquseL0BOb3rTm143QC1PItOwXUBA",
          "dtype": "f8"
         },
         "yaxis": "y2"
        },
        {
         "line": {
          "color": "#d62728",
          "width": 2
         },
         "mode": "lines+markers",
         "name": "Return Rate %",
         "type": "scatter",
         "x": [
          "2025-05-21T00:00:00.000000000",
          "2025-05-22T00:00:00.000000000",
          "2025-05-23T00:00:00.000000000",
          "2025-05-24T00:00:00.000000000",
          "2025-05-25T00:00:00.000000000",
          "2025-05-26T00:00:00.000000000",
          "2025-05-27T00:00:00.000000000",
          "2025-05-28T00:00:00.000000000",
          "2025-05-29T00:00:00.000000000",
          "2025-05-30T00:00:00.000000000",
          "2025-05-31T00:00:00.000000000",
          "2025-06-01T00:00:00.000000000",
          "2025-06-02T00:00:00.000000000",
          "2025-06-03T00:00:00.000000000",
          "2025-06-04T00:00:00.000000000",
          "2025-06-05T00:00:00.000000000",
          "2025-06-06T00:00:00.000000000",
          "2025-06-07T00:00:00.000000000",
          "2025-06-08T00:00:00.000000000",
          "2025-06-09T00:00:00.000000000",
          "2025-06-10T00:00:00.000000000",
          "2025-06-11T00:00:00.000000000",
          "2025-06-12T00:00:00.000000000",
          "2025-06-13T00:00:00.000000000",
          "2025-06-14T00:00:00.000000000",
          "2025-06-15T00:00:00.000000000",
          "2025-06-16T00:00:00.000000000",
          "2025-06-17T00:00:00.000000000",
          "2025-06-18T00:00:00.000000000",
          "2025-06-19T00:00:00.000000000",
          "2025-06-20T00:00:00.000000000",
          "2025-06-21T00:00:00.000000000",
          "2025-06-22T00:00:00.000000000",
          "2025-06-23T00:00:00.000000000",
          "2025-06-24T00:00:00.000000000",
          "2025-06-25T00:00:00.000000000",
          "2025-06-26T00:00:00.000000000",
          "2025-06-27T00:00:00.000000000",
          "2025-06-28T00:00:00.000000000",
          "2025-06-29T00:00:00.000000000",
          "2025-06-30T00:00:00.000000000",
          "2025-07-01T00:00:00.000000000",
          "2025-07-02T00:00:00.000000000",
          "2025-07-03T00:00:00.000000000",
          "2025-07-04T00:00:00.000000000",
          "2025-07-05T00:00:00.000000000",
          "2025-07-06T00:00:00.000000000",
          "2025-07-07T00:00:00.000000000",
          "2025-07-08T00:00:00.000000000",
          "2025-07-09T00:00:00.000000000",
          "2025-07-10T00:00:00.000000000",
          "2025-07-11T00:00:00.000000000",
          "2025-07-12T00:00:00.000000000",
          "2025-07-13T00:00:00.000000000",
          "2025-07-14T00:00:00.000000000",
          "2025-07-15T00:00:00.000000000",
          "2025-07-16T00:00:00.000000000",
          "2025-07-17T00:00:00.000000000",
          "2025-07-18T00:00:00.000000000",
          "2025-07-19T00:00:00.000000000"
         ],
         "xaxis": "x3",
         "y": {
          "bdata": "CYoZnkzaBUARct1sS8UVQJ1LYpn6eBhA10G7W5/CGEBiHQo62fYZQFbNFKZj1RxAClwBwtf3E0BX+qirQCUZQLdt27Zt2xZAkqCfWVuGCEDF0x5XAcEAQN3sF2JFaQxAtrgJ87taEkDWeqmcOM8WQLa4CfO7WhxAOI/hPIbzCEA0/8CODS8FQM3hoBL63h5Awr50cqxEBEA+Z2q5cFcTQCxI5K2dpxVAGSselRvgFEBM2znq6XADQEgeeeSRRwJA+avlNq4BBUDRRRdddNEVQD7f44CKlRRAJjZefMHTCkBuxcQR4SIXQH9L6beUfhtALO+ydjr+AUCcSKko7nITQFqkj3LMcBhAudOBvDWKC0CPFpVIvqYOQOh5nud5nhZASemRJfF8HUDN1+rZIXAbQNkt/GpMpBVA1bIOtN1bGUBHxD2q778QQG7btm3bNhdA1EyrR4gWE0CiFkrr7q8IQLV9oTBtXxhAf4vTmu0TFUCocHTLnGsQQCjIbKo1dh1AFbycgpdTAECvnLllvyEOQO8oH89vIwJAOY7jOI5jGkBnQqT0yJIYQJ4+Wk1CFA9ADPqCvqAvGEA0AYPH8l4RQPUCtjld5RlAFjWLmkXNEkCokoftqeQRQNfO9TIB+h1A",
          "dtype": "f8"
         },
         "yaxis": "y3"
        },
        {
         "line": {
          "color": "#2ca02c",
          "width": 2
         },
         "mode": "lines+markers",
         "name": "CAC ($)",
         "type": "scatter",
         "x": [
          "2025-05-21T00:00:00.000000000",
          "2025-05-22T00:00:00.000000000",
          "2025-05-23T00:00:00.000000000",
          "2025-05-24T00:00:00.000000000",
          "2025-05-25T00:00:00.000000000",
          "2025-05-26T00:00:00.000000000",
          "2025-05-27T00:00:00.000000000",
          "2025-05-28T00:00:00.000000000",
          "2025-05-29T00:00:00.000000000",
          "2025-05-30T00:00:00.000000000",
          "2025-05-31T00:00:00.000000000",
          "2025-06-01T00:00:00.000000000",
          "2025-06-02T00:00:00.000000000",
          "2025-06-03T00:00:00.000000000",
          "2025-06-04T00:00:00.000000000",
          "2025-06-05T00:00:00.000000000",
          "2025-06-06T00:00:00.000000000",
          "2025-06-07T00:00:00.000000000",
          "2025-06-08T00:00:00.000000000",
          "2025-06-09T00:00:00.000000000",
          "2025-06-10T00:00:00.000000000",
          "2025-06-11T00:00:00.000000000",
          "2025-06-12T00:00:00.000000000",
          "2025-06-13T00:00:00.000000000",
          "2025-06-14T00:00:00.000000000",
          "2025-06-15T00:00:00.000000000",
          "2025-06-16T00:00:00.000000000",
          "2025-06-17T00:00:00.000000000",
          "2025-06-18T00:00:00.000000000",
          "2025-06-19T00:00:00.000000000",
          "2025-06-20T00:00:00.000000000",
          "2025-06-21T00:00:00.000000000",
          "2025-06-22T00:00:00.000000000",
          "2025-06-23T00:00:00.000000000",
          "2025-06-24T00:00:00.000000000",
          "2025-06-25T00:00:00.000000000",
          "2025-06-26T00:00:00.000000000",
          "2025-06-27T00:00:00.000000000",
          "2025-06-28T00:00:00.000000000",
          "2025-06-29T00:00:00.000000000",
          "2025-06-30T00:00:00.000000000",
          "2025-07-01T00:00:00.000000000",
          "2025-07-02T00:00:00.000000000",
          "2025-07-03T00:00:00.000000000",
          "2025-07-04T00:00:00.000000000",
          "2025-07-05T00:00:00.000000000",
          "2025-07-06T00:00:00.000000000",
          "2025-07-07T00:00:00.000000000",
          "2025-07-08T00:00:00.000000000",
          "2025-07-09T00:00:00.000000000",
          "2025-07-10T00:00:00.000000000",
          "2025-07-11T00:00:00.000000000",
          "2025-07-12T00:00:00.000000000",
          "2025-07-13T00:00:00.000000000",
          "2025-07-14T00:00:00.000000000",
          "2025-07-15T00:00:00.000000000",
          "2025-07-16T00:00:00.000000000",
          "2025-07-17T00:00:00.000000000",
          "2025-07-18T00:00:00.000000000",
          "2025-07-19T00:00:00.000000000"
         ],
         "xaxis": "x4",
         "y": {
          "bdata": "qiQNsPdpOUBrf+HLXClEQDd2KdEX3UZA/Z7jQJDNVkCPk8wKLgdXQAL3bZeSk1FAVSf287C4QUA8b8S7O5tPQCWKuaNJbFBA4cZvNd2jQ0CcUmfVmnY9QNQiDFPlDUlAOKFIpZYdSkCRgeqYj0NNQAjHSe/vaDlAPEj86M4CUkBNA/PZkulCQOWAR2Rkt0NA1ADr6jG4R0AW7/XNLWZMQLBgkCNntkNAp+AtXOlJO0B8ZWZhpkpBQM7AO1JS009ATBdAGb+ZUECPDHkP9FBOQDUjMdElM0VAstolOugGRkCZFBjEDx5CQG5WIu/wzkNAJ2mMwe9MRUBEKoCC6pJBQCCVZYqsrERAoZ1urFNBS0DrLVMRFbhEQGfgSJd9RlBA0PtdiFWbSUAMHxibnGtAQLMaVRm4djlAg3GnBumxSUCngdY71n9DQE6xmjzMRVJATWe6GXBmSUDbzTApY+VWQNJaupsupkRAo/lR57n9R0CgLJj4KD1EQLBe5JCrPDpATEqvmDPTVEBt1UUoa/ZQQFMn5OHk7DtA+aroC3/lTUDsMOAbanxMQDawIH7u9khAEq0eZXuARkBWs863tOJRQC4oGjKlBlFAUkFzxXqwT0AZuSp0VdlHQA6mS6t3AkJA",
          "dtype": "f8"
         },
         "yaxis": "y4"
        }
       ],
       "layout": {
        "annotations": [
         {
          "font": {
           "size": 16
          },
          "showarrow": false,
          "text": "Revenue Trend with Alerts",
          "x": 0.225,
          "xanchor": "center",
          "xref": "paper",
          "y": 1,
          "yanchor": "bottom",
          "yref": "paper"
         },
         {
          "font": {
           "size": 16
          },
          "showarrow": false,
          "text": "Conversion Rate Monitoring",
          "x": 0.775,
          "xanchor": "center",
          "xref": "paper",
          "y": 1,
          "yanchor": "bottom",
          "yref": "paper"
         },
         {
          "font": {
           "size": 16
          },
          "showarrow": false,
          "text": "Return Rate Tracking",
          "x": 0.225,
          "xanchor": "center",
          "xref": "paper",
          "y": 0.375,
          "yanchor": "bottom",
          "yref": "paper"
         },
         {
          "font": {
           "size": 16
          },
          "showarrow": false,
          "text": "Customer Acquisition Cost",
          "x": 0.775,
          "xanchor": "center",
          "xref": "paper",
          "y": 0.375,
          "yanchor": "bottom",
          "yref": "paper"
         },
         {
          "showarrow": false,
          "text": "Upper Alert Threshold",
          "x": 1,
          "xanchor": "right",
          "xref": "x domain",
          "y": 145780.11906088944,
          "yanchor": "bottom",
          "yref": "y"
         },
         {
          "showarrow": false,
          "text": "Lower Alert Threshold",
          "x": 1,
          "xanchor": "right",
          "xref": "x domain",
          "y": 97186.74604059297,
          "yanchor": "bottom",
          "yref": "y"
         },
         {
          "showarrow": false,
          "text": "Alert Threshold (8%)",
          "x": 1,
          "xanchor": "right",
          "xref": "x3 domain",
          "y": 8,
          "yanchor": "bottom",
          "yref": "y3"
         }
        ],
        "height": 800,
        "shapes": [
         {
          "line": {
           "color": "green",
           "dash": "dash"
          },
          "type": "line",
          "x0": 0,
          "x1": 1,
          "xref": "x domain",
          "y0": 145780.11906088944,
          "y1": 145780.11906088944,
          "yref": "y"
         },
         {
          "line": {
           "color": "red",
           "dash": "dash"
          },
          "type": "line",
          "x0": 0,
          "x1": 1,
          "xref": "x domain",
          "y0": 97186.74604059297,
          "y1": 97186.74604059297,
          "yref": "y"
         },
         {
          "line": {
           "color": "red",
           "dash": "dash"
          },
          "type": "line",
          "x0": 0,
          "x1": 1,
          "xref": "x3 domain",
          "y0": 8,
          "y1": 8,
          "yref": "y3"
         }
        ],
        "showlegend": false,
        "template": {
         "data": {
          "bar": [
           {
            "error_x": {
             "color": "#2a3f5f"
            },
            "error_y": {
             "color": "#2a3f5f"
            },
            "marker": {
             "line": {
              "color": "#E5ECF6",
              "width": 0.5
             },
             "pattern": {
              "fillmode": "overlay",
              "size": 10,
              "solidity": 0.2
             }
            },
            "type": "bar"
           }
          ],
          "barpolar": [
           {
            "marker": {
             "line": {
              "color": "#E5ECF6",
              "width": 0.5
             },
             "pattern": {
              "fillmode": "overlay",
              "size": 10,
              "solidity": 0.2
             }
            },
            "type": "barpolar"
           }
          ],
          "carpet": [
           {
            "aaxis": {
             "endlinecolor": "#2a3f5f",
             "gridcolor": "white",
             "linecolor": "white",
             "minorgridcolor": "white",
             "startlinecolor": "#2a3f5f"
            },
            "baxis": {
             "endlinecolor": "#2a3f5f",
             "gridcolor": "white",
             "linecolor": "white",
             "minorgridcolor": "white",
             "startlinecolor": "#2a3f5f"
            },
            "type": "carpet"
           }
          ],
          "choropleth": [
           {
            "colorbar": {
             "outlinewidth": 0,
             "ticks": ""
            },
            "type": "choropleth"
           }
          ],
          "contour": [
           {
            "colorbar": {
             "outlinewidth": 0,
             "ticks": ""
            },
            "colorscale": [
             [
              0,
              "#0d0887"
             ],
             [
              0.1111111111111111,
              "#46039f"
             ],
             [
              0.2222222222222222,
              "#7201a8"
             ],
             [
              0.3333333333333333,
              "#9c179e"
             ],
             [
              0.4444444444444444,
              "#bd3786"
             ],
             [
              0.5555555555555556,
              "#d8576b"
             ],
             [
              0.6666666666666666,
              "#ed7953"
             ],
             [
              0.7777777777777778,
              "#fb9f3a"
             ],
             [
              0.8888888888888888,
              "#fdca26"
             ],
             [
              1,
              "#f0f921"
             ]
            ],
            "type": "contour"
           }
          ],
          "contourcarpet": [
           {
            "colorbar": {
             "outlinewidth": 0,
             "ticks": ""
            },
            "type": "contourcarpet"
           }
          ],
          "heatmap": [
           {
            "colorbar": {
             "outlinewidth": 0,
             "ticks": ""
            },
            "colorscale": [
             [
              0,
              "#0d0887"
             ],
             [
              0.1111111111111111,
              "#46039f"
             ],
             [
              0.2222222222222222,
              "#7201a8"
             ],
             [
              0.3333333333333333,
              "#9c179e"
             ],
             [
              0.4444444444444444,
              "#bd3786"
             ],
             [
              0.5555555555555556,
              "#d8576b"
             ],
             [
              0.6666666666666666,
              "#ed7953"
             ],
             [
              0.7777777777777778,
              "#fb9f3a"
             ],
             [
              0.8888888888888888,
              "#fdca26"
             ],
             [
              1,
              "#f0f921"
             ]
            ],
            "type": "heatmap"
           }
          ],
          "histogram": [
           {
            "marker": {
             "pattern": {
              "fillmode": "overlay",
              "size": 10,
              "solidity": 0.2
             }
            },
            "type": "histogram"
           }
          ],
          "histogram2d": [
           {
            "colorbar": {
             "outlinewidth": 0,
             "ticks": ""
            },
            "colorscale": [
             [
              0,
              "#0d0887"
             ],
             [
              0.1111111111111111,
              "#46039f"
             ],
             [
              0.2222222222222222,
              "#7201a8"
             ],
             [
              0.3333333333333333,
              "#9c179e"
             ],
             [
              0.4444444444444444,
              "#bd3786"
             ],
             [
              0.5555555555555556,
              "#d8576b"
             ],
             [
              0.6666666666666666,
              "#ed7953"
             ],
             [
              0.7777777777777778,
              "#fb9f3a"
             ],
             [
              0.8888888888888888,
              "#fdca26"
             ],
             [
              1,
              "#f0f921"
             ]
            ],
            "type": "histogram2d"
           }
          ],
          "histogram2dcontour": [
           {
            "colorbar": {
             "outlinewidth": 0,
             "ticks": ""
            },
            "colorscale": [
             [
              0,
              "#0d0887"
             ],
             [
              0.1111111111111111,
              "#46039f"
             ],
             [
              0.2222222222222222,
              "#7201a8"
             ],
             [
              0.3333333333333333,
              "#9c179e"
             ],
             [
              0.4444444444444444,
              "#bd3786"
             ],
             [
              0.5555555555555556,
              "#d8576b"
             ],
             [
              0.6666666666666666,
              "#ed7953"
             ],
             [
              0.7777777777777778,
              "#fb9f3a"
             ],
             [
              0.8888888888888888,
              "#fdca26"
             ],
             [
              1,
              "#f0f921"
             ]
            ],
            "type": "histogram2dcontour"
           }
          ],
          "mesh3d": [
           {
            "colorbar": {
             "outlinewidth": 0,
             "ticks": ""
            },
            "type": "mesh3d"
           }
          ],
          "parcoords": [
           {
            "line": {
             "colorbar": {
              "outlinewidth": 0,
              "ticks": ""
             }
            },
            "type": "parcoords"
           }
          ],
          "pie": [
           {
            "automargin": true,
            "type": "pie"
           }
          ],
          "scatter": [
           {
            "fillpattern": {
             "fillmode": "overlay",
             "size": 10,
             "solidity": 0.2
            },
            "type": "scatter"
           }
          ],
          "scatter3d": [
           {
            "line": {
             "colorbar": {
              "outlinewidth": 0,
              "ticks": ""
             }
            },
            "marker": {
             "colorbar": {
              "outlinewidth": 0,
              "ticks": ""
             }
            },
            "type": "scatter3d"
           }
          ],
          "scattercarpet": [
           {
            "marker": {
             "colorbar": {
              "outlinewidth": 0,
              "ticks": ""
             }
            },
            "type": "scattercarpet"
           }
          ],
          "scattergeo": [
           {
            "marker": {
             "colorbar": {
              "outlinewidth": 0,
              "ticks": ""
             }
            },
            "type": "scattergeo"
           }
          ],
          "scattergl": [
           {
            "marker": {
             "colorbar": {
              "outlinewidth": 0,
              "ticks": ""
             }
            },
            "type": "scattergl"
           }
          ],
          "scattermap": [
           {
            "marker": {
             "colorbar": {
              "outlinewidth": 0,
              "ticks": ""
             }
            },
            "type": "scattermap"
           }
          ],
          "scattermapbox": [
           {
            "marker": {
             "colorbar": {
              "outlinewidth": 0,
              "ticks": ""
             }
            },
            "type": "scattermapbox"
           }
          ],
          "scatterpolar": [
           {
            "marker": {
             "colorbar": {
              "outlinewidth": 0,
              "ticks": ""
             }
            },
            "type": "scatterpolar"
           }
          ],
          "scatterpolargl": [
           {
            "marker": {
             "colorbar": {
              "outlinewidth": 0,
              "ticks": ""
             }
            },
            "type": "scatterpolargl"
           }
          ],
          "scatterternary": [
           {
            "marker": {
             "colorbar": {
              "outlinewidth": 0,
              "ticks": ""
             }
            },
            "type": "scatterternary"
           }
          ],
          "surface": [
           {
            "colorbar": {
             "outlinewidth": 0,
             "ticks": ""
            },
            "colorscale": [
             [
              0,
              "#0d0887"
             ],
             [
              0.1111111111111111,
              "#46039f"
             ],
             [
              0.2222222222222222,
              "#7201a8"
             ],
             [
              0.3333333333333333,
              "#9c179e"
             ],
             [
              0.4444444444444444,
              "#bd3786"
             ],
             [
              0.5555555555555556,
              "#d8576b"
             ],
             [
              0.6666666666666666,
              "#ed7953"
             ],
             [
              0.7777777777777778,
              "#fb9f3a"
             ],
             [
              0.8888888888888888,
              "#fdca26"
             ],
             [
              1,
              "#f0f921"
             ]
            ],
            "type": "surface"
           }
          ],
          "table": [
           {
            "cells": {
             "fill": {
              "color": "#EBF0F8"
             },
             "line": {
              "color": "white"
             }
            },
            "header": {
             "fill": {
              "color": "#C8D4E3"
             },
             "line": {
              "color": "white"
             }
            },
            "type": "table"
           }
          ]
         },
         "layout": {
          "annotationdefaults": {
           "arrowcolor": "#2a3f5f",
           "arrowhead": 0,
           "arrowwidth": 1
          },
          "autotypenumbers": "strict",
          "coloraxis": {
           "colorbar": {
            "outlinewidth": 0,
            "ticks": ""
           }
          },
          "colorscale": {
           "diverging": [
            [
             0,
             "#8e0152"
            ],
            [
             0.1,
             "#c51b7d"
            ],
            [
             0.2,
             "#de77ae"
            ],
            [
             0.3,
             "#f1b6da"
            ],
            [
             0.4,
             "#fde0ef"
            ],
            [
             0.5,
             "#f7f7f7"
            ],
            [
             0.6,
             "#e6f5d0"
            ],
            [
             0.7,
             "#b8e186"
            ],
            [
             0.8,
             "#7fbc41"
            ],
            [
             0.9,
             "#4d9221"
            ],
            [
             1,
             "#276419"
            ]
           ],
           "sequential": [
            [
             0,
             "#0d0887"
            ],
            [
             0.1111111111111111,
             "#46039f"
            ],
            [
             0.2222222222222222,
             "#7201a8"
            ],
            [
             0.3333333333333333,
             "#9c179e"
            ],
            [
             0.4444444444444444,
             "#bd3786"
            ],
            [
             0.5555555555555556,
             "#d8576b"
            ],
            [
             0.6666666666666666,
             "#ed7953"
            ],
            [
             0.7777777777777778,
             "#fb9f3a"
            ],
            [
             0.8888888888888888,
             "#fdca26"
            ],
            [
             1,
             "#f0f921"
            ]
           ],
           "sequentialminus": [
            [
             0,
             "#0d0887"
            ],
            [
             0.1111111111111111,
             "#46039f"
            ],
            [
             0.2222222222222222,
             "#7201a8"
            ],
            [
             0.3333333333333333,
             "#9c179e"
            ],
            [
             0.4444444444444444,
             "#bd3786"
            ],
            [
             0.5555555555555556,
             "#d8576b"
            ],
            [
             0.6666666666666666,
             "#ed7953"
            ],
            [
             0.7777777777777778,
             "#fb9f3a"
            ],
            [
             0.8888888888888888,
             "#fdca26"
            ],
            [
             1,
             "#f0f921"
            ]
           ]
          },
          "colorway": [
           "#636efa",
           "#EF553B",
           "#00cc96",
           "#ab63fa",
           "#FFA15A",
           "#19d3f3",
           "#FF6692",
           "#B6E880",
           "#FF97FF",
           "#FECB52"
          ],
          "font": {
           "color": "#2a3f5f"
          },
          "geo": {
           "bgcolor": "white",
           "lakecolor": "white",
           "landcolor": "#E5ECF6",
           "showlakes": true,
           "showland": true,
           "subunitcolor": "white"
          },
          "hoverlabel": {
           "align": "left"
          },
          "hovermode": "closest",
          "mapbox": {
           "style": "light"
          },
          "paper_bgcolor": "white",
          "plot_bgcolor": "#E5ECF6",
          "polar": {
           "angularaxis": {
            "gridcolor": "white",
            "linecolor": "white",
            "ticks": ""
           },
           "bgcolor": "#E5ECF6",
           "radialaxis": {
            "gridcolor": "white",
            "linecolor": "white",
            "ticks": ""
           }
          },
          "scene": {
           "xaxis": {
            "backgroundcolor": "#E5ECF6",
            "gridcolor": "white",
            "gridwidth": 2,
            "linecolor": "white",
            "showbackground": true,
            "ticks": "",
            "zerolinecolor": "white"
           },
           "yaxis": {
            "backgroundcolor": "#E5ECF6",
            "gridcolor": "white",
            "gridwidth": 2,
            "linecolor": "white",
            "showbackground": true,
            "ticks": "",
            "zerolinecolor": "white"
           },
           "zaxis": {
            "backgroundcolor": "#E5ECF6",
            "gridcolor": "white",
            "gridwidth": 2,
            "linecolor": "white",
            "showbackground": true,
            "ticks": "",
            "zerolinecolor": "white"
           }
          },
          "shapedefaults": {
           "line": {
            "color": "#2a3f5f"
           }
          },
          "ternary": {
           "aaxis": {
            "gridcolor": "white",
            "linecolor": "white",
            "ticks": ""
           },
           "baxis": {
            "gridcolor": "white",
            "linecolor": "white",
            "ticks": ""
           },
           "bgcolor": "#E5ECF6",
           "caxis": {
            "gridcolor": "white",
            "linecolor": "white",
            "ticks": ""
           }
          },
          "title": {
           "x": 0.05
          },
          "xaxis": {
           "automargin": true,
           "gridcolor": "white",
           "linecolor": "white",
           "ticks": "",
           "title": {
            "standoff": 15
           },
           "zerolinecolor": "white",
           "zerolinewidth": 2
          },
          "yaxis": {
           "automargin": true,
           "gridcolor": "white",
           "linecolor": "white",
           "ticks": "",
           "title": {
            "standoff": 15
           },
           "zerolinecolor": "white",
           "zerolinewidth": 2
          }
         }
        },
        "title": {
         "text": "<b>Business Intelligence Alert Dashboard</b>",
         "x": 0.5
        },
        "xaxis": {
         "anchor": "y",
         "domain": [
          0,
          0.45
         ]
        },
        "xaxis2": {
         "anchor": "y2",
         "domain": [
          0.55,
          1
         ]
        },
        "xaxis3": {
         "anchor": "y3",
         "domain": [
          0,
          0.45
         ]
        },
        "xaxis4": {
         "anchor": "y4",
         "domain": [
          0.55,
          1
         ]
        },
        "yaxis": {
         "anchor": "x",
         "domain": [
          0.625,
          1
         ]
        },
        "yaxis2": {
         "anchor": "x2",
         "domain": [
          0.625,
          1
         ]
        },
        "yaxis3": {
         "anchor": "x3",
         "domain": [
          0,
          0.375
         ]
        },
        "yaxis4": {
         "anchor": "x4",
         "domain": [
          0,
          0.375
         ]
        }
       }
      },
      "text/html": [
       "<div>            <script src=\"https://cdnjs.cloudflare.com/ajax/libs/mathjax/2.7.5/MathJax.js?config=TeX-AMS-MML_SVG\"></script><script type=\"text/javascript\">if (window.MathJax && window.MathJax.Hub && window.MathJax.Hub.Config) {window.MathJax.Hub.Config({SVG: {font: \"STIX-Web\"}});}</script>                <script type=\"text/javascript\">window.PlotlyConfig = {MathJaxConfig: 'local'};</script>\n",
       "        <script charset=\"utf-8\" src=\"https://cdn.plot.ly/plotly-3.0.1.min.js\" integrity=\"sha256-oy6Be7Eh6eiQFs5M7oXuPxxm9qbJXEtTpfSI93dW16Q=\" crossorigin=\"anonymous\"></script>                <div id=\"6b039b29-898b-4e57-bb95-b40d032c9e11\" class=\"plotly-graph-div\" style=\"height:800px; width:100%;\"></div>            <script type=\"text/javascript\">                window.PLOTLYENV=window.PLOTLYENV || {};                                if (document.getElementById(\"6b039b29-898b-4e57-bb95-b40d032c9e11\")) {                    Plotly.newPlot(                        \"6b039b29-898b-4e57-bb95-b40d032c9e11\",                        [{\"line\":{\"color\":\"#1f77b4\",\"width\":2},\"mode\":\"lines+markers\",\"name\":\"Daily Revenue\",\"x\":[\"2025-05-21T00:00:00.000000000\",\"2025-05-22T00:00:00.000000000\",\"2025-05-23T00:00:00.000000000\",\"2025-05-24T00:00:00.000000000\",\"2025-05-25T00:00:00.000000000\",\"2025-05-26T00:00:00.000000000\",\"2025-05-27T00:00:00.000000000\",\"2025-05-28T00:00:00.000000000\",\"2025-05-29T00:00:00.000000000\",\"2025-05-30T00:00:00.000000000\",\"2025-05-31T00:00:00.000000000\",\"2025-06-01T00:00:00.000000000\",\"2025-06-02T00:00:00.000000000\",\"2025-06-03T00:00:00.000000000\",\"2025-06-04T00:00:00.000000000\",\"2025-06-05T00:00:00.000000000\",\"2025-06-06T00:00:00.000000000\",\"2025-06-07T00:00:00.000000000\",\"2025-06-08T00:00:00.000000000\",\"2025-06-09T00:00:00.000000000\",\"2025-06-10T00:00:00.000000000\",\"2025-06-11T00:00:00.000000000\",\"2025-06-12T00:00:00.000000000\",\"2025-06-13T00:00:00.000000000\",\"2025-06-14T00:00:00.000000000\",\"2025-06-15T00:00:00.000000000\",\"2025-06-16T00:00:00.000000000\",\"2025-06-17T00:00:00.000000000\",\"2025-06-18T00:00:00.000000000\",\"2025-06-19T00:00:00.000000000\",\"2025-06-20T00:00:00.000000000\",\"2025-06-21T00:00:00.000000000\",\"2025-06-22T00:00:00.000000000\",\"2025-06-23T00:00:00.000000000\",\"2025-06-24T00:00:00.000000000\",\"2025-06-25T00:00:00.000000000\",\"2025-06-26T00:00:00.000000000\",\"2025-06-27T00:00:00.000000000\",\"2025-06-28T00:00:00.000000000\",\"2025-06-29T00:00:00.000000000\",\"2025-06-30T00:00:00.000000000\",\"2025-07-01T00:00:00.000000000\",\"2025-07-02T00:00:00.000000000\",\"2025-07-03T00:00:00.000000000\",\"2025-07-04T00:00:00.000000000\",\"2025-07-05T00:00:00.000000000\",\"2025-07-06T00:00:00.000000000\",\"2025-07-07T00:00:00.000000000\",\"2025-07-08T00:00:00.000000000\",\"2025-07-09T00:00:00.000000000\",\"2025-07-10T00:00:00.000000000\",\"2025-07-11T00:00:00.000000000\",\"2025-07-12T00:00:00.000000000\",\"2025-07-13T00:00:00.000000000\",\"2025-07-14T00:00:00.000000000\",\"2025-07-15T00:00:00.000000000\",\"2025-07-16T00:00:00.000000000\",\"2025-07-17T00:00:00.000000000\",\"2025-07-18T00:00:00.000000000\",\"2025-07-19T00:00:00.000000000\"],\"y\":{\"dtype\":\"f8\",\"bdata\":\"CB3iyLU7\\u002fEB84kkdU2r6QGhI+KOqp\\u002f5AdJd8zVqn+EA4zA8CPBAAQfwO+8My7ABB2GjptycbA0FKIhCNw3ECQdjWGTkTogVBSQE6BLH2CEFeRagdgNf2QILlgHkXYfZA\\u002fvgn6NRPA0G9jF5jYLsBQcHud\\u002fkougNBf3oBNzQbAEFEUPkSo936QIacRu9YyvRAeoWwjcp+9UCrlMGP9bj8QMBWIFsV9vpATpugECjC\\u002fEAo0EIIniX9QJcBRF9QRf5Ac2fSj\\u002fCq80CnGCrZff\\u002fxQKZSb8R28ftAaGP61LDPAEGkmEsdpRH6QJQS8c85XABBT1tSz5pl\\u002fkDW6RMj\\u002fpT3QJTNbkFw7fxAYZn4ablVAkG522K0IFYCQXrzXUHqav1AANq\\u002ft4SzBEGKnHT9tWwEQXwoJAzOJAFBkH89Xl1Y+EDlmkSWtXACQfUHqOFCBgJBHiXfFV3LBEHHyWTPVPD\\u002fQOfJWY2BNQBBDIubGL\\u002fI9kBj6H3eNZT0QKY1dTAho\\u002flA66FKcbZJ+0BVkTaSkef9QNYVXT30WPVAOGTTVDp3+UDaX9V7kkrvQNFQ7iQE2PRAlLxGDyjl80A+Ir04OVX4QAK+k8jpF\\u002f1AaeuFrdezAUGxb4\\u002fxAqD9QIcy1CqfCfRA\"},\"type\":\"scatter\",\"xaxis\":\"x\",\"yaxis\":\"y\"},{\"line\":{\"color\":\"#ff7f0e\",\"width\":2},\"mode\":\"lines+markers\",\"name\":\"Conversion Rate %\",\"x\":[\"2025-05-21T00:00:00.000000000\",\"2025-05-22T00:00:00.000000000\",\"2025-05-23T00:00:00.000000000\",\"2025-05-24T00:00:00.000000000\",\"2025-05-25T00:00:00.000000000\",\"2025-05-26T00:00:00.000000000\",\"2025-05-27T00:00:00.000000000\",\"2025-05-28T00:00:00.000000000\",\"2025-05-29T00:00:00.000000000\",\"2025-05-30T00:00:00.000000000\",\"2025-05-31T00:00:00.000000000\",\"2025-06-01T00:00:00.000000000\",\"2025-06-02T00:00:00.000000000\",\"2025-06-03T00:00:00.000000000\",\"2025-06-04T00:00:00.000000000\",\"2025-06-05T00:00:00.000000000\",\"2025-06-06T00:00:00.000000000\",\"2025-06-07T00:00:00.000000000\",\"2025-06-08T00:00:00.000000000\",\"2025-06-09T00:00:00.000000000\",\"2025-06-10T00:00:00.000000000\",\"2025-06-11T00:00:00.000000000\",\"2025-06-12T00:00:00.000000000\",\"2025-06-13T00:00:00.000000000\",\"2025-06-14T00:00:00.000000000\",\"2025-06-15T00:00:00.000000000\",\"2025-06-16T00:00:00.000000000\",\"2025-06-17T00:00:00.000000000\",\"2025-06-18T00:00:00.000000000\",\"2025-06-19T00:00:00.000000000\",\"2025-06-20T00:00:00.000000000\",\"2025-06-21T00:00:00.000000000\",\"2025-06-22T00:00:00.000000000\",\"2025-06-23T00:00:00.000000000\",\"2025-06-24T00:00:00.000000000\",\"2025-06-25T00:00:00.000000000\",\"2025-06-26T00:00:00.000000000\",\"2025-06-27T00:00:00.000000000\",\"2025-06-28T00:00:00.000000000\",\"2025-06-29T00:00:00.000000000\",\"2025-06-30T00:00:00.000000000\",\"2025-07-01T00:00:00.000000000\",\"2025-07-02T00:00:00.000000000\",\"2025-07-03T00:00:00.000000000\",\"2025-07-04T00:00:00.000000000\",\"2025-07-05T00:00:00.000000000\",\"2025-07-06T00:00:00.000000000\",\"2025-07-07T00:00:00.000000000\",\"2025-07-08T00:00:00.000000000\",\"2025-07-09T00:00:00.000000000\",\"2025-07-10T00:00:00.000000000\",\"2025-07-11T00:00:00.000000000\",\"2025-07-12T00:00:00.000000000\",\"2025-07-13T00:00:00.000000000\",\"2025-07-14T00:00:00.000000000\",\"2025-07-15T00:00:00.000000000\",\"2025-07-16T00:00:00.000000000\",\"2025-07-17T00:00:00.000000000\",\"2025-07-18T00:00:00.000000000\",\"2025-07-19T00:00:00.000000000\"],\"y\":{\"dtype\":\"f8\",\"bdata\":\"B8GpTNhGQED0RuK8kTg3QGjWAMlwvDlAg6sSPSfkL0CTmzl7kBUuQIlHCPsCyzNAsQQzfR+QPEDlnkZY7mkxQDXRRBNNNDFAkGREca8tN0AxXPAE1uQ7QLNBky8bND1AGDyW92qLMkCMLrroooswQACpK0295UBAWIIlWIIlNECH8hrKa+g\\u002fQMLIxFM4FEBAplmmWaZZPkD7uxhUhFsyQCS2k9hOYj9ADuU1lNdQPkBMsR6Z9+w6QAAAAAAAuDVAKaWUUkopNEBJnl6OakUxQGLacK33GDlAq6qqqqqqOkBM0sTfqRU2QPsstfFhdzhAbB3bC3M2NkBgd6ESR8M7QAgVw9NcgEBAMB\\u002fILixGMkBV\\u002fvXDl442QHET5ne1uDFAHFFg0ql5O0CC19voD4U9QHVz3uBoy0BAF8JsF8JsNEAwfRR1ePlAQH7Gj5iCOTBAW3KIq0wBO0BKLSRjxxIwQHKHGXypaUBAgw022GCDOUBydf9oblQ8QEN5DeU1lD9Adgu\\u002fGhPpMUDI6KGd6oAvQGDvmBrYO0BAodu1csIzNUB8B05SWokxQOolq+5vQjhAfx2MWWn0OkBHo9FoNBovQHHQmjMRWzRAFtAzquseL0BOb3rTm143QC1PItOwXUBA\"},\"type\":\"scatter\",\"xaxis\":\"x2\",\"yaxis\":\"y2\"},{\"line\":{\"color\":\"#d62728\",\"width\":2},\"mode\":\"lines+markers\",\"name\":\"Return Rate %\",\"x\":[\"2025-05-21T00:00:00.000000000\",\"2025-05-22T00:00:00.000000000\",\"2025-05-23T00:00:00.000000000\",\"2025-05-24T00:00:00.000000000\",\"2025-05-25T00:00:00.000000000\",\"2025-05-26T00:00:00.000000000\",\"2025-05-27T00:00:00.000000000\",\"2025-05-28T00:00:00.000000000\",\"2025-05-29T00:00:00.000000000\",\"2025-05-30T00:00:00.000000000\",\"2025-05-31T00:00:00.000000000\",\"2025-06-01T00:00:00.000000000\",\"2025-06-02T00:00:00.000000000\",\"2025-06-03T00:00:00.000000000\",\"2025-06-04T00:00:00.000000000\",\"2025-06-05T00:00:00.000000000\",\"2025-06-06T00:00:00.000000000\",\"2025-06-07T00:00:00.000000000\",\"2025-06-08T00:00:00.000000000\",\"2025-06-09T00:00:00.000000000\",\"2025-06-10T00:00:00.000000000\",\"2025-06-11T00:00:00.000000000\",\"2025-06-12T00:00:00.000000000\",\"2025-06-13T00:00:00.000000000\",\"2025-06-14T00:00:00.000000000\",\"2025-06-15T00:00:00.000000000\",\"2025-06-16T00:00:00.000000000\",\"2025-06-17T00:00:00.000000000\",\"2025-06-18T00:00:00.000000000\",\"2025-06-19T00:00:00.000000000\",\"2025-06-20T00:00:00.000000000\",\"2025-06-21T00:00:00.000000000\",\"2025-06-22T00:00:00.000000000\",\"2025-06-23T00:00:00.000000000\",\"2025-06-24T00:00:00.000000000\",\"2025-06-25T00:00:00.000000000\",\"2025-06-26T00:00:00.000000000\",\"2025-06-27T00:00:00.000000000\",\"2025-06-28T00:00:00.000000000\",\"2025-06-29T00:00:00.000000000\",\"2025-06-30T00:00:00.000000000\",\"2025-07-01T00:00:00.000000000\",\"2025-07-02T00:00:00.000000000\",\"2025-07-03T00:00:00.000000000\",\"2025-07-04T00:00:00.000000000\",\"2025-07-05T00:00:00.000000000\",\"2025-07-06T00:00:00.000000000\",\"2025-07-07T00:00:00.000000000\",\"2025-07-08T00:00:00.000000000\",\"2025-07-09T00:00:00.000000000\",\"2025-07-10T00:00:00.000000000\",\"2025-07-11T00:00:00.000000000\",\"2025-07-12T00:00:00.000000000\",\"2025-07-13T00:00:00.000000000\",\"2025-07-14T00:00:00.000000000\",\"2025-07-15T00:00:00.000000000\",\"2025-07-16T00:00:00.000000000\",\"2025-07-17T00:00:00.000000000\",\"2025-07-18T00:00:00.000000000\",\"2025-07-19T00:00:00.000000000\"],\"y\":{\"dtype\":\"f8\",\"bdata\":\"CYoZnkzaBUARct1sS8UVQJ1LYpn6eBhA10G7W5\\u002fCGEBiHQo62fYZQFbNFKZj1RxAClwBwtf3E0BX+qirQCUZQLdt27Zt2xZAkqCfWVuGCEDF0x5XAcEAQN3sF2JFaQxAtrgJ87taEkDWeqmcOM8WQLa4CfO7WhxAOI\\u002fhPIbzCEA0\\u002f8CODS8FQM3hoBL63h5Awr50cqxEBEA+Z2q5cFcTQCxI5K2dpxVAGSselRvgFEBM2znq6XADQEgeeeSRRwJA+avlNq4BBUDRRRdddNEVQD7f44CKlRRAJjZefMHTCkBuxcQR4SIXQH9L6beUfhtALO+ydjr+AUCcSKko7nITQFqkj3LMcBhAudOBvDWKC0CPFpVIvqYOQOh5nud5nhZASemRJfF8HUDN1+rZIXAbQNkt\\u002fGpMpBVA1bIOtN1bGUBHxD2q778QQG7btm3bNhdA1EyrR4gWE0CiFkrr7q8IQLV9oTBtXxhAf4vTmu0TFUCocHTLnGsQQCjIbKo1dh1AFbycgpdTAECvnLllvyEOQO8oH89vIwJAOY7jOI5jGkBnQqT0yJIYQJ4+Wk1CFA9ADPqCvqAvGEA0AYPH8l4RQPUCtjld5RlAFjWLmkXNEkCokoftqeQRQNfO9TIB+h1A\"},\"type\":\"scatter\",\"xaxis\":\"x3\",\"yaxis\":\"y3\"},{\"line\":{\"color\":\"#2ca02c\",\"width\":2},\"mode\":\"lines+markers\",\"name\":\"CAC ($)\",\"x\":[\"2025-05-21T00:00:00.000000000\",\"2025-05-22T00:00:00.000000000\",\"2025-05-23T00:00:00.000000000\",\"2025-05-24T00:00:00.000000000\",\"2025-05-25T00:00:00.000000000\",\"2025-05-26T00:00:00.000000000\",\"2025-05-27T00:00:00.000000000\",\"2025-05-28T00:00:00.000000000\",\"2025-05-29T00:00:00.000000000\",\"2025-05-30T00:00:00.000000000\",\"2025-05-31T00:00:00.000000000\",\"2025-06-01T00:00:00.000000000\",\"2025-06-02T00:00:00.000000000\",\"2025-06-03T00:00:00.000000000\",\"2025-06-04T00:00:00.000000000\",\"2025-06-05T00:00:00.000000000\",\"2025-06-06T00:00:00.000000000\",\"2025-06-07T00:00:00.000000000\",\"2025-06-08T00:00:00.000000000\",\"2025-06-09T00:00:00.000000000\",\"2025-06-10T00:00:00.000000000\",\"2025-06-11T00:00:00.000000000\",\"2025-06-12T00:00:00.000000000\",\"2025-06-13T00:00:00.000000000\",\"2025-06-14T00:00:00.000000000\",\"2025-06-15T00:00:00.000000000\",\"2025-06-16T00:00:00.000000000\",\"2025-06-17T00:00:00.000000000\",\"2025-06-18T00:00:00.000000000\",\"2025-06-19T00:00:00.000000000\",\"2025-06-20T00:00:00.000000000\",\"2025-06-21T00:00:00.000000000\",\"2025-06-22T00:00:00.000000000\",\"2025-06-23T00:00:00.000000000\",\"2025-06-24T00:00:00.000000000\",\"2025-06-25T00:00:00.000000000\",\"2025-06-26T00:00:00.000000000\",\"2025-06-27T00:00:00.000000000\",\"2025-06-28T00:00:00.000000000\",\"2025-06-29T00:00:00.000000000\",\"2025-06-30T00:00:00.000000000\",\"2025-07-01T00:00:00.000000000\",\"2025-07-02T00:00:00.000000000\",\"2025-07-03T00:00:00.000000000\",\"2025-07-04T00:00:00.000000000\",\"2025-07-05T00:00:00.000000000\",\"2025-07-06T00:00:00.000000000\",\"2025-07-07T00:00:00.000000000\",\"2025-07-08T00:00:00.000000000\",\"2025-07-09T00:00:00.000000000\",\"2025-07-10T00:00:00.000000000\",\"2025-07-11T00:00:00.000000000\",\"2025-07-12T00:00:00.000000000\",\"2025-07-13T00:00:00.000000000\",\"2025-07-14T00:00:00.000000000\",\"2025-07-15T00:00:00.000000000\",\"2025-07-16T00:00:00.000000000\",\"2025-07-17T00:00:00.000000000\",\"2025-07-18T00:00:00.000000000\",\"2025-07-19T00:00:00.000000000\"],\"y\":{\"dtype\":\"f8\",\"bdata\":\"qiQNsPdpOUBrf+HLXClEQDd2KdEX3UZA\\u002fZ7jQJDNVkCPk8wKLgdXQAL3bZeSk1FAVSf287C4QUA8b8S7O5tPQCWKuaNJbFBA4cZvNd2jQ0CcUmfVmnY9QNQiDFPlDUlAOKFIpZYdSkCRgeqYj0NNQAjHSe\\u002fvaDlAPEj86M4CUkBNA\\u002fPZkulCQOWAR2Rkt0NA1ADr6jG4R0AW7\\u002fXNLWZMQLBgkCNntkNAp+AtXOlJO0B8ZWZhpkpBQM7AO1JS009ATBdAGb+ZUECPDHkP9FBOQDUjMdElM0VAstolOugGRkCZFBjEDx5CQG5WIu\\u002fwzkNAJ2mMwe9MRUBEKoCC6pJBQCCVZYqsrERAoZ1urFNBS0DrLVMRFbhEQGfgSJd9RlBA0PtdiFWbSUAMHxibnGtAQLMaVRm4djlAg3GnBumxSUCngdY71n9DQE6xmjzMRVJATWe6GXBmSUDbzTApY+VWQNJaupsupkRAo\\u002flR57n9R0CgLJj4KD1EQLBe5JCrPDpATEqvmDPTVEBt1UUoa\\u002fZQQFMn5OHk7DtA+aroC3\\u002flTUDsMOAbanxMQDawIH7u9khAEq0eZXuARkBWs863tOJRQC4oGjKlBlFAUkFzxXqwT0AZuSp0VdlHQA6mS6t3AkJA\"},\"type\":\"scatter\",\"xaxis\":\"x4\",\"yaxis\":\"y4\"}],                        {\"template\":{\"data\":{\"histogram2dcontour\":[{\"type\":\"histogram2dcontour\",\"colorbar\":{\"outlinewidth\":0,\"ticks\":\"\"},\"colorscale\":[[0.0,\"#0d0887\"],[0.1111111111111111,\"#46039f\"],[0.2222222222222222,\"#7201a8\"],[0.3333333333333333,\"#9c179e\"],[0.4444444444444444,\"#bd3786\"],[0.5555555555555556,\"#d8576b\"],[0.6666666666666666,\"#ed7953\"],[0.7777777777777778,\"#fb9f3a\"],[0.8888888888888888,\"#fdca26\"],[1.0,\"#f0f921\"]]}],\"choropleth\":[{\"type\":\"choropleth\",\"colorbar\":{\"outlinewidth\":0,\"ticks\":\"\"}}],\"histogram2d\":[{\"type\":\"histogram2d\",\"colorbar\":{\"outlinewidth\":0,\"ticks\":\"\"},\"colorscale\":[[0.0,\"#0d0887\"],[0.1111111111111111,\"#46039f\"],[0.2222222222222222,\"#7201a8\"],[0.3333333333333333,\"#9c179e\"],[0.4444444444444444,\"#bd3786\"],[0.5555555555555556,\"#d8576b\"],[0.6666666666666666,\"#ed7953\"],[0.7777777777777778,\"#fb9f3a\"],[0.8888888888888888,\"#fdca26\"],[1.0,\"#f0f921\"]]}],\"heatmap\":[{\"type\":\"heatmap\",\"colorbar\":{\"outlinewidth\":0,\"ticks\":\"\"},\"colorscale\":[[0.0,\"#0d0887\"],[0.1111111111111111,\"#46039f\"],[0.2222222222222222,\"#7201a8\"],[0.3333333333333333,\"#9c179e\"],[0.4444444444444444,\"#bd3786\"],[0.5555555555555556,\"#d8576b\"],[0.6666666666666666,\"#ed7953\"],[0.7777777777777778,\"#fb9f3a\"],[0.8888888888888888,\"#fdca26\"],[1.0,\"#f0f921\"]]}],\"contourcarpet\":[{\"type\":\"contourcarpet\",\"colorbar\":{\"outlinewidth\":0,\"ticks\":\"\"}}],\"contour\":[{\"type\":\"contour\",\"colorbar\":{\"outlinewidth\":0,\"ticks\":\"\"},\"colorscale\":[[0.0,\"#0d0887\"],[0.1111111111111111,\"#46039f\"],[0.2222222222222222,\"#7201a8\"],[0.3333333333333333,\"#9c179e\"],[0.4444444444444444,\"#bd3786\"],[0.5555555555555556,\"#d8576b\"],[0.6666666666666666,\"#ed7953\"],[0.7777777777777778,\"#fb9f3a\"],[0.8888888888888888,\"#fdca26\"],[1.0,\"#f0f921\"]]}],\"surface\":[{\"type\":\"surface\",\"colorbar\":{\"outlinewidth\":0,\"ticks\":\"\"},\"colorscale\":[[0.0,\"#0d0887\"],[0.1111111111111111,\"#46039f\"],[0.2222222222222222,\"#7201a8\"],[0.3333333333333333,\"#9c179e\"],[0.4444444444444444,\"#bd3786\"],[0.5555555555555556,\"#d8576b\"],[0.6666666666666666,\"#ed7953\"],[0.7777777777777778,\"#fb9f3a\"],[0.8888888888888888,\"#fdca26\"],[1.0,\"#f0f921\"]]}],\"mesh3d\":[{\"type\":\"mesh3d\",\"colorbar\":{\"outlinewidth\":0,\"ticks\":\"\"}}],\"scatter\":[{\"fillpattern\":{\"fillmode\":\"overlay\",\"size\":10,\"solidity\":0.2},\"type\":\"scatter\"}],\"parcoords\":[{\"type\":\"parcoords\",\"line\":{\"colorbar\":{\"outlinewidth\":0,\"ticks\":\"\"}}}],\"scatterpolargl\":[{\"type\":\"scatterpolargl\",\"marker\":{\"colorbar\":{\"outlinewidth\":0,\"ticks\":\"\"}}}],\"bar\":[{\"error_x\":{\"color\":\"#2a3f5f\"},\"error_y\":{\"color\":\"#2a3f5f\"},\"marker\":{\"line\":{\"color\":\"#E5ECF6\",\"width\":0.5},\"pattern\":{\"fillmode\":\"overlay\",\"size\":10,\"solidity\":0.2}},\"type\":\"bar\"}],\"scattergeo\":[{\"type\":\"scattergeo\",\"marker\":{\"colorbar\":{\"outlinewidth\":0,\"ticks\":\"\"}}}],\"scatterpolar\":[{\"type\":\"scatterpolar\",\"marker\":{\"colorbar\":{\"outlinewidth\":0,\"ticks\":\"\"}}}],\"histogram\":[{\"marker\":{\"pattern\":{\"fillmode\":\"overlay\",\"size\":10,\"solidity\":0.2}},\"type\":\"histogram\"}],\"scattergl\":[{\"type\":\"scattergl\",\"marker\":{\"colorbar\":{\"outlinewidth\":0,\"ticks\":\"\"}}}],\"scatter3d\":[{\"type\":\"scatter3d\",\"line\":{\"colorbar\":{\"outlinewidth\":0,\"ticks\":\"\"}},\"marker\":{\"colorbar\":{\"outlinewidth\":0,\"ticks\":\"\"}}}],\"scattermap\":[{\"type\":\"scattermap\",\"marker\":{\"colorbar\":{\"outlinewidth\":0,\"ticks\":\"\"}}}],\"scattermapbox\":[{\"type\":\"scattermapbox\",\"marker\":{\"colorbar\":{\"outlinewidth\":0,\"ticks\":\"\"}}}],\"scatterternary\":[{\"type\":\"scatterternary\",\"marker\":{\"colorbar\":{\"outlinewidth\":0,\"ticks\":\"\"}}}],\"scattercarpet\":[{\"type\":\"scattercarpet\",\"marker\":{\"colorbar\":{\"outlinewidth\":0,\"ticks\":\"\"}}}],\"carpet\":[{\"aaxis\":{\"endlinecolor\":\"#2a3f5f\",\"gridcolor\":\"white\",\"linecolor\":\"white\",\"minorgridcolor\":\"white\",\"startlinecolor\":\"#2a3f5f\"},\"baxis\":{\"endlinecolor\":\"#2a3f5f\",\"gridcolor\":\"white\",\"linecolor\":\"white\",\"minorgridcolor\":\"white\",\"startlinecolor\":\"#2a3f5f\"},\"type\":\"carpet\"}],\"table\":[{\"cells\":{\"fill\":{\"color\":\"#EBF0F8\"},\"line\":{\"color\":\"white\"}},\"header\":{\"fill\":{\"color\":\"#C8D4E3\"},\"line\":{\"color\":\"white\"}},\"type\":\"table\"}],\"barpolar\":[{\"marker\":{\"line\":{\"color\":\"#E5ECF6\",\"width\":0.5},\"pattern\":{\"fillmode\":\"overlay\",\"size\":10,\"solidity\":0.2}},\"type\":\"barpolar\"}],\"pie\":[{\"automargin\":true,\"type\":\"pie\"}]},\"layout\":{\"autotypenumbers\":\"strict\",\"colorway\":[\"#636efa\",\"#EF553B\",\"#00cc96\",\"#ab63fa\",\"#FFA15A\",\"#19d3f3\",\"#FF6692\",\"#B6E880\",\"#FF97FF\",\"#FECB52\"],\"font\":{\"color\":\"#2a3f5f\"},\"hovermode\":\"closest\",\"hoverlabel\":{\"align\":\"left\"},\"paper_bgcolor\":\"white\",\"plot_bgcolor\":\"#E5ECF6\",\"polar\":{\"bgcolor\":\"#E5ECF6\",\"angularaxis\":{\"gridcolor\":\"white\",\"linecolor\":\"white\",\"ticks\":\"\"},\"radialaxis\":{\"gridcolor\":\"white\",\"linecolor\":\"white\",\"ticks\":\"\"}},\"ternary\":{\"bgcolor\":\"#E5ECF6\",\"aaxis\":{\"gridcolor\":\"white\",\"linecolor\":\"white\",\"ticks\":\"\"},\"baxis\":{\"gridcolor\":\"white\",\"linecolor\":\"white\",\"ticks\":\"\"},\"caxis\":{\"gridcolor\":\"white\",\"linecolor\":\"white\",\"ticks\":\"\"}},\"coloraxis\":{\"colorbar\":{\"outlinewidth\":0,\"ticks\":\"\"}},\"colorscale\":{\"sequential\":[[0.0,\"#0d0887\"],[0.1111111111111111,\"#46039f\"],[0.2222222222222222,\"#7201a8\"],[0.3333333333333333,\"#9c179e\"],[0.4444444444444444,\"#bd3786\"],[0.5555555555555556,\"#d8576b\"],[0.6666666666666666,\"#ed7953\"],[0.7777777777777778,\"#fb9f3a\"],[0.8888888888888888,\"#fdca26\"],[1.0,\"#f0f921\"]],\"sequentialminus\":[[0.0,\"#0d0887\"],[0.1111111111111111,\"#46039f\"],[0.2222222222222222,\"#7201a8\"],[0.3333333333333333,\"#9c179e\"],[0.4444444444444444,\"#bd3786\"],[0.5555555555555556,\"#d8576b\"],[0.6666666666666666,\"#ed7953\"],[0.7777777777777778,\"#fb9f3a\"],[0.8888888888888888,\"#fdca26\"],[1.0,\"#f0f921\"]],\"diverging\":[[0,\"#8e0152\"],[0.1,\"#c51b7d\"],[0.2,\"#de77ae\"],[0.3,\"#f1b6da\"],[0.4,\"#fde0ef\"],[0.5,\"#f7f7f7\"],[0.6,\"#e6f5d0\"],[0.7,\"#b8e186\"],[0.8,\"#7fbc41\"],[0.9,\"#4d9221\"],[1,\"#276419\"]]},\"xaxis\":{\"gridcolor\":\"white\",\"linecolor\":\"white\",\"ticks\":\"\",\"title\":{\"standoff\":15},\"zerolinecolor\":\"white\",\"automargin\":true,\"zerolinewidth\":2},\"yaxis\":{\"gridcolor\":\"white\",\"linecolor\":\"white\",\"ticks\":\"\",\"title\":{\"standoff\":15},\"zerolinecolor\":\"white\",\"automargin\":true,\"zerolinewidth\":2},\"scene\":{\"xaxis\":{\"backgroundcolor\":\"#E5ECF6\",\"gridcolor\":\"white\",\"linecolor\":\"white\",\"showbackground\":true,\"ticks\":\"\",\"zerolinecolor\":\"white\",\"gridwidth\":2},\"yaxis\":{\"backgroundcolor\":\"#E5ECF6\",\"gridcolor\":\"white\",\"linecolor\":\"white\",\"showbackground\":true,\"ticks\":\"\",\"zerolinecolor\":\"white\",\"gridwidth\":2},\"zaxis\":{\"backgroundcolor\":\"#E5ECF6\",\"gridcolor\":\"white\",\"linecolor\":\"white\",\"showbackground\":true,\"ticks\":\"\",\"zerolinecolor\":\"white\",\"gridwidth\":2}},\"shapedefaults\":{\"line\":{\"color\":\"#2a3f5f\"}},\"annotationdefaults\":{\"arrowcolor\":\"#2a3f5f\",\"arrowhead\":0,\"arrowwidth\":1},\"geo\":{\"bgcolor\":\"white\",\"landcolor\":\"#E5ECF6\",\"subunitcolor\":\"white\",\"showland\":true,\"showlakes\":true,\"lakecolor\":\"white\"},\"title\":{\"x\":0.05},\"mapbox\":{\"style\":\"light\"}}},\"xaxis\":{\"anchor\":\"y\",\"domain\":[0.0,0.45]},\"yaxis\":{\"anchor\":\"x\",\"domain\":[0.625,1.0]},\"xaxis2\":{\"anchor\":\"y2\",\"domain\":[0.55,1.0]},\"yaxis2\":{\"anchor\":\"x2\",\"domain\":[0.625,1.0]},\"xaxis3\":{\"anchor\":\"y3\",\"domain\":[0.0,0.45]},\"yaxis3\":{\"anchor\":\"x3\",\"domain\":[0.0,0.375]},\"xaxis4\":{\"anchor\":\"y4\",\"domain\":[0.55,1.0]},\"yaxis4\":{\"anchor\":\"x4\",\"domain\":[0.0,0.375]},\"annotations\":[{\"font\":{\"size\":16},\"showarrow\":false,\"text\":\"Revenue Trend with Alerts\",\"x\":0.225,\"xanchor\":\"center\",\"xref\":\"paper\",\"y\":1.0,\"yanchor\":\"bottom\",\"yref\":\"paper\"},{\"font\":{\"size\":16},\"showarrow\":false,\"text\":\"Conversion Rate Monitoring\",\"x\":0.775,\"xanchor\":\"center\",\"xref\":\"paper\",\"y\":1.0,\"yanchor\":\"bottom\",\"yref\":\"paper\"},{\"font\":{\"size\":16},\"showarrow\":false,\"text\":\"Return Rate Tracking\",\"x\":0.225,\"xanchor\":\"center\",\"xref\":\"paper\",\"y\":0.375,\"yanchor\":\"bottom\",\"yref\":\"paper\"},{\"font\":{\"size\":16},\"showarrow\":false,\"text\":\"Customer Acquisition Cost\",\"x\":0.775,\"xanchor\":\"center\",\"xref\":\"paper\",\"y\":0.375,\"yanchor\":\"bottom\",\"yref\":\"paper\"},{\"showarrow\":false,\"text\":\"Upper Alert Threshold\",\"x\":1,\"xanchor\":\"right\",\"xref\":\"x domain\",\"y\":145780.11906088944,\"yanchor\":\"bottom\",\"yref\":\"y\"},{\"showarrow\":false,\"text\":\"Lower Alert Threshold\",\"x\":1,\"xanchor\":\"right\",\"xref\":\"x domain\",\"y\":97186.74604059297,\"yanchor\":\"bottom\",\"yref\":\"y\"},{\"showarrow\":false,\"text\":\"Alert Threshold (8%)\",\"x\":1,\"xanchor\":\"right\",\"xref\":\"x3 domain\",\"y\":8,\"yanchor\":\"bottom\",\"yref\":\"y3\"}],\"shapes\":[{\"line\":{\"color\":\"green\",\"dash\":\"dash\"},\"type\":\"line\",\"x0\":0,\"x1\":1,\"xref\":\"x domain\",\"y0\":145780.11906088944,\"y1\":145780.11906088944,\"yref\":\"y\"},{\"line\":{\"color\":\"red\",\"dash\":\"dash\"},\"type\":\"line\",\"x0\":0,\"x1\":1,\"xref\":\"x domain\",\"y0\":97186.74604059297,\"y1\":97186.74604059297,\"yref\":\"y\"},{\"line\":{\"color\":\"red\",\"dash\":\"dash\"},\"type\":\"line\",\"x0\":0,\"x1\":1,\"xref\":\"x3 domain\",\"y0\":8,\"y1\":8,\"yref\":\"y3\"}],\"title\":{\"text\":\"\\u003cb\\u003eBusiness Intelligence Alert Dashboard\\u003c\\u002fb\\u003e\",\"x\":0.5},\"height\":800,\"showlegend\":false},                        {\"responsive\": true}                    ).then(function(){\n",
       "                            \n",
       "var gd = document.getElementById('6b039b29-898b-4e57-bb95-b40d032c9e11');\n",
       "var x = new MutationObserver(function (mutations, observer) {{\n",
       "        var display = window.getComputedStyle(gd).display;\n",
       "        if (!display || display === 'none') {{\n",
       "            console.log([gd, 'removed!']);\n",
       "            Plotly.purge(gd);\n",
       "            observer.disconnect();\n",
       "        }}\n",
       "}});\n",
       "\n",
       "// Listen for the removal of the full notebook cells\n",
       "var notebookContainer = gd.closest('#notebook-container');\n",
       "if (notebookContainer) {{\n",
       "    x.observe(notebookContainer, {childList: true});\n",
       "}}\n",
       "\n",
       "// Listen for the clearing of the current output cell\n",
       "var outputEl = gd.closest('.output');\n",
       "if (outputEl) {{\n",
       "    x.observe(outputEl, {childList: true});\n",
       "}}\n",
       "\n",
       "                        })                };            </script>        </div>"
      ]
     },
     "metadata": {},
     "output_type": "display_data"
    },
    {
     "name": "stdout",
     "output_type": "stream",
     "text": [
      "✅ Automated BI system deployed!\n",
      "\n",
      "🔧 System Features:\n",
      "  • Real-time anomaly detection\n",
      "  • Automated insight generation\n",
      "  • Executive summary creation\n",
      "  • Visual alert dashboards\n",
      "  • Threshold-based monitoring\n"
     ]
    }
   ],
   "source": [
    "# Automated Business Insights and Alert System\n",
    "print(\"🤖 AUTOMATED BUSINESS INSIGHTS AND ALERTS\")\n",
    "print(\"=\" * 55)\n",
    "\n",
    "# Business Intelligence Alert System\n",
    "class BusinessIntelligenceAlert:\n",
    "    def __init__(self, data):\n",
    "        self.data = data\n",
    "        self.alerts = []\n",
    "        self.insights = []\n",
    "    \n",
    "    def detect_anomalies(self):\n",
    "        \"\"\"Detect unusual patterns in business metrics\"\"\"\n",
    "        recent_7_days = self.data.tail(7)\n",
    "        previous_7_days = self.data.iloc[-14:-7]\n",
    "        \n",
    "        # Revenue anomaly detection\n",
    "        recent_avg_revenue = recent_7_days['revenue'].mean()\n",
    "        previous_avg_revenue = previous_7_days['revenue'].mean()\n",
    "        revenue_change = ((recent_avg_revenue - previous_avg_revenue) / previous_avg_revenue) * 100\n",
    "        \n",
    "        if abs(revenue_change) > 20:\n",
    "            severity = \"HIGH\" if abs(revenue_change) > 30 else \"MEDIUM\"\n",
    "            direction = \"increased\" if revenue_change > 0 else \"decreased\"\n",
    "            self.alerts.append({\n",
    "                'type': 'Revenue Anomaly',\n",
    "                'severity': severity,\n",
    "                'message': f'Revenue has {direction} by {abs(revenue_change):.1f}% in the last week',\n",
    "                'value': recent_avg_revenue,\n",
    "                'change': revenue_change\n",
    "            })\n",
    "        \n",
    "        # Conversion rate monitoring\n",
    "        recent_conversion = recent_7_days['conversion_rate'].mean()\n",
    "        previous_conversion = previous_7_days['conversion_rate'].mean()\n",
    "        conversion_change = ((recent_conversion - previous_conversion) / previous_conversion) * 100\n",
    "        \n",
    "        if conversion_change < -10:\n",
    "            self.alerts.append({\n",
    "                'type': 'Conversion Drop',\n",
    "                'severity': 'HIGH',\n",
    "                'message': f'Conversion rate dropped by {abs(conversion_change):.1f}% - investigate marketing channels',\n",
    "                'value': recent_conversion,\n",
    "                'change': conversion_change\n",
    "            })\n",
    "        \n",
    "        # Return rate spike detection\n",
    "        recent_returns = recent_7_days['return_rate'].mean()\n",
    "        if recent_returns > 0.08:  # 8% threshold\n",
    "            self.alerts.append({\n",
    "                'type': 'High Return Rate',\n",
    "                'severity': 'MEDIUM',\n",
    "                'message': f'Return rate is {recent_returns:.1%} - check product quality',\n",
    "                'value': recent_returns,\n",
    "                'change': 0\n",
    "            })\n",
    "        \n",
    "        return self.alerts\n",
    "    \n",
    "    def generate_insights(self):\n",
    "        \"\"\"Generate actionable business insights\"\"\"\n",
    "        \n",
    "        # Seasonal analysis\n",
    "        monthly_data = self.data.groupby('month')['revenue'].mean()\n",
    "        peak_month = monthly_data.idxmax()\n",
    "        low_month = monthly_data.idxmin()\n",
    "        \n",
    "        self.insights.append({\n",
    "            'category': 'Seasonality',\n",
    "            'insight': f'Peak sales occur in month {peak_month}, lowest in month {low_month}',\n",
    "            'action': 'Plan inventory and marketing campaigns accordingly',\n",
    "            'impact': 'HIGH'\n",
    "        })\n",
    "        \n",
    "        # Customer behavior patterns\n",
    "        weekend_revenue = self.data[self.data['is_weekend']]['revenue'].mean()\n",
    "        weekday_revenue = self.data[~self.data['is_weekend']]['revenue'].mean()\n",
    "        \n",
    "        if weekend_revenue < weekday_revenue * 0.8:\n",
    "            self.insights.append({\n",
    "                'category': 'Customer Behavior',\n",
    "                'insight': f'Weekend revenue is {(weekend_revenue/weekday_revenue):.1%} of weekday revenue',\n",
    "                'action': 'Consider weekend-specific promotions or marketing',\n",
    "                'impact': 'MEDIUM'\n",
    "            })\n",
    "        \n",
    "        # Marketing efficiency\n",
    "        recent_cac = self.data.tail(30)['customer_acquisition_cost'].mean()\n",
    "        recent_aov = self.data.tail(30)['avg_order_value'].mean()\n",
    "        \n",
    "        if recent_cac > recent_aov * 0.3:\n",
    "            self.insights.append({\n",
    "                'category': 'Marketing Efficiency',\n",
    "                'insight': f'Customer acquisition cost (${recent_cac:.0f}) is high relative to order value',\n",
    "                'action': 'Optimize marketing channels and improve conversion rates',\n",
    "                'impact': 'HIGH'\n",
    "            })\n",
    "        \n",
    "        return self.insights\n",
    "    \n",
    "    def create_executive_summary(self):\n",
    "        \"\"\"Create automated executive summary\"\"\"\n",
    "        recent_30 = self.data.tail(30)\n",
    "        previous_30 = self.data.iloc[-60:-30]\n",
    "        \n",
    "        summary = {\n",
    "            'period': f\"{recent_30['date'].min().strftime('%Y-%m-%d')} to {recent_30['date'].max().strftime('%Y-%m-%d')}\",\n",
    "            'total_revenue': recent_30['revenue'].sum(),\n",
    "            'total_customers': recent_30['customers'].sum(),\n",
    "            'avg_order_value': recent_30['avg_order_value'].mean(),\n",
    "            'conversion_rate': recent_30['conversion_rate'].mean(),\n",
    "            'revenue_growth': ((recent_30['revenue'].sum() - previous_30['revenue'].sum()) / previous_30['revenue'].sum()) * 100,\n",
    "            'customer_growth': ((recent_30['customers'].sum() - previous_30['customers'].sum()) / previous_30['customers'].sum()) * 100\n",
    "        }\n",
    "        \n",
    "        return summary\n",
    "\n",
    "# Initialize BI Alert System\n",
    "bi_alert = BusinessIntelligenceAlert(df_business)\n",
    "\n",
    "# Generate alerts\n",
    "alerts = bi_alert.detect_anomalies()\n",
    "insights = bi_alert.generate_insights()\n",
    "executive_summary = bi_alert.create_executive_summary()\n",
    "\n",
    "print(\"🚨 BUSINESS ALERTS\")\n",
    "print(\"-\" * 25)\n",
    "if alerts:\n",
    "    for alert in alerts:\n",
    "        severity_icon = \"🔴\" if alert['severity'] == 'HIGH' else \"🟡\" if alert['severity'] == 'MEDIUM' else \"🟢\"\n",
    "        print(f\"{severity_icon} {alert['type']} ({alert['severity']})\")\n",
    "        print(f\"   {alert['message']}\")\n",
    "        print()\n",
    "else:\n",
    "    print(\"✅ No critical alerts detected\")\n",
    "\n",
    "print(\"\\n💡 BUSINESS INSIGHTS\")\n",
    "print(\"-\" * 25)\n",
    "for insight in insights:\n",
    "    impact_icon = \"🔥\" if insight['impact'] == 'HIGH' else \"⚡\" if insight['impact'] == 'MEDIUM' else \"💫\"\n",
    "    print(f\"{impact_icon} {insight['category']} ({insight['impact']} Impact)\")\n",
    "    print(f\"   📊 Insight: {insight['insight']}\")\n",
    "    print(f\"   🎯 Action: {insight['action']}\")\n",
    "    print()\n",
    "\n",
    "print(\"\\n📋 EXECUTIVE SUMMARY\")\n",
    "print(\"-\" * 25)\n",
    "print(f\"Period: {executive_summary['period']}\")\n",
    "print(f\"Total Revenue: ${executive_summary['total_revenue']:,.0f} ({executive_summary['revenue_growth']:+.1f}%)\")\n",
    "print(f\"Total Customers: {executive_summary['total_customers']:,.0f} ({executive_summary['customer_growth']:+.1f}%)\")\n",
    "print(f\"Average Order Value: ${executive_summary['avg_order_value']:,.0f}\")\n",
    "print(f\"Conversion Rate: {executive_summary['conversion_rate']:.1%}\")\n",
    "\n",
    "# Create Alert Dashboard\n",
    "print(\"\\n📊 Creating Alert Dashboard...\")\n",
    "\n",
    "fig_alerts = make_subplots(\n",
    "    rows=2, cols=2,\n",
    "    subplot_titles=('Revenue Trend with Alerts', 'Conversion Rate Monitoring', \n",
    "                   'Return Rate Tracking', 'Customer Acquisition Cost'),\n",
    "    specs=[[{\"secondary_y\": False}, {\"secondary_y\": False}],\n",
    "           [{\"secondary_y\": False}, {\"secondary_y\": False}]]\n",
    ")\n",
    "\n",
    "# Recent data for detailed monitoring\n",
    "recent_60_days = df_business.tail(60)\n",
    "\n",
    "# 1. Revenue with alert zones\n",
    "fig_alerts.add_trace(\n",
    "    go.Scatter(x=recent_60_days['date'], y=recent_60_days['revenue'],\n",
    "              mode='lines+markers', name='Daily Revenue',\n",
    "              line=dict(color='#1f77b4', width=2)),\n",
    "    row=1, col=1\n",
    ")\n",
    "\n",
    "# Add alert threshold lines\n",
    "avg_revenue = recent_60_days['revenue'].mean()\n",
    "upper_threshold = avg_revenue * 1.2\n",
    "lower_threshold = avg_revenue * 0.8\n",
    "\n",
    "fig_alerts.add_hline(y=upper_threshold, line_dash=\"dash\", line_color=\"green\", \n",
    "                    annotation_text=\"Upper Alert Threshold\", row=1, col=1)\n",
    "fig_alerts.add_hline(y=lower_threshold, line_dash=\"dash\", line_color=\"red\", \n",
    "                    annotation_text=\"Lower Alert Threshold\", row=1, col=1)\n",
    "\n",
    "# 2. Conversion Rate\n",
    "fig_alerts.add_trace(\n",
    "    go.Scatter(x=recent_60_days['date'], y=recent_60_days['conversion_rate']*100,\n",
    "              mode='lines+markers', name='Conversion Rate %',\n",
    "              line=dict(color='#ff7f0e', width=2)),\n",
    "    row=1, col=2\n",
    ")\n",
    "\n",
    "# 3. Return Rate\n",
    "fig_alerts.add_trace(\n",
    "    go.Scatter(x=recent_60_days['date'], y=recent_60_days['return_rate']*100,\n",
    "              mode='lines+markers', name='Return Rate %',\n",
    "              line=dict(color='#d62728', width=2)),\n",
    "    row=2, col=1\n",
    ")\n",
    "\n",
    "fig_alerts.add_hline(y=8, line_dash=\"dash\", line_color=\"red\", \n",
    "                    annotation_text=\"Alert Threshold (8%)\", row=2, col=1)\n",
    "\n",
    "# 4. Customer Acquisition Cost\n",
    "fig_alerts.add_trace(\n",
    "    go.Scatter(x=recent_60_days['date'], y=recent_60_days['customer_acquisition_cost'],\n",
    "              mode='lines+markers', name='CAC ($)',\n",
    "              line=dict(color='#2ca02c', width=2)),\n",
    "    row=2, col=2\n",
    ")\n",
    "\n",
    "# Update layout\n",
    "fig_alerts.update_layout(\n",
    "    height=800,\n",
    "    showlegend=False,\n",
    "    title_text=\"<b>Business Intelligence Alert Dashboard</b>\",\n",
    "    title_x=0.5\n",
    ")\n",
    "\n",
    "fig_alerts.show()\n",
    "\n",
    "print(\"✅ Automated BI system deployed!\")\n",
    "print(\"\\n🔧 System Features:\")\n",
    "print(\"  • Real-time anomaly detection\")\n",
    "print(\"  • Automated insight generation\")\n",
    "print(\"  • Executive summary creation\")\n",
    "print(\"  • Visual alert dashboards\")\n",
    "print(\"  • Threshold-based monitoring\")"
   ]
  }
 ],
 "metadata": {
  "kernelspec": {
   "display_name": ".venv",
   "language": "python",
   "name": "python3"
  },
  "language_info": {
   "codemirror_mode": {
    "name": "ipython",
    "version": 3
   },
   "file_extension": ".py",
   "mimetype": "text/x-python",
   "name": "python",
   "nbconvert_exporter": "python",
   "pygments_lexer": "ipython3",
   "version": "3.11.9"
  }
 },
 "nbformat": 4,
 "nbformat_minor": 5
}
