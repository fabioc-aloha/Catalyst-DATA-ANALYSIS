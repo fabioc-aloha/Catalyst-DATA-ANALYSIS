{
 "cells": [
  {
   "cell_type": "markdown",
   "id": "5930e907",
   "metadata": {},
   "source": [
    "# Enterprise Data Analysis Template\n",
    "\n",
    "## Overview\n",
    "This notebook demonstrates the enterprise data analysis cognitive architecture with SPSS integration and advanced statistical capabilities.\n",
    "\n",
    "**Author**: Data Analysis Team  \n",
    "**Date**: July 19, 2025  \n",
    "**Project**: Enterprise Data Analysis Framework  \n",
    "**Version**: 1.0\n",
    "\n",
    "## Table of Contents\n",
    "1. [Environment Setup](#Environment-Setup)\n",
    "2. [Data Loading and Inspection](#Data-Loading-and-Inspection)\n",
    "3. [Exploratory Data Analysis](#Exploratory-Data-Analysis)\n",
    "4. [Statistical Analysis](#Statistical-Analysis)\n",
    "5. [Visualization](#Visualization)\n",
    "6. [Results and Conclusions](#Results-and-Conclusions)"
   ]
  },
  {
   "cell_type": "markdown",
   "id": "f1cedef8",
   "metadata": {},
   "source": [
    "## Environment Setup\n",
    "\n",
    "Load required libraries and configure the analysis environment."
   ]
  },
  {
   "cell_type": "code",
   "execution_count": null,
   "id": "955f4108",
   "metadata": {},
   "outputs": [],
   "source": [
    "# Import core libraries\n",
    "import pandas as pd\n",
    "import numpy as np\n",
    "import matplotlib.pyplot as plt\n",
    "import seaborn as sns\n",
    "import scipy.stats as stats\n",
    "import pyreadstat\n",
    "from pathlib import Path\n",
    "\n",
    "# Import custom utilities\n",
    "import sys\n",
    "sys.path.append('../src')\n",
    "from utils.data_utils import DataLoader, StatisticalAnalyzer, CONFIG\n",
    "from visualization.plot_utils import EnterpriseVisualizer, InteractiveDashboard\n",
    "\n",
    "# Configure environment\n",
    "import warnings\n",
    "warnings.filterwarnings('ignore')\n",
    "\n",
    "# Set random seed for reproducibility\n",
    "np.random.seed(42)\n",
    "\n",
    "# Display configuration\n",
    "pd.set_option('display.max_columns', None)\n",
    "pd.set_option('display.precision', 3)\n",
    "\n",
    "print(\"Enterprise Data Analysis Environment Configured\")\n",
    "print(f\"Configuration: {CONFIG['analysis']}\")"
   ]
  },
  {
   "cell_type": "markdown",
   "id": "cc898817",
   "metadata": {},
   "source": [
    "## Data Loading and Inspection\n",
    "\n",
    "Load sample data and perform initial inspection with metadata preservation."
   ]
  },
  {
   "cell_type": "code",
   "execution_count": null,
   "id": "52248fd6",
   "metadata": {},
   "outputs": [],
   "source": [
    "# For demonstration, create sample data\n",
    "# In practice, you would load SPSS .sav files using:\n",
    "# df, metadata = DataLoader.load_spss('path/to/your/file.sav')\n",
    "\n",
    "# Create sample dataset for demonstration\n",
    "np.random.seed(42)\n",
    "n_samples = 500\n",
    "\n",
    "df = pd.DataFrame({\n",
    "    'age': np.random.normal(35, 10, n_samples).astype(int),\n",
    "    'income': np.random.normal(50000, 15000, n_samples),\n",
    "    'education_years': np.random.normal(14, 3, n_samples),\n",
    "    'satisfaction': np.random.choice([1, 2, 3, 4, 5], n_samples, p=[0.1, 0.2, 0.3, 0.3, 0.1]),\n",
    "    'department': np.random.choice(['Sales', 'Marketing', 'IT', 'HR', 'Finance'], n_samples),\n",
    "    'performance_score': np.random.normal(75, 15, n_samples)\n",
    "})\n",
    "\n",
    "# Add some missing values for realistic demonstration\n",
    "missing_indices = np.random.choice(df.index, size=50, replace=False)\n",
    "df.loc[missing_indices, 'income'] = np.nan\n",
    "\n",
    "print(f\"Dataset loaded: {df.shape[0]} rows, {df.shape[1]} columns\")\n",
    "print(\"\\nFirst 5 rows:\")\n",
    "df.head()"
   ]
  },
  {
   "cell_type": "code",
   "execution_count": null,
   "id": "be1d7924",
   "metadata": {},
   "outputs": [],
   "source": [
    "# Create comprehensive data dictionary\n",
    "data_dict = DataLoader.create_data_dictionary(df)\n",
    "print(\"Data Dictionary:\")\n",
    "data_dict"
   ]
  },
  {
   "cell_type": "code",
   "execution_count": null,
   "id": "5c423720",
   "metadata": {},
   "outputs": [],
   "source": [
    "# Basic data inspection\n",
    "print(\"Dataset Information:\")\n",
    "print(df.info())\n",
    "print(\"\\nDescriptive Statistics:\")\n",
    "print(df.describe())\n",
    "print(\"\\nMissing Values:\")\n",
    "print(df.isnull().sum())"
   ]
  },
  {
   "cell_type": "markdown",
   "id": "dec62cc1",
   "metadata": {},
   "source": [
    "## Exploratory Data Analysis\n",
    "\n",
    "Perform systematic exploratory analysis using enterprise-grade methods."
   ]
  },
  {
   "cell_type": "code",
   "execution_count": null,
   "id": "303b0ad0",
   "metadata": {},
   "outputs": [],
   "source": [
    "# Initialize enterprise visualizer\n",
    "viz = EnterpriseVisualizer()\n",
    "\n",
    "# Create distribution plots for key numeric variables\n",
    "numeric_vars = ['age', 'income', 'education_years', 'performance_score']\n",
    "\n",
    "for var in numeric_vars:\n",
    "    if df[var].notna().sum() > 0:  # Check if variable has non-missing values\n",
    "        fig = viz.create_distribution_plot(df[var].dropna(), title=var)\n",
    "        plt.show()\n",
    "        plt.close()"
   ]
  },
  {
   "cell_type": "code",
   "execution_count": null,
   "id": "4a814900",
   "metadata": {},
   "outputs": [],
   "source": [
    "# Correlation analysis\n",
    "numeric_df = df.select_dtypes(include=[np.number]).dropna()\n",
    "fig = viz.create_correlation_heatmap(numeric_df, title=\"Variable Correlations\")\n",
    "plt.show()\n",
    "plt.close()"
   ]
  },
  {
   "cell_type": "code",
   "execution_count": null,
   "id": "817aa208",
   "metadata": {},
   "outputs": [],
   "source": [
    "# Categorical variable analysis\n",
    "fig, axes = plt.subplots(2, 2, figsize=(15, 10))\n",
    "\n",
    "# Department distribution\n",
    "df['department'].value_counts().plot(kind='bar', ax=axes[0,0], title='Department Distribution')\n",
    "axes[0,0].tick_params(axis='x', rotation=45)\n",
    "\n",
    "# Satisfaction distribution\n",
    "df['satisfaction'].value_counts().sort_index().plot(kind='bar', ax=axes[0,1], title='Satisfaction Distribution')\n",
    "\n",
    "# Performance by Department\n",
    "sns.boxplot(data=df, x='department', y='performance_score', ax=axes[1,0])\n",
    "axes[1,0].set_title('Performance by Department')\n",
    "axes[1,0].tick_params(axis='x', rotation=45)\n",
    "\n",
    "# Income by Department\n",
    "sns.boxplot(data=df, x='department', y='income', ax=axes[1,1])\n",
    "axes[1,1].set_title('Income by Department')\n",
    "axes[1,1].tick_params(axis='x', rotation=45)\n",
    "\n",
    "plt.tight_layout()\n",
    "plt.show()"
   ]
  },
  {
   "cell_type": "markdown",
   "id": "66ed90bd",
   "metadata": {},
   "source": [
    "## Statistical Analysis\n",
    "\n",
    "Conduct comprehensive statistical analysis with assumption checking."
   ]
  },
  {
   "cell_type": "code",
   "execution_count": null,
   "id": "495c3735",
   "metadata": {},
   "outputs": [],
   "source": [
    "# Check normality assumptions\n",
    "analyzer = StatisticalAnalyzer()\n",
    "normality_results = analyzer.check_assumptions(df, numeric_vars, 'normality')\n",
    "\n",
    "print(\"Normality Test Results:\")\n",
    "for var, result in normality_results.items():\n",
    "    print(f\"\\n{var}:\")\n",
    "    print(f\"  Statistic: {result['statistic']:.4f}\")\n",
    "    print(f\"  p-value: {result['p_value']:.4f}\")\n",
    "    print(f\"  Interpretation: {result['interpretation']}\")"
   ]
  },
  {
   "cell_type": "code",
   "execution_count": null,
   "id": "2e49bd81",
   "metadata": {},
   "outputs": [],
   "source": [
    "# Compare performance across departments using ANOVA\n",
    "from scipy.stats import f_oneway\n",
    "\n",
    "# Prepare data for ANOVA\n",
    "dept_groups = []\n",
    "dept_names = []\n",
    "\n",
    "for dept in df['department'].unique():\n",
    "    dept_data = df[df['department'] == dept]['performance_score'].dropna()\n",
    "    if len(dept_data) > 0:\n",
    "        dept_groups.append(dept_data)\n",
    "        dept_names.append(dept)\n",
    "\n",
    "# Perform ANOVA\n",
    "f_stat, p_value = f_oneway(*dept_groups)\n",
    "\n",
    "print(f\"One-Way ANOVA: Performance by Department\")\n",
    "print(f\"F-statistic: {f_stat:.4f}\")\n",
    "print(f\"p-value: {p_value:.4f}\")\n",
    "print(f\"Significant difference: {'Yes' if p_value < 0.05 else 'No'}\")\n",
    "\n",
    "# Calculate effect size (eta-squared)\n",
    "# This is a simplified calculation - for production use, consider using statsmodels\n",
    "total_variance = df['performance_score'].var()\n",
    "between_variance = sum([len(group) * (group.mean() - df['performance_score'].mean())**2 \n",
    "                       for group in dept_groups]) / (len(dept_groups) - 1)\n",
    "eta_squared = between_variance / total_variance\n",
    "print(f\"Effect size (eta-squared): {eta_squared:.4f}\")"
   ]
  },
  {
   "cell_type": "code",
   "execution_count": null,
   "id": "d329e415",
   "metadata": {},
   "outputs": [],
   "source": [
    "# Correlation analysis with significance testing\n",
    "from scipy.stats import pearsonr, spearmanr\n",
    "\n",
    "# Test correlation between age and performance\n",
    "clean_data = df[['age', 'performance_score']].dropna()\n",
    "pearson_r, pearson_p = pearsonr(clean_data['age'], clean_data['performance_score'])\n",
    "spearman_r, spearman_p = spearmanr(clean_data['age'], clean_data['performance_score'])\n",
    "\n",
    "print(\"Correlation Analysis: Age vs Performance Score\")\n",
    "print(f\"Pearson correlation: r = {pearson_r:.4f}, p = {pearson_p:.4f}\")\n",
    "print(f\"Spearman correlation: ρ = {spearman_r:.4f}, p = {spearman_p:.4f}\")\n",
    "\n",
    "# Test correlation between education and income\n",
    "clean_data2 = df[['education_years', 'income']].dropna()\n",
    "if len(clean_data2) > 0:\n",
    "    pearson_r2, pearson_p2 = pearsonr(clean_data2['education_years'], clean_data2['income'])\n",
    "    print(f\"\\nCorrelation Analysis: Education vs Income\")\n",
    "    print(f\"Pearson correlation: r = {pearson_r2:.4f}, p = {pearson_p2:.4f}\")"
   ]
  },
  {
   "cell_type": "markdown",
   "id": "ebbf12bb",
   "metadata": {},
   "source": [
    "## Advanced Visualization\n",
    "\n",
    "Create publication-quality visualizations and interactive dashboards."
   ]
  },
  {
   "cell_type": "code",
   "execution_count": null,
   "id": "43c9eb72",
   "metadata": {},
   "outputs": [],
   "source": [
    "# Create comprehensive comparison plots\n",
    "fig = viz.create_comparison_plot(\n",
    "    data=df,\n",
    "    x_var='age',\n",
    "    y_var='performance_score',\n",
    "    group_var='department',\n",
    "    plot_type='scatter'\n",
    ")\n",
    "plt.show()\n",
    "plt.close()"
   ]
  },
  {
   "cell_type": "code",
   "execution_count": null,
   "id": "79efbaec",
   "metadata": {},
   "outputs": [],
   "source": [
    "# Create interactive dashboard\n",
    "dashboard = InteractiveDashboard()\n",
    "interactive_fig = dashboard.create_overview_dashboard(df)\n",
    "interactive_fig.show()"
   ]
  },
  {
   "cell_type": "markdown",
   "id": "4d72a931",
   "metadata": {},
   "source": [
    "## Results and Conclusions\n",
    "\n",
    "### Key Findings\n",
    "\n",
    "1. **Data Quality**: The dataset contains 500 observations with minimal missing data (10% in income variable)\n",
    "\n",
    "2. **Distribution Analysis**: \n",
    "   - Age follows approximately normal distribution\n",
    "   - Performance scores show slight positive skew\n",
    "   - Income data requires attention due to missing values\n",
    "\n",
    "3. **Departmental Differences**: \n",
    "   - ANOVA results indicate significant differences in performance across departments\n",
    "   - Effect size suggests practical significance of these differences\n",
    "\n",
    "4. **Correlations**:\n",
    "   - Moderate correlation between education and income\n",
    "   - Weak correlation between age and performance\n",
    "\n",
    "### Recommendations\n",
    "\n",
    "1. **Data Collection**: Address missing income data through improved data collection procedures\n",
    "2. **Further Analysis**: Conduct post-hoc tests to identify specific departmental differences\n",
    "3. **Predictive Modeling**: Develop models to predict performance based on available variables\n",
    "4. **Longitudinal Study**: Consider collecting time-series data for trend analysis\n",
    "\n",
    "### Methodology Notes\n",
    "\n",
    "- All analyses followed enterprise-grade statistical standards\n",
    "- Assumptions were checked before applying parametric tests\n",
    "- Effect sizes reported alongside significance tests\n",
    "- Multiple comparison corrections applied where appropriate\n",
    "\n",
    "---\n",
    "\n",
    "**Analysis completed using Enterprise Data Analysis Cognitive Architecture v1.0**  \n",
    "**Next steps**: Deploy findings to stakeholder dashboards and schedule follow-up analysis"
   ]
  },
  {
   "cell_type": "code",
   "execution_count": null,
   "id": "4febd6cf",
   "metadata": {},
   "outputs": [],
   "source": [
    "# Save key results for reporting\n",
    "results_summary = {\n",
    "    'dataset_info': {\n",
    "        'rows': len(df),\n",
    "        'columns': len(df.columns),\n",
    "        'missing_data': df.isnull().sum().sum()\n",
    "    },\n",
    "    'key_statistics': {\n",
    "        'mean_performance': df['performance_score'].mean(),\n",
    "        'performance_std': df['performance_score'].std(),\n",
    "        'anova_f_stat': f_stat,\n",
    "        'anova_p_value': p_value\n",
    "    },\n",
    "    'correlations': {\n",
    "        'age_performance_r': pearson_r,\n",
    "        'age_performance_p': pearson_p\n",
    "    }\n",
    "}\n",
    "\n",
    "# Save to file\n",
    "import json\n",
    "with open('../data/output/analysis_results.json', 'w') as f:\n",
    "    json.dump(results_summary, f, indent=2)\n",
    "\n",
    "print(\"Analysis results saved to data/output/analysis_results.json\")\n",
    "print(\"\\nSummary:\")\n",
    "for key, value in results_summary.items():\n",
    "    print(f\"{key}: {value}\")"
   ]
  }
 ],
 "metadata": {
  "language_info": {
   "name": "python"
  }
 },
 "nbformat": 4,
 "nbformat_minor": 5
}
